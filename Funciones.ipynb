{
  "nbformat": 4,
  "nbformat_minor": 0,
  "metadata": {
    "colab": {
      "provenance": [],
      "authorship_tag": "ABX9TyPWJdEmVWV7UovIx4b0Xw1n",
      "include_colab_link": true
    },
    "kernelspec": {
      "name": "python3",
      "display_name": "Python 3"
    },
    "language_info": {
      "name": "python"
    }
  },
  "cells": [
    {
      "cell_type": "markdown",
      "metadata": {
        "id": "view-in-github",
        "colab_type": "text"
      },
      "source": [
        "<a href=\"https://colab.research.google.com/github/FabianC22/Dimplomado_Ciencia_Datos/blob/main/Funciones.ipynb\" target=\"_parent\"><img src=\"https://colab.research.google.com/assets/colab-badge.svg\" alt=\"Open In Colab\"/></a>"
      ]
    },
    {
      "cell_type": "markdown",
      "source": [
        "# **Taller 2, Funciones**\n",
        "\n",
        "\n",
        "\n"
      ],
      "metadata": {
        "id": "72LRB0QrikaC"
      }
    },
    {
      "cell_type": "markdown",
      "source": [
        "1. Escriba una función  que reciba la fecha de nacimiento de una persona y calcule la edad de la persona"
      ],
      "metadata": {
        "id": "41dRpsryjRex"
      }
    },
    {
      "cell_type": "code",
      "source": [
        "from datetime import datetime\n",
        "from dateutil.relativedelta import relativedelta\n",
        "\n",
        "def edad(año,mes,dia):\n",
        "  edad = relativedelta(datetime.now(), datetime(año,mes,dia))\n",
        "  print(f\"{edad.years} años, {edad.months} meses y {edad.days} días\")\n",
        "\n",
        "\n",
        "edad(2000,8,22)"
      ],
      "metadata": {
        "colab": {
          "base_uri": "https://localhost:8080/"
        },
        "id": "gXTKSXGOjNvB",
        "outputId": "41f69766-412f-49b3-fa32-5042d38b57db"
      },
      "execution_count": 8,
      "outputs": [
        {
          "output_type": "stream",
          "name": "stdout",
          "text": [
            "22 años, 5 meses y 29 días\n"
          ]
        }
      ]
    },
    {
      "cell_type": "markdown",
      "source": [
        "2. Crea una función EscribirCentrado, que reciba como parámetro un texto y lo escriba centrado en pantalla (suponiendo una anchura de 80 columnas; pista: deberás escribir 40 - longitud/2 espacios antes del texto). "
      ],
      "metadata": {
        "id": "lrqDJxYUlXWC"
      }
    },
    {
      "cell_type": "code",
      "source": [],
      "metadata": {
        "id": "VQosXi3hleAI"
      },
      "execution_count": null,
      "outputs": []
    }
  ]
}