{
  "nbformat": 4,
  "nbformat_minor": 0,
  "metadata": {
    "colab": {
      "provenance": [],
      "authorship_tag": "ABX9TyNlqIvX4K/MOp1QCHJkmGw7",
      "include_colab_link": true
    },
    "kernelspec": {
      "name": "python3",
      "display_name": "Python 3"
    },
    "language_info": {
      "name": "python"
    }
  },
  "cells": [
    {
      "cell_type": "markdown",
      "metadata": {
        "id": "view-in-github",
        "colab_type": "text"
      },
      "source": [
        "<a href=\"https://colab.research.google.com/github/FabianC22/Dimplomado_Ciencia_Datos/blob/main/Funciones.ipynb\" target=\"_parent\"><img src=\"https://colab.research.google.com/assets/colab-badge.svg\" alt=\"Open In Colab\"/></a>"
      ]
    },
    {
      "cell_type": "markdown",
      "source": [
        "# **Taller 2, Funciones**\n",
        "\n",
        "\n",
        "\n"
      ],
      "metadata": {
        "id": "72LRB0QrikaC"
      }
    },
    {
      "cell_type": "markdown",
      "source": [
        "1. Escriba una función  que reciba la fecha de nacimiento de un a persona y calcule la edad de la persona"
      ],
      "metadata": {
        "id": "41dRpsryjRex"
      }
    },
    {
      "cell_type": "code",
      "source": [
        "import numpy as np\n",
        "import pandas as pd\n",
        "import datetime "
      ],
      "metadata": {
        "id": "gXTKSXGOjNvB"
      },
      "execution_count": 2,
      "outputs": []
    }
  ]
}