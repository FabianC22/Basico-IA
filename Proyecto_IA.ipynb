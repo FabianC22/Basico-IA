{
  "cells": [
    {
      "cell_type": "markdown",
      "metadata": {
        "id": "view-in-github",
        "colab_type": "text"
      },
      "source": [
        "<a href=\"https://colab.research.google.com/github/FabianC22/Dimplomado_Ciencia_Datos/blob/main/Proyecto_IA.ipynb\" target=\"_parent\"><img src=\"https://colab.research.google.com/assets/colab-badge.svg\" alt=\"Open In Colab\"/></a>"
      ]
    },
    {
      "cell_type": "code",
      "execution_count": 1,
      "metadata": {
        "id": "P4jcNKUPxU_D"
      },
      "outputs": [],
      "source": [
        "import os\n",
        "from os import scandir \n",
        "import pandas as pd\n",
        "import numpy as np\n",
        "from pandas import ExcelWriter\n",
        "\n",
        "# Visualization libraries\n",
        "import matplotlib.pyplot as plt\n",
        "import matplotlib\n",
        "from matplotlib.colors import ListedColormap\n",
        "import seaborn as sns\n",
        "\n",
        "# modelado\n",
        "from sklearn.preprocessing import  StandardScaler\n",
        "from sklearn.model_selection import train_test_split\n",
        "from sklearn.model_selection import RepeatedStratifiedKFold,RandomizedSearchCV\n",
        "from sklearn.ensemble import RandomForestClassifier\n",
        "\n",
        "import tensorflow as tf\n",
        "from tensorflow import keras\n"
      ]
    },
    {
      "cell_type": "code",
      "execution_count": 2,
      "metadata": {
        "id": "nSX3FutUx3bD"
      },
      "outputs": [],
      "source": [
        "# Pallets used for visualizations\n",
        "color= \"Spectral\"\n",
        "color_plt = ListedColormap(sns.color_palette(color).as_hex())\n",
        "color_hist = 'teal'\n",
        "two_colors = [ sns.color_palette(color)[0], sns.color_palette(color)[5]]\n",
        "three_colors = [ sns.color_palette(color)[5],sns.color_palette(color)[2], sns.color_palette(color)[0]]\n",
        "\n"
      ]
    },
    {
      "cell_type": "code",
      "execution_count": 4,
      "metadata": {
        "id": "Qh0pwUMRyBin"
      },
      "outputs": [],
      "source": [
        "name_excel='Cancer.xlsx'\n",
        "sheet='METABRIC_RNA_Mutation'\n",
        "Datos_General=pd.read_excel(name_excel, sheet,index_col=\"patient_id\")"
      ]
    },
    {
      "cell_type": "code",
      "execution_count": 5,
      "metadata": {
        "colab": {
          "base_uri": "https://localhost:8080/",
          "height": 488
        },
        "id": "tfTLG0hiyrji",
        "outputId": "5d2b8468-1669-493b-af83-9f8c07512408"
      },
      "outputs": [
        {
          "output_type": "execute_result",
          "data": {
            "text/plain": [
              "                                Total_NaN  Percent_Nan\n",
              "tumor_stage                           501     0.263130\n",
              "3-gene_classifier_subtype             204     0.107143\n",
              "primary_tumor_laterality              106     0.055672\n",
              "neoplasm_histologic_grade              72     0.037815\n",
              "cellularity                            54     0.028361\n",
              "mutation_count                         45     0.023634\n",
              "er_status_measured_by_ihc              30     0.015756\n",
              "type_of_breast_surgery                 22     0.011555\n",
              "tumor_size                             20     0.010504\n",
              "oncotree_code                          15     0.007878\n",
              "tumor_other_histologic_subtype         15     0.007878\n",
              "cancer_type_detailed                   15     0.007878\n",
              "death_from_cancer                       1     0.000525\n",
              "birc6                                   0     0.000000"
            ],
            "text/html": [
              "\n",
              "  <div id=\"df-831ba29c-6c14-4ae9-8575-8d7559ae127f\">\n",
              "    <div class=\"colab-df-container\">\n",
              "      <div>\n",
              "<style scoped>\n",
              "    .dataframe tbody tr th:only-of-type {\n",
              "        vertical-align: middle;\n",
              "    }\n",
              "\n",
              "    .dataframe tbody tr th {\n",
              "        vertical-align: top;\n",
              "    }\n",
              "\n",
              "    .dataframe thead th {\n",
              "        text-align: right;\n",
              "    }\n",
              "</style>\n",
              "<table border=\"1\" class=\"dataframe\">\n",
              "  <thead>\n",
              "    <tr style=\"text-align: right;\">\n",
              "      <th></th>\n",
              "      <th>Total_NaN</th>\n",
              "      <th>Percent_Nan</th>\n",
              "    </tr>\n",
              "  </thead>\n",
              "  <tbody>\n",
              "    <tr>\n",
              "      <th>tumor_stage</th>\n",
              "      <td>501</td>\n",
              "      <td>0.263130</td>\n",
              "    </tr>\n",
              "    <tr>\n",
              "      <th>3-gene_classifier_subtype</th>\n",
              "      <td>204</td>\n",
              "      <td>0.107143</td>\n",
              "    </tr>\n",
              "    <tr>\n",
              "      <th>primary_tumor_laterality</th>\n",
              "      <td>106</td>\n",
              "      <td>0.055672</td>\n",
              "    </tr>\n",
              "    <tr>\n",
              "      <th>neoplasm_histologic_grade</th>\n",
              "      <td>72</td>\n",
              "      <td>0.037815</td>\n",
              "    </tr>\n",
              "    <tr>\n",
              "      <th>cellularity</th>\n",
              "      <td>54</td>\n",
              "      <td>0.028361</td>\n",
              "    </tr>\n",
              "    <tr>\n",
              "      <th>mutation_count</th>\n",
              "      <td>45</td>\n",
              "      <td>0.023634</td>\n",
              "    </tr>\n",
              "    <tr>\n",
              "      <th>er_status_measured_by_ihc</th>\n",
              "      <td>30</td>\n",
              "      <td>0.015756</td>\n",
              "    </tr>\n",
              "    <tr>\n",
              "      <th>type_of_breast_surgery</th>\n",
              "      <td>22</td>\n",
              "      <td>0.011555</td>\n",
              "    </tr>\n",
              "    <tr>\n",
              "      <th>tumor_size</th>\n",
              "      <td>20</td>\n",
              "      <td>0.010504</td>\n",
              "    </tr>\n",
              "    <tr>\n",
              "      <th>oncotree_code</th>\n",
              "      <td>15</td>\n",
              "      <td>0.007878</td>\n",
              "    </tr>\n",
              "    <tr>\n",
              "      <th>tumor_other_histologic_subtype</th>\n",
              "      <td>15</td>\n",
              "      <td>0.007878</td>\n",
              "    </tr>\n",
              "    <tr>\n",
              "      <th>cancer_type_detailed</th>\n",
              "      <td>15</td>\n",
              "      <td>0.007878</td>\n",
              "    </tr>\n",
              "    <tr>\n",
              "      <th>death_from_cancer</th>\n",
              "      <td>1</td>\n",
              "      <td>0.000525</td>\n",
              "    </tr>\n",
              "    <tr>\n",
              "      <th>birc6</th>\n",
              "      <td>0</td>\n",
              "      <td>0.000000</td>\n",
              "    </tr>\n",
              "  </tbody>\n",
              "</table>\n",
              "</div>\n",
              "      <button class=\"colab-df-convert\" onclick=\"convertToInteractive('df-831ba29c-6c14-4ae9-8575-8d7559ae127f')\"\n",
              "              title=\"Convert this dataframe to an interactive table.\"\n",
              "              style=\"display:none;\">\n",
              "        \n",
              "  <svg xmlns=\"http://www.w3.org/2000/svg\" height=\"24px\"viewBox=\"0 0 24 24\"\n",
              "       width=\"24px\">\n",
              "    <path d=\"M0 0h24v24H0V0z\" fill=\"none\"/>\n",
              "    <path d=\"M18.56 5.44l.94 2.06.94-2.06 2.06-.94-2.06-.94-.94-2.06-.94 2.06-2.06.94zm-11 1L8.5 8.5l.94-2.06 2.06-.94-2.06-.94L8.5 2.5l-.94 2.06-2.06.94zm10 10l.94 2.06.94-2.06 2.06-.94-2.06-.94-.94-2.06-.94 2.06-2.06.94z\"/><path d=\"M17.41 7.96l-1.37-1.37c-.4-.4-.92-.59-1.43-.59-.52 0-1.04.2-1.43.59L10.3 9.45l-7.72 7.72c-.78.78-.78 2.05 0 2.83L4 21.41c.39.39.9.59 1.41.59.51 0 1.02-.2 1.41-.59l7.78-7.78 2.81-2.81c.8-.78.8-2.07 0-2.86zM5.41 20L4 18.59l7.72-7.72 1.47 1.35L5.41 20z\"/>\n",
              "  </svg>\n",
              "      </button>\n",
              "      \n",
              "  <style>\n",
              "    .colab-df-container {\n",
              "      display:flex;\n",
              "      flex-wrap:wrap;\n",
              "      gap: 12px;\n",
              "    }\n",
              "\n",
              "    .colab-df-convert {\n",
              "      background-color: #E8F0FE;\n",
              "      border: none;\n",
              "      border-radius: 50%;\n",
              "      cursor: pointer;\n",
              "      display: none;\n",
              "      fill: #1967D2;\n",
              "      height: 32px;\n",
              "      padding: 0 0 0 0;\n",
              "      width: 32px;\n",
              "    }\n",
              "\n",
              "    .colab-df-convert:hover {\n",
              "      background-color: #E2EBFA;\n",
              "      box-shadow: 0px 1px 2px rgba(60, 64, 67, 0.3), 0px 1px 3px 1px rgba(60, 64, 67, 0.15);\n",
              "      fill: #174EA6;\n",
              "    }\n",
              "\n",
              "    [theme=dark] .colab-df-convert {\n",
              "      background-color: #3B4455;\n",
              "      fill: #D2E3FC;\n",
              "    }\n",
              "\n",
              "    [theme=dark] .colab-df-convert:hover {\n",
              "      background-color: #434B5C;\n",
              "      box-shadow: 0px 1px 3px 1px rgba(0, 0, 0, 0.15);\n",
              "      filter: drop-shadow(0px 1px 2px rgba(0, 0, 0, 0.3));\n",
              "      fill: #FFFFFF;\n",
              "    }\n",
              "  </style>\n",
              "\n",
              "      <script>\n",
              "        const buttonEl =\n",
              "          document.querySelector('#df-831ba29c-6c14-4ae9-8575-8d7559ae127f button.colab-df-convert');\n",
              "        buttonEl.style.display =\n",
              "          google.colab.kernel.accessAllowed ? 'block' : 'none';\n",
              "\n",
              "        async function convertToInteractive(key) {\n",
              "          const element = document.querySelector('#df-831ba29c-6c14-4ae9-8575-8d7559ae127f');\n",
              "          const dataTable =\n",
              "            await google.colab.kernel.invokeFunction('convertToInteractive',\n",
              "                                                     [key], {});\n",
              "          if (!dataTable) return;\n",
              "\n",
              "          const docLinkHtml = 'Like what you see? Visit the ' +\n",
              "            '<a target=\"_blank\" href=https://colab.research.google.com/notebooks/data_table.ipynb>data table notebook</a>'\n",
              "            + ' to learn more about interactive tables.';\n",
              "          element.innerHTML = '';\n",
              "          dataTable['output_type'] = 'display_data';\n",
              "          await google.colab.output.renderOutput(dataTable, element);\n",
              "          const docLink = document.createElement('div');\n",
              "          docLink.innerHTML = docLinkHtml;\n",
              "          element.appendChild(docLink);\n",
              "        }\n",
              "      </script>\n",
              "    </div>\n",
              "  </div>\n",
              "  "
            ]
          },
          "metadata": {},
          "execution_count": 5
        }
      ],
      "source": [
        "#cantidad de NaN en el data set\n",
        "total = Datos_General.isnull().sum().sort_values(ascending = False)\n",
        "percent = (Datos_General.isnull().sum() / Datos_General.isnull().count()).sort_values(ascending=False)\n",
        "missing_data = pd.concat([total, percent], axis = 1, keys = ['Total_NaN', 'Percent_Nan'])\n",
        "missing_data.head(14)\n"
      ]
    },
    {
      "cell_type": "code",
      "execution_count": 6,
      "metadata": {
        "colab": {
          "base_uri": "https://localhost:8080/"
        },
        "id": "FtjIHtTJyuUS",
        "outputId": "30460ef3-c878-4e1c-e168-6e7a6b5269bc"
      },
      "outputs": [
        {
          "output_type": "stream",
          "name": "stdout",
          "text": [
            "<class 'pandas.core.frame.DataFrame'>\n",
            "Int64Index: 1904 entries, 0 to 7299\n",
            "Data columns (total 30 columns):\n",
            " #   Column                          Non-Null Count  Dtype  \n",
            "---  ------                          --------------  -----  \n",
            " 0   age_at_diagnosis                1904 non-null   float64\n",
            " 1   type_of_breast_surgery          1882 non-null   object \n",
            " 2   cancer_type                     1904 non-null   object \n",
            " 3   cancer_type_detailed            1889 non-null   object \n",
            " 4   cellularity                     1850 non-null   object \n",
            " 5   chemotherapy                    1904 non-null   int64  \n",
            " 6   pam50_+_claudin-low_subtype     1904 non-null   object \n",
            " 7   cohort                          1904 non-null   int64  \n",
            " 8   er_status_measured_by_ihc       1874 non-null   object \n",
            " 9   er_status                       1904 non-null   object \n",
            " 10  neoplasm_histologic_grade       1832 non-null   float64\n",
            " 11  her2_status_measured_by_snp6    1904 non-null   object \n",
            " 12  her2_status                     1904 non-null   object \n",
            " 13  tumor_other_histologic_subtype  1889 non-null   object \n",
            " 14  hormone_therapy                 1904 non-null   int64  \n",
            " 15  inferred_menopausal_state       1904 non-null   object \n",
            " 16  integrative_cluster             1904 non-null   object \n",
            " 17  primary_tumor_laterality        1798 non-null   object \n",
            " 18  lymph_nodes_examined_positive   1904 non-null   int64  \n",
            " 19  mutation_count                  1859 non-null   float64\n",
            " 20  nottingham_prognostic_index     1904 non-null   float64\n",
            " 21  oncotree_code                   1889 non-null   object \n",
            " 22  overall_survival_months         1904 non-null   float64\n",
            " 23  overall_survival                1904 non-null   int64  \n",
            " 24  pr_status                       1904 non-null   object \n",
            " 25  radio_therapy                   1904 non-null   int64  \n",
            " 26  3-gene_classifier_subtype       1700 non-null   object \n",
            " 27  tumor_size                      1884 non-null   float64\n",
            " 28  tumor_stage                     1403 non-null   float64\n",
            " 29  death_from_cancer               1903 non-null   object \n",
            "dtypes: float64(7), int64(6), object(17)\n",
            "memory usage: 461.1+ KB\n"
          ]
        }
      ],
      "source": [
        "clinical_features_to_drop = Datos_General.columns[30:] # non clinical attributes\n",
        "clinical_Datos_General = Datos_General.drop(clinical_features_to_drop, axis=1)\n",
        "clinical_Datos_General.head()    \n",
        "\n",
        "clinical_Datos_General.info()    \n",
        "\n",
        "clinical_Datos_General = clinical_Datos_General.dropna()\n"
      ]
    },
    {
      "cell_type": "code",
      "execution_count": 7,
      "metadata": {
        "id": "Cvy0cgrJy0j7"
      },
      "outputs": [],
      "source": [
        "### convertir a variables Dummy las categoricas\n",
        "type_of_breast_surgery = pd.get_dummies(clinical_Datos_General['type_of_breast_surgery']) #\n",
        "cancer_type = pd.get_dummies(clinical_Datos_General['cancer_type'])#\n",
        "cancer_type_detailed= pd.get_dummies(clinical_Datos_General['cancer_type_detailed']) #\n",
        "cellularity= pd.get_dummies(clinical_Datos_General['cellularity']) #\n",
        "clinical_Datos_General['pam50_+_claudin-low_subtype'] = clinical_Datos_General['pam50_+_claudin-low_subtype'].rename('pam50_claudin low_subtype')\n",
        "pam50_claudin_low_subtype= pd.get_dummies(clinical_Datos_General['pam50_+_claudin-low_subtype']) #\n",
        "er_status_measured_by_ihc= pd.get_dummies(clinical_Datos_General['er_status_measured_by_ihc']) #\n",
        "er_status = pd.get_dummies(clinical_Datos_General['er_status']) #\n",
        "her2_status_measured_by_snp6 = pd.get_dummies(clinical_Datos_General['her2_status_measured_by_snp6']) #\n",
        "her2_status= pd.get_dummies(clinical_Datos_General['her2_status']) #\n",
        "tumor_other_histologic_subtype= pd.get_dummies(clinical_Datos_General['tumor_other_histologic_subtype']) #\n",
        "inferred_menopausal_state = pd.get_dummies(clinical_Datos_General[\"inferred_menopausal_state\"])#\n",
        "integrative_cluster = pd.get_dummies(clinical_Datos_General['integrative_cluster']) #\n",
        "primary_tumor_laterality = pd.get_dummies(clinical_Datos_General['primary_tumor_laterality']) #\n",
        "oncotree_code = pd.get_dummies(clinical_Datos_General['oncotree_code']) #\n",
        "pr_status= pd.get_dummies(clinical_Datos_General['pr_status']) #\n",
        "three_gene_classifier_subtype = pd.get_dummies(clinical_Datos_General['3-gene_classifier_subtype'])\n",
        "death_from_cancer = pd.get_dummies(clinical_Datos_General['death_from_cancer'])\n",
        "result = pd.concat([type_of_breast_surgery, cancer_type,\n",
        "                    cancer_type_detailed,cellularity,\n",
        "                    pam50_claudin_low_subtype,er_status_measured_by_ihc,\n",
        "                    er_status,her2_status_measured_by_snp6,her2_status,\n",
        "                    tumor_other_histologic_subtype,inferred_menopausal_state,\n",
        "                    integrative_cluster,primary_tumor_laterality,oncotree_code,\n",
        "                    pr_status,three_gene_classifier_subtype,death_from_cancer],axis=1 )\n",
        "\n",
        "Target=pd.DataFrame(clinical_Datos_General[\"overall_survival\"],index=clinical_Datos_General.index)\n",
        "\n",
        "Datos=clinical_Datos_General.drop(['type_of_breast_surgery','cancer_type','cancer_type_detailed',\n",
        "                                   'cellularity','pam50_+_claudin-low_subtype','er_status_measured_by_ihc',\n",
        "                                   'er_status','her2_status_measured_by_snp6', 'her2_status',\n",
        "                                   'tumor_other_histologic_subtype',\"inferred_menopausal_state\",\n",
        "                                   'integrative_cluster','primary_tumor_laterality','oncotree_code',\n",
        "                                   'pr_status','3-gene_classifier_subtype','death_from_cancer',\"overall_survival\"], axis=1)\n",
        "\n",
        "\n",
        "Datos=pd.concat([Datos,result,Target],axis=1)"
      ]
    },
    {
      "cell_type": "code",
      "execution_count": 8,
      "metadata": {
        "id": "2PHY757ry--_"
      },
      "outputs": [],
      "source": [
        "##### dividir los datos en entrenamiento y prueba\n",
        "\n",
        "X_train, X_test, Y_train, Y_test = train_test_split(Datos.iloc[0:,:76],\n",
        "                                             Datos[\"overall_survival\"], random_state=36545808,\n",
        "                                             test_size=0.3, shuffle=False)\n",
        "\n",
        "\n",
        "X_train=X_train.astype(\"float\")\n",
        "X_test=X_test.astype(\"float\")\n"
      ]
    },
    {
      "cell_type": "code",
      "source": [
        "!pip install keras_tuner"
      ],
      "metadata": {
        "colab": {
          "base_uri": "https://localhost:8080/"
        },
        "id": "xttIsYXGi9AG",
        "outputId": "073af1de-cb9d-4329-c14a-727d58ca8843"
      },
      "execution_count": 11,
      "outputs": [
        {
          "output_type": "stream",
          "name": "stdout",
          "text": [
            "Looking in indexes: https://pypi.org/simple, https://us-python.pkg.dev/colab-wheels/public/simple/\n",
            "Collecting keras_tuner\n",
            "  Downloading keras_tuner-1.3.5-py3-none-any.whl (176 kB)\n",
            "\u001b[2K     \u001b[90m━━━━━━━━━━━━━━━━━━━━━━━━━━━━━━━━━━━━━━━\u001b[0m \u001b[32m176.1/176.1 kB\u001b[0m \u001b[31m8.3 MB/s\u001b[0m eta \u001b[36m0:00:00\u001b[0m\n",
            "\u001b[?25hRequirement already satisfied: packaging in /usr/local/lib/python3.10/dist-packages (from keras_tuner) (23.1)\n",
            "Requirement already satisfied: requests in /usr/local/lib/python3.10/dist-packages (from keras_tuner) (2.27.1)\n",
            "Collecting kt-legacy (from keras_tuner)\n",
            "  Downloading kt_legacy-1.0.5-py3-none-any.whl (9.6 kB)\n",
            "Requirement already satisfied: urllib3<1.27,>=1.21.1 in /usr/local/lib/python3.10/dist-packages (from requests->keras_tuner) (1.26.15)\n",
            "Requirement already satisfied: certifi>=2017.4.17 in /usr/local/lib/python3.10/dist-packages (from requests->keras_tuner) (2022.12.7)\n",
            "Requirement already satisfied: charset-normalizer~=2.0.0 in /usr/local/lib/python3.10/dist-packages (from requests->keras_tuner) (2.0.12)\n",
            "Requirement already satisfied: idna<4,>=2.5 in /usr/local/lib/python3.10/dist-packages (from requests->keras_tuner) (3.4)\n",
            "Installing collected packages: kt-legacy, keras_tuner\n",
            "Successfully installed keras_tuner-1.3.5 kt-legacy-1.0.5\n"
          ]
        }
      ]
    },
    {
      "cell_type": "code",
      "source": [
        "############## Red Neuronal para historial clinico ###################\n",
        "\n",
        "########### Tuning ##########\n",
        "\n",
        "from tensorflow import keras\n",
        "import keras_tuner as kt\n",
        "from tensorflow.keras import layers\n",
        "\n",
        "\n",
        "def build_model(hp):\n",
        "    model = keras.Sequential()\n",
        "    model.add(layers.Dense(units=hp.Int(\"num_units\", min_value=32, max_value=564, step=32),\n",
        "                activation=hp.Choice(\"activation\", [\"relu\"])))\n",
        "    # Tune the number of layers.\n",
        "    for i in range(hp.Int(\"num_layers\", 1, 5)):\n",
        "        model.add(\n",
        "            layers.Dense(\n",
        "                # Tune number of units separately.\n",
        "                units=hp.Int(f\"units_{i}\", min_value=32, max_value=564, step=32),\n",
        "                activation=hp.Choice(\"activation\", [\"relu\"]),\n",
        "            )\n",
        "        )\n",
        "    if hp.Boolean(\"dropout\"):\n",
        "        model.add(layers.Dropout(rate=0.25))\n",
        "    model.add(layers.Dense(1, activation=\"sigmoid\"))\n",
        "    #learning_rate = hp.Float(\"lr\", min_value=1e-4, max_value=1e-2, sampling=\"log\")\n",
        "    model.compile(\n",
        "        loss=tf.keras.losses.binary_crossentropy,\n",
        "        optimizer='adam',\n",
        "        metrics=[\n",
        "        tf.keras.metrics.BinaryAccuracy(name='accuracy'),\n",
        "        tf.keras.metrics.Precision(name='precision'),\n",
        "        tf.keras.metrics.Recall(name='recall')]\n",
        "    )\n",
        "    return model\n",
        "\n",
        "build_model(kt.HyperParameters())"
      ],
      "metadata": {
        "colab": {
          "base_uri": "https://localhost:8080/"
        },
        "id": "uEL4CU2zh-2h",
        "outputId": "ba26fc0d-b29a-4f26-ab99-45dbec34d4db"
      },
      "execution_count": 12,
      "outputs": [
        {
          "output_type": "execute_result",
          "data": {
            "text/plain": [
              "<keras.engine.sequential.Sequential at 0x7f319780c550>"
            ]
          },
          "metadata": {},
          "execution_count": 12
        }
      ]
    },
    {
      "cell_type": "code",
      "source": [
        "tuner_RandomSearch_mlp = kt.RandomSearch(\n",
        "    hypermodel=build_model,\n",
        "    objective=\"val_loss\",\n",
        "    max_trials=10,\n",
        "    executions_per_trial=1,\n",
        "    overwrite=True,\n",
        "    directory=\"C:/Users/fabia/OneDrive/Documentos/UNAL/IA/salida\",\n",
        "    project_name=\"modelo\",\n",
        ")"
      ],
      "metadata": {
        "id": "wT0p6gp0jFUe"
      },
      "execution_count": 18,
      "outputs": []
    },
    {
      "cell_type": "code",
      "source": [
        "stop_early = tf.keras.callbacks.EarlyStopping(monitor='val_loss', patience=5)\n"
      ],
      "metadata": {
        "id": "duckZv_3jJzO"
      },
      "execution_count": 19,
      "outputs": []
    },
    {
      "cell_type": "code",
      "source": [
        "tuner_RandomSearch_mlp.search(X_train, Y_train, epochs=50, validation_split=0.2, callbacks=[stop_early])"
      ],
      "metadata": {
        "colab": {
          "base_uri": "https://localhost:8080/"
        },
        "id": "hajZavVnjLtK",
        "outputId": "61b3426d-0d21-43e2-b43d-f81922457524"
      },
      "execution_count": 20,
      "outputs": [
        {
          "output_type": "stream",
          "name": "stdout",
          "text": [
            "Trial 10 Complete [00h 00m 03s]\n",
            "val_loss: 0.46929502487182617\n",
            "\n",
            "Best val_loss So Far: 0.0005405099946074188\n",
            "Total elapsed time: 00h 01m 26s\n"
          ]
        }
      ]
    },
    {
      "cell_type": "code",
      "source": [
        "best_hps=tuner_RandomSearch_mlp.get_best_hyperparameters(num_trials=1)[0]\n",
        "best_hps"
      ],
      "metadata": {
        "colab": {
          "base_uri": "https://localhost:8080/"
        },
        "id": "1CnTkIsRjYVP",
        "outputId": "849a8da2-219c-4046-a3af-e51c12da4757"
      },
      "execution_count": 22,
      "outputs": [
        {
          "output_type": "execute_result",
          "data": {
            "text/plain": [
              "<keras_tuner.engine.hyperparameters.hyperparameters.HyperParameters at 0x7f31960e1540>"
            ]
          },
          "metadata": {},
          "execution_count": 22
        }
      ]
    },
    {
      "cell_type": "code",
      "source": [
        "### entrenar el modelo\n",
        "\n",
        "# Build the model with the optimal hyperparameters and train it on the data for 50 epochs\n",
        "model = tuner_RandomSearch_mlp.hypermodel.build(best_hps)\n",
        "\n",
        "history = model.fit(X_train, Y_train, epochs=50, validation_split=0.2)\n"
      ],
      "metadata": {
        "colab": {
          "base_uri": "https://localhost:8080/"
        },
        "id": "scgucEZmj9Gy",
        "outputId": "5747425b-380b-48fa-fa1f-ee2ce8a57c7d"
      },
      "execution_count": 23,
      "outputs": [
        {
          "output_type": "stream",
          "name": "stdout",
          "text": [
            "Epoch 1/50\n",
            "20/20 [==============================] - 4s 69ms/step - loss: 0.6955 - accuracy: 0.6236 - precision: 0.6093 - recall: 0.7524 - val_loss: 0.6456 - val_accuracy: 0.5425 - val_precision: 0.4071 - val_recall: 0.9388\n",
            "Epoch 2/50\n",
            "20/20 [==============================] - 0s 13ms/step - loss: 0.5879 - accuracy: 0.6939 - precision: 0.6839 - recall: 0.7556 - val_loss: 0.4762 - val_accuracy: 0.7778 - val_precision: 0.6154 - val_recall: 0.8163\n",
            "Epoch 3/50\n",
            "20/20 [==============================] - 0s 13ms/step - loss: 0.5984 - accuracy: 0.6972 - precision: 0.6923 - recall: 0.7429 - val_loss: 0.5603 - val_accuracy: 0.6993 - val_precision: 0.5172 - val_recall: 0.9184\n",
            "Epoch 4/50\n",
            "20/20 [==============================] - 0s 14ms/step - loss: 0.5660 - accuracy: 0.7119 - precision: 0.6894 - recall: 0.8032 - val_loss: 0.5872 - val_accuracy: 0.6144 - val_precision: 0.4510 - val_recall: 0.9388\n",
            "Epoch 5/50\n",
            "20/20 [==============================] - 0s 17ms/step - loss: 0.5908 - accuracy: 0.6890 - precision: 0.6791 - recall: 0.7524 - val_loss: 0.6503 - val_accuracy: 0.6013 - val_precision: 0.4423 - val_recall: 0.9388\n",
            "Epoch 6/50\n",
            "20/20 [==============================] - 0s 19ms/step - loss: 0.5957 - accuracy: 0.7152 - precision: 0.6715 - recall: 0.8762 - val_loss: 0.5374 - val_accuracy: 0.7190 - val_precision: 0.5357 - val_recall: 0.9184\n",
            "Epoch 7/50\n",
            "20/20 [==============================] - 0s 22ms/step - loss: 0.5730 - accuracy: 0.7185 - precision: 0.6765 - recall: 0.8698 - val_loss: 0.6033 - val_accuracy: 0.6209 - val_precision: 0.4554 - val_recall: 0.9388\n",
            "Epoch 8/50\n",
            "20/20 [==============================] - 0s 20ms/step - loss: 0.5266 - accuracy: 0.7267 - precision: 0.6850 - recall: 0.8698 - val_loss: 0.6715 - val_accuracy: 0.6013 - val_precision: 0.4423 - val_recall: 0.9388\n",
            "Epoch 9/50\n",
            "20/20 [==============================] - 0s 21ms/step - loss: 0.5134 - accuracy: 0.7430 - precision: 0.6946 - recall: 0.8952 - val_loss: 0.5636 - val_accuracy: 0.6340 - val_precision: 0.4646 - val_recall: 0.9388\n",
            "Epoch 10/50\n",
            "20/20 [==============================] - 0s 20ms/step - loss: 0.5110 - accuracy: 0.7627 - precision: 0.7157 - recall: 0.8952 - val_loss: 0.4234 - val_accuracy: 0.7908 - val_precision: 0.6349 - val_recall: 0.8163\n",
            "Epoch 11/50\n",
            "20/20 [==============================] - 0s 23ms/step - loss: 0.4201 - accuracy: 0.8396 - precision: 0.8109 - recall: 0.8984 - val_loss: 0.3392 - val_accuracy: 0.8562 - val_precision: 0.8000 - val_recall: 0.7347\n",
            "Epoch 12/50\n",
            "20/20 [==============================] - 0s 16ms/step - loss: 0.3560 - accuracy: 0.8723 - precision: 0.8301 - recall: 0.9460 - val_loss: 0.8816 - val_accuracy: 0.7190 - val_precision: 0.8750 - val_recall: 0.1429\n",
            "Epoch 13/50\n",
            "20/20 [==============================] - 0s 15ms/step - loss: 0.5022 - accuracy: 0.7725 - precision: 0.7222 - recall: 0.9079 - val_loss: 0.3762 - val_accuracy: 0.8497 - val_precision: 0.7708 - val_recall: 0.7551\n",
            "Epoch 14/50\n",
            "20/20 [==============================] - 0s 13ms/step - loss: 0.3062 - accuracy: 0.9100 - precision: 0.9037 - recall: 0.9238 - val_loss: 0.2723 - val_accuracy: 0.8954 - val_precision: 0.7705 - val_recall: 0.9592\n",
            "Epoch 15/50\n",
            "20/20 [==============================] - 0s 13ms/step - loss: 0.5544 - accuracy: 0.7987 - precision: 0.7487 - recall: 0.9175 - val_loss: 0.7612 - val_accuracy: 0.5621 - val_precision: 0.4224 - val_recall: 1.0000\n",
            "Epoch 16/50\n",
            "20/20 [==============================] - 0s 13ms/step - loss: 0.4016 - accuracy: 0.8265 - precision: 0.7673 - recall: 0.9524 - val_loss: 0.3373 - val_accuracy: 0.8562 - val_precision: 0.7213 - val_recall: 0.8980\n",
            "Epoch 17/50\n",
            "20/20 [==============================] - 0s 13ms/step - loss: 0.1468 - accuracy: 0.9591 - precision: 0.9394 - recall: 0.9841 - val_loss: 0.1321 - val_accuracy: 0.9673 - val_precision: 0.9400 - val_recall: 0.9592\n",
            "Epoch 18/50\n",
            "20/20 [==============================] - 0s 13ms/step - loss: 0.4274 - accuracy: 0.8642 - precision: 0.8494 - recall: 0.8952 - val_loss: 0.2671 - val_accuracy: 0.8889 - val_precision: 0.7759 - val_recall: 0.9184\n",
            "Epoch 19/50\n",
            "20/20 [==============================] - 0s 13ms/step - loss: 0.1269 - accuracy: 0.9525 - precision: 0.9256 - recall: 0.9873 - val_loss: 0.0305 - val_accuracy: 0.9935 - val_precision: 0.9800 - val_recall: 1.0000\n",
            "Epoch 20/50\n",
            "20/20 [==============================] - 0s 12ms/step - loss: 0.0197 - accuracy: 0.9951 - precision: 0.9968 - recall: 0.9937 - val_loss: 0.2565 - val_accuracy: 0.9085 - val_precision: 1.0000 - val_recall: 0.7143\n",
            "Epoch 21/50\n",
            "20/20 [==============================] - 0s 13ms/step - loss: 0.0330 - accuracy: 0.9902 - precision: 0.9905 - recall: 0.9905 - val_loss: 0.0940 - val_accuracy: 0.9673 - val_precision: 0.9074 - val_recall: 1.0000\n",
            "Epoch 22/50\n",
            "20/20 [==============================] - 0s 13ms/step - loss: 0.0144 - accuracy: 0.9984 - precision: 0.9968 - recall: 1.0000 - val_loss: 0.0528 - val_accuracy: 0.9804 - val_precision: 0.9423 - val_recall: 1.0000\n",
            "Epoch 23/50\n",
            "20/20 [==============================] - 0s 13ms/step - loss: 0.0104 - accuracy: 0.9967 - precision: 0.9968 - recall: 0.9968 - val_loss: 0.0693 - val_accuracy: 0.9804 - val_precision: 0.9423 - val_recall: 1.0000\n",
            "Epoch 24/50\n",
            "20/20 [==============================] - 0s 13ms/step - loss: 0.0185 - accuracy: 0.9935 - precision: 0.9905 - recall: 0.9968 - val_loss: 0.0166 - val_accuracy: 1.0000 - val_precision: 1.0000 - val_recall: 1.0000\n",
            "Epoch 25/50\n",
            "20/20 [==============================] - 0s 13ms/step - loss: 0.0025 - accuracy: 1.0000 - precision: 1.0000 - recall: 1.0000 - val_loss: 0.0262 - val_accuracy: 0.9869 - val_precision: 0.9608 - val_recall: 1.0000\n",
            "Epoch 26/50\n",
            "20/20 [==============================] - 0s 13ms/step - loss: 0.2454 - accuracy: 0.9525 - precision: 0.9441 - recall: 0.9651 - val_loss: 0.1612 - val_accuracy: 0.9477 - val_precision: 0.9556 - val_recall: 0.8776\n",
            "Epoch 27/50\n",
            "20/20 [==============================] - 0s 14ms/step - loss: 0.0897 - accuracy: 0.9738 - precision: 0.9517 - recall: 1.0000 - val_loss: 0.0095 - val_accuracy: 1.0000 - val_precision: 1.0000 - val_recall: 1.0000\n",
            "Epoch 28/50\n",
            "20/20 [==============================] - 0s 13ms/step - loss: 0.0077 - accuracy: 0.9951 - precision: 0.9937 - recall: 0.9968 - val_loss: 0.1028 - val_accuracy: 0.9739 - val_precision: 0.9245 - val_recall: 1.0000\n",
            "Epoch 29/50\n",
            "20/20 [==============================] - 0s 14ms/step - loss: 0.0140 - accuracy: 0.9984 - precision: 0.9968 - recall: 1.0000 - val_loss: 0.0156 - val_accuracy: 0.9935 - val_precision: 0.9800 - val_recall: 1.0000\n",
            "Epoch 30/50\n",
            "20/20 [==============================] - 0s 12ms/step - loss: 1.9731e-04 - accuracy: 1.0000 - precision: 1.0000 - recall: 1.0000 - val_loss: 3.2661e-04 - val_accuracy: 1.0000 - val_precision: 1.0000 - val_recall: 1.0000\n",
            "Epoch 31/50\n",
            "20/20 [==============================] - 0s 13ms/step - loss: 7.3347e-05 - accuracy: 1.0000 - precision: 1.0000 - recall: 1.0000 - val_loss: 0.0015 - val_accuracy: 1.0000 - val_precision: 1.0000 - val_recall: 1.0000\n",
            "Epoch 32/50\n",
            "20/20 [==============================] - 0s 12ms/step - loss: 0.0093 - accuracy: 0.9984 - precision: 0.9968 - recall: 1.0000 - val_loss: 4.4840 - val_accuracy: 0.6863 - val_precision: 1.0000 - val_recall: 0.0204\n",
            "Epoch 33/50\n",
            "20/20 [==============================] - 0s 13ms/step - loss: 0.7573 - accuracy: 0.8462 - precision: 0.8299 - recall: 0.8825 - val_loss: 0.1255 - val_accuracy: 0.9608 - val_precision: 0.9388 - val_recall: 0.9388\n",
            "Epoch 34/50\n",
            "20/20 [==============================] - 0s 14ms/step - loss: 0.0294 - accuracy: 0.9935 - precision: 0.9905 - recall: 0.9968 - val_loss: 0.0183 - val_accuracy: 0.9935 - val_precision: 0.9800 - val_recall: 1.0000\n",
            "Epoch 35/50\n",
            "20/20 [==============================] - 0s 12ms/step - loss: 0.0464 - accuracy: 0.9853 - precision: 0.9811 - recall: 0.9905 - val_loss: 0.5074 - val_accuracy: 0.8301 - val_precision: 1.0000 - val_recall: 0.4694\n",
            "Epoch 36/50\n",
            "20/20 [==============================] - 0s 12ms/step - loss: 0.0632 - accuracy: 0.9820 - precision: 0.9841 - recall: 0.9810 - val_loss: 0.0717 - val_accuracy: 0.9673 - val_precision: 1.0000 - val_recall: 0.8980\n",
            "Epoch 37/50\n",
            "20/20 [==============================] - 0s 13ms/step - loss: 0.0081 - accuracy: 0.9984 - precision: 0.9968 - recall: 1.0000 - val_loss: 0.0027 - val_accuracy: 1.0000 - val_precision: 1.0000 - val_recall: 1.0000\n",
            "Epoch 38/50\n",
            "20/20 [==============================] - 0s 12ms/step - loss: 8.2210e-04 - accuracy: 1.0000 - precision: 1.0000 - recall: 1.0000 - val_loss: 2.1647e-04 - val_accuracy: 1.0000 - val_precision: 1.0000 - val_recall: 1.0000\n",
            "Epoch 39/50\n",
            "20/20 [==============================] - 0s 12ms/step - loss: 3.6060e-04 - accuracy: 1.0000 - precision: 1.0000 - recall: 1.0000 - val_loss: 0.0020 - val_accuracy: 1.0000 - val_precision: 1.0000 - val_recall: 1.0000\n",
            "Epoch 40/50\n",
            "20/20 [==============================] - 0s 15ms/step - loss: 1.0385e-04 - accuracy: 1.0000 - precision: 1.0000 - recall: 1.0000 - val_loss: 7.3274e-04 - val_accuracy: 1.0000 - val_precision: 1.0000 - val_recall: 1.0000\n",
            "Epoch 41/50\n",
            "20/20 [==============================] - 0s 12ms/step - loss: 4.0237e-05 - accuracy: 1.0000 - precision: 1.0000 - recall: 1.0000 - val_loss: 3.3444e-04 - val_accuracy: 1.0000 - val_precision: 1.0000 - val_recall: 1.0000\n",
            "Epoch 42/50\n",
            "20/20 [==============================] - 0s 13ms/step - loss: 2.2513e-05 - accuracy: 1.0000 - precision: 1.0000 - recall: 1.0000 - val_loss: 2.3450e-04 - val_accuracy: 1.0000 - val_precision: 1.0000 - val_recall: 1.0000\n",
            "Epoch 43/50\n",
            "20/20 [==============================] - 0s 13ms/step - loss: 1.5519e-05 - accuracy: 1.0000 - precision: 1.0000 - recall: 1.0000 - val_loss: 1.8845e-04 - val_accuracy: 1.0000 - val_precision: 1.0000 - val_recall: 1.0000\n",
            "Epoch 44/50\n",
            "20/20 [==============================] - 0s 13ms/step - loss: 1.1510e-05 - accuracy: 1.0000 - precision: 1.0000 - recall: 1.0000 - val_loss: 1.5362e-04 - val_accuracy: 1.0000 - val_precision: 1.0000 - val_recall: 1.0000\n",
            "Epoch 45/50\n",
            "20/20 [==============================] - 0s 13ms/step - loss: 8.6386e-06 - accuracy: 1.0000 - precision: 1.0000 - recall: 1.0000 - val_loss: 1.2233e-04 - val_accuracy: 1.0000 - val_precision: 1.0000 - val_recall: 1.0000\n",
            "Epoch 46/50\n",
            "20/20 [==============================] - 0s 13ms/step - loss: 6.6537e-06 - accuracy: 1.0000 - precision: 1.0000 - recall: 1.0000 - val_loss: 1.0267e-04 - val_accuracy: 1.0000 - val_precision: 1.0000 - val_recall: 1.0000\n",
            "Epoch 47/50\n",
            "20/20 [==============================] - 0s 12ms/step - loss: 5.0719e-06 - accuracy: 1.0000 - precision: 1.0000 - recall: 1.0000 - val_loss: 8.3059e-05 - val_accuracy: 1.0000 - val_precision: 1.0000 - val_recall: 1.0000\n",
            "Epoch 48/50\n",
            "20/20 [==============================] - 0s 13ms/step - loss: 3.9581e-06 - accuracy: 1.0000 - precision: 1.0000 - recall: 1.0000 - val_loss: 6.9459e-05 - val_accuracy: 1.0000 - val_precision: 1.0000 - val_recall: 1.0000\n",
            "Epoch 49/50\n",
            "20/20 [==============================] - 0s 13ms/step - loss: 3.1042e-06 - accuracy: 1.0000 - precision: 1.0000 - recall: 1.0000 - val_loss: 7.0428e-05 - val_accuracy: 1.0000 - val_precision: 1.0000 - val_recall: 1.0000\n",
            "Epoch 50/50\n",
            "20/20 [==============================] - 0s 21ms/step - loss: 2.3729e-06 - accuracy: 1.0000 - precision: 1.0000 - recall: 1.0000 - val_loss: 7.6238e-05 - val_accuracy: 1.0000 - val_precision: 1.0000 - val_recall: 1.0000\n"
          ]
        }
      ]
    },
    {
      "cell_type": "code",
      "source": [
        "val_acc_per_epoch = history.history['val_loss']\n",
        "best_epoch = val_acc_per_epoch.index(max(val_acc_per_epoch)) + 1\n",
        "print('Best epoch: %d' % (best_epoch,))\n"
      ],
      "metadata": {
        "colab": {
          "base_uri": "https://localhost:8080/"
        },
        "id": "QI5i71pRkGI_",
        "outputId": "8e604848-2745-4022-f307-09d61254da93"
      },
      "execution_count": 24,
      "outputs": [
        {
          "output_type": "stream",
          "name": "stdout",
          "text": [
            "Best epoch: 32\n"
          ]
        }
      ]
    },
    {
      "cell_type": "code",
      "source": [
        "hypermodel = tuner_RandomSearch_mlp.hypermodel.build(best_hps)"
      ],
      "metadata": {
        "id": "KKJzZG7wkK5S"
      },
      "execution_count": 35,
      "outputs": []
    },
    {
      "cell_type": "code",
      "source": [
        "hypermodel.fit(X_train, Y_train, epochs=best_epoch, validation_split=0.2)"
      ],
      "metadata": {
        "colab": {
          "base_uri": "https://localhost:8080/"
        },
        "id": "xgIaQD4MkT0a",
        "outputId": "e5911d35-94a0-45ac-bdab-3c093c2c36fa"
      },
      "execution_count": 46,
      "outputs": [
        {
          "output_type": "stream",
          "name": "stdout",
          "text": [
            "Epoch 1/32\n",
            "20/20 [==============================] - 2s 27ms/step - loss: 0.7676 - accuracy: 0.6547 - precision: 0.7047 - recall: 0.5683 - val_loss: 2.5040 - val_accuracy: 0.4771 - val_precision: 0.3798 - val_recall: 1.0000\n",
            "Epoch 2/32\n",
            "20/20 [==============================] - 0s 13ms/step - loss: 0.7444 - accuracy: 0.6236 - precision: 0.6375 - recall: 0.6254 - val_loss: 0.6549 - val_accuracy: 0.6405 - val_precision: 0.4694 - val_recall: 0.9388\n",
            "Epoch 3/32\n",
            "20/20 [==============================] - 0s 14ms/step - loss: 0.6116 - accuracy: 0.6628 - precision: 0.6940 - recall: 0.6190 - val_loss: 0.7349 - val_accuracy: 0.5752 - val_precision: 0.4259 - val_recall: 0.9388\n",
            "Epoch 4/32\n",
            "20/20 [==============================] - 0s 14ms/step - loss: 0.5764 - accuracy: 0.7234 - precision: 0.7051 - recall: 0.7968 - val_loss: 0.7210 - val_accuracy: 0.6144 - val_precision: 0.4510 - val_recall: 0.9388\n",
            "Epoch 5/32\n",
            "20/20 [==============================] - 0s 13ms/step - loss: 0.5708 - accuracy: 0.7218 - precision: 0.7114 - recall: 0.7746 - val_loss: 0.8490 - val_accuracy: 0.5752 - val_precision: 0.4259 - val_recall: 0.9388\n",
            "Epoch 6/32\n",
            "20/20 [==============================] - 0s 14ms/step - loss: 0.5638 - accuracy: 0.7054 - precision: 0.6800 - recall: 0.8095 - val_loss: 0.4982 - val_accuracy: 0.7582 - val_precision: 0.5811 - val_recall: 0.8776\n",
            "Epoch 7/32\n",
            "20/20 [==============================] - 0s 14ms/step - loss: 0.5533 - accuracy: 0.7070 - precision: 0.7036 - recall: 0.7460 - val_loss: 0.5578 - val_accuracy: 0.7908 - val_precision: 0.6232 - val_recall: 0.8776\n",
            "Epoch 8/32\n",
            "20/20 [==============================] - 0s 13ms/step - loss: 0.5396 - accuracy: 0.7512 - precision: 0.7726 - recall: 0.7333 - val_loss: 0.5301 - val_accuracy: 0.7451 - val_precision: 0.5625 - val_recall: 0.9184\n",
            "Epoch 9/32\n",
            "20/20 [==============================] - 0s 13ms/step - loss: 0.5104 - accuracy: 0.7692 - precision: 0.7544 - recall: 0.8190 - val_loss: 0.4070 - val_accuracy: 0.8301 - val_precision: 0.6949 - val_recall: 0.8367\n",
            "Epoch 10/32\n",
            "20/20 [==============================] - 0s 13ms/step - loss: 0.3877 - accuracy: 0.8331 - precision: 0.8218 - recall: 0.8635 - val_loss: 0.7905 - val_accuracy: 0.7451 - val_precision: 0.5610 - val_recall: 0.9388\n",
            "Epoch 11/32\n",
            "20/20 [==============================] - 0s 14ms/step - loss: 0.4288 - accuracy: 0.8347 - precision: 0.8242 - recall: 0.8635 - val_loss: 0.3123 - val_accuracy: 0.8954 - val_precision: 0.7797 - val_recall: 0.9388\n",
            "Epoch 12/32\n",
            "20/20 [==============================] - 0s 13ms/step - loss: 0.2296 - accuracy: 0.9067 - precision: 0.8886 - recall: 0.9365 - val_loss: 0.1728 - val_accuracy: 0.9542 - val_precision: 0.9375 - val_recall: 0.9184\n",
            "Epoch 13/32\n",
            "20/20 [==============================] - 0s 13ms/step - loss: 0.1528 - accuracy: 0.9476 - precision: 0.9464 - recall: 0.9524 - val_loss: 0.0734 - val_accuracy: 0.9804 - val_precision: 0.9792 - val_recall: 0.9592\n",
            "Epoch 14/32\n",
            "20/20 [==============================] - 0s 12ms/step - loss: 0.0732 - accuracy: 0.9738 - precision: 0.9657 - recall: 0.9841 - val_loss: 0.1071 - val_accuracy: 0.9739 - val_precision: 1.0000 - val_recall: 0.9184\n",
            "Epoch 15/32\n",
            "20/20 [==============================] - 0s 12ms/step - loss: 0.1607 - accuracy: 0.9378 - precision: 0.9342 - recall: 0.9460 - val_loss: 0.1281 - val_accuracy: 0.9477 - val_precision: 0.8596 - val_recall: 1.0000\n",
            "Epoch 16/32\n",
            "20/20 [==============================] - 0s 13ms/step - loss: 0.0496 - accuracy: 0.9836 - precision: 0.9811 - recall: 0.9873 - val_loss: 0.1763 - val_accuracy: 0.9346 - val_precision: 0.8305 - val_recall: 1.0000\n",
            "Epoch 17/32\n",
            "20/20 [==============================] - 0s 12ms/step - loss: 0.1148 - accuracy: 0.9574 - precision: 0.9617 - recall: 0.9556 - val_loss: 0.1760 - val_accuracy: 0.9216 - val_precision: 0.8033 - val_recall: 1.0000\n",
            "Epoch 18/32\n",
            "20/20 [==============================] - 0s 13ms/step - loss: 0.0454 - accuracy: 0.9820 - precision: 0.9810 - recall: 0.9841 - val_loss: 0.0661 - val_accuracy: 0.9739 - val_precision: 1.0000 - val_recall: 0.9184\n",
            "Epoch 19/32\n",
            "20/20 [==============================] - 0s 13ms/step - loss: 0.0041 - accuracy: 0.9984 - precision: 1.0000 - recall: 0.9968 - val_loss: 0.0016 - val_accuracy: 1.0000 - val_precision: 1.0000 - val_recall: 1.0000\n",
            "Epoch 20/32\n",
            "20/20 [==============================] - 0s 13ms/step - loss: 4.2890e-04 - accuracy: 1.0000 - precision: 1.0000 - recall: 1.0000 - val_loss: 0.0062 - val_accuracy: 1.0000 - val_precision: 1.0000 - val_recall: 1.0000\n",
            "Epoch 21/32\n",
            "20/20 [==============================] - 0s 13ms/step - loss: 1.6262e-04 - accuracy: 1.0000 - precision: 1.0000 - recall: 1.0000 - val_loss: 2.5371e-04 - val_accuracy: 1.0000 - val_precision: 1.0000 - val_recall: 1.0000\n",
            "Epoch 22/32\n",
            "20/20 [==============================] - 0s 13ms/step - loss: 0.4044 - accuracy: 0.9280 - precision: 0.8974 - recall: 0.9714 - val_loss: 0.1841 - val_accuracy: 0.9412 - val_precision: 0.9167 - val_recall: 0.8980\n",
            "Epoch 23/32\n",
            "20/20 [==============================] - 0s 13ms/step - loss: 0.1781 - accuracy: 0.9525 - precision: 0.9469 - recall: 0.9619 - val_loss: 0.1052 - val_accuracy: 0.9739 - val_precision: 1.0000 - val_recall: 0.9184\n",
            "Epoch 24/32\n",
            "20/20 [==============================] - 0s 13ms/step - loss: 0.0530 - accuracy: 0.9804 - precision: 0.9810 - recall: 0.9810 - val_loss: 0.0316 - val_accuracy: 0.9869 - val_precision: 0.9608 - val_recall: 1.0000\n",
            "Epoch 25/32\n",
            "20/20 [==============================] - 0s 18ms/step - loss: 0.0606 - accuracy: 0.9771 - precision: 0.9688 - recall: 0.9873 - val_loss: 0.5017 - val_accuracy: 0.7908 - val_precision: 1.0000 - val_recall: 0.3469\n",
            "Epoch 26/32\n",
            "20/20 [==============================] - 0s 21ms/step - loss: 0.0488 - accuracy: 0.9853 - precision: 0.9873 - recall: 0.9841 - val_loss: 0.0074 - val_accuracy: 1.0000 - val_precision: 1.0000 - val_recall: 1.0000\n",
            "Epoch 27/32\n",
            "20/20 [==============================] - 0s 20ms/step - loss: 0.0058 - accuracy: 0.9967 - precision: 0.9937 - recall: 1.0000 - val_loss: 0.0031 - val_accuracy: 1.0000 - val_precision: 1.0000 - val_recall: 1.0000\n",
            "Epoch 28/32\n",
            "20/20 [==============================] - 0s 21ms/step - loss: 4.2545e-04 - accuracy: 1.0000 - precision: 1.0000 - recall: 1.0000 - val_loss: 3.8365e-04 - val_accuracy: 1.0000 - val_precision: 1.0000 - val_recall: 1.0000\n",
            "Epoch 29/32\n",
            "20/20 [==============================] - 0s 21ms/step - loss: 1.0903e-04 - accuracy: 1.0000 - precision: 1.0000 - recall: 1.0000 - val_loss: 6.1241e-05 - val_accuracy: 1.0000 - val_precision: 1.0000 - val_recall: 1.0000\n",
            "Epoch 30/32\n",
            "20/20 [==============================] - 0s 22ms/step - loss: 2.6382e-05 - accuracy: 1.0000 - precision: 1.0000 - recall: 1.0000 - val_loss: 4.7321e-05 - val_accuracy: 1.0000 - val_precision: 1.0000 - val_recall: 1.0000\n",
            "Epoch 31/32\n",
            "20/20 [==============================] - 0s 21ms/step - loss: 8.1754e-06 - accuracy: 1.0000 - precision: 1.0000 - recall: 1.0000 - val_loss: 6.0897e-05 - val_accuracy: 1.0000 - val_precision: 1.0000 - val_recall: 1.0000\n",
            "Epoch 32/32\n",
            "20/20 [==============================] - 0s 14ms/step - loss: 4.5007e-06 - accuracy: 1.0000 - precision: 1.0000 - recall: 1.0000 - val_loss: 1.7564e-05 - val_accuracy: 1.0000 - val_precision: 1.0000 - val_recall: 1.0000\n"
          ]
        },
        {
          "output_type": "execute_result",
          "data": {
            "text/plain": [
              "<keras.callbacks.History at 0x7f3196aa7880>"
            ]
          },
          "metadata": {},
          "execution_count": 46
        }
      ]
    },
    {
      "cell_type": "code",
      "source": [
        "hypermodel.summary()"
      ],
      "metadata": {
        "colab": {
          "base_uri": "https://localhost:8080/"
        },
        "id": "sifFi3Qisnpm",
        "outputId": "cbeb347b-c337-45cf-f513-185293b49564"
      },
      "execution_count": 72,
      "outputs": [
        {
          "output_type": "stream",
          "name": "stdout",
          "text": [
            "Model: \"sequential_6\"\n",
            "_________________________________________________________________\n",
            " Layer (type)                Output Shape              Param #   \n",
            "=================================================================\n",
            " dense_40 (Dense)            (None, 288)               22176     \n",
            "                                                                 \n",
            " dense_41 (Dense)            (None, 544)               157216    \n",
            "                                                                 \n",
            " dense_42 (Dense)            (None, 384)               209280    \n",
            "                                                                 \n",
            " dense_43 (Dense)            (None, 416)               160160    \n",
            "                                                                 \n",
            " dense_44 (Dense)            (None, 32)                13344     \n",
            "                                                                 \n",
            " dense_45 (Dense)            (None, 32)                1056      \n",
            "                                                                 \n",
            " dense_46 (Dense)            (None, 1)                 33        \n",
            "                                                                 \n",
            "=================================================================\n",
            "Total params: 563,265\n",
            "Trainable params: 563,265\n",
            "Non-trainable params: 0\n",
            "_________________________________________________________________\n"
          ]
        }
      ]
    },
    {
      "cell_type": "code",
      "source": [
        "eval_result = hypermodel.evaluate(X_test, Y_test)"
      ],
      "metadata": {
        "colab": {
          "base_uri": "https://localhost:8080/"
        },
        "id": "7tFF_L4vli1E",
        "outputId": "0af3e066-9fe4-4bdf-87d9-f424a4fa4885"
      },
      "execution_count": 47,
      "outputs": [
        {
          "output_type": "stream",
          "name": "stdout",
          "text": [
            "11/11 [==============================] - 0s 3ms/step - loss: 0.0656 - accuracy: 0.9939 - precision: 1.0000 - recall: 0.9833\n"
          ]
        }
      ]
    },
    {
      "cell_type": "code",
      "source": [
        "import matplotlib.pyplot as plt\n",
        "from matplotlib import rcParams\n",
        "\n",
        "rcParams['figure.figsize'] = (18, 8)\n",
        "rcParams['axes.spines.top'] = False\n",
        "rcParams['axes.spines.right'] = False\n",
        "\n",
        "\n",
        "plt.plot(\n",
        "    #np.arange(1, 3), \n",
        "    history.history['loss'], label='Loss'\n",
        ")\n",
        "plt.plot(\n",
        "    #np.arange(1, best_epoch), \n",
        "    history.history['accuracy'], label='Accuracy'\n",
        ")\n",
        "plt.plot(\n",
        "    #np.arange(1, best_epoch), \n",
        "    history.history['precision'], label='Precision'\n",
        ")\n",
        "plt.plot(\n",
        "    #np.arange(1, best_epoch), \n",
        "    history.history['recall'], label='Recall'\n",
        ")\n",
        "plt.title('Evaluation metrics', size=20)\n",
        "plt.xlabel('Epoch', size=14)\n",
        "plt.legend();\n"
      ],
      "metadata": {
        "colab": {
          "base_uri": "https://localhost:8080/",
          "height": 604
        },
        "id": "PmaLp2HFlnBX",
        "outputId": "31ea2d7e-9a1d-41f5-ba43-f4354749c556"
      },
      "execution_count": 48,
      "outputs": [
        {
          "output_type": "display_data",
          "data": {
            "text/plain": [
              "<Figure size 1800x800 with 1 Axes>"
            ],
            "image/png": "[encoded data removed]"
          },
          "metadata": {}
        }
      ]
    },
    {
      "cell_type": "code",
      "source": [
        "import numpy as np\n",
        "from sklearn.metrics import accuracy_score, confusion_matrix\n",
        "\n",
        "# Obtener las predicciones del modelo para los datos de prueba\n",
        "y_pred = hypermodel.predict(X_test) \n",
        "\n",
        "prediction_classes = [\n",
        "    1 if prob > 0.5 else 0 for prob in np.ravel(y_pred)\n",
        "]\n",
        "\n",
        "# Calcular la precisión\n",
        "accuracy = accuracy_score(Y_test,prediction_classes)\n",
        "print('Precisión en los datos de prueba:', accuracy)\n",
        "\n",
        "# Calcular la matriz de confusión\n",
        "confusion = confusion_matrix(Y_test,prediction_classes)\n",
        "print('Matriz de confusión:')\n",
        "print(confusion)\n"
      ],
      "metadata": {
        "colab": {
          "base_uri": "https://localhost:8080/"
        },
        "id": "A38Hi7QNlqoB",
        "outputId": "8e81bde1-59af-41f0-8767-c7d80966fabb"
      },
      "execution_count": 49,
      "outputs": [
        {
          "output_type": "stream",
          "name": "stdout",
          "text": [
            "11/11 [==============================] - 0s 5ms/step\n",
            "Precisión en los datos de prueba: 0.9939024390243902\n",
            "Matriz de confusión:\n",
            "[[208   0]\n",
            " [  2 118]]\n"
          ]
        }
      ]
    },
    {
      "cell_type": "code",
      "source": [
        "\n",
        "############## Ramdon Forest para historial clinico ###################\n",
        "\n",
        "\n",
        "random_state_v2 = 254605\n",
        "N=5\n",
        "nIter = 25\n",
        "kf = RepeatedStratifiedKFold(n_splits=N, n_repeats=10, random_state=random_state_v2)\n",
        "AUC_DATA_RF=pd.DataFrame(columns=['Variable criterion', 'Variable n_estimators',\n",
        "                                  'Variable max_features', 'Variable max_depth',\n",
        "                                  'Variable min_samples_split', 'Variable min_samples_leaf','MEDIA_RF','STD_RF'],index=range(1,1+nIter))\n",
        "\n",
        "# Parametros de tuning RF\n",
        "criterion = ['gini', 'entropy']\n",
        "n_estimators = np.arange(50,1000,10)\n",
        "max_features = ['auto', 'sqrt', 'log2'] \n",
        "max_depth = [int(x) for x in np.linspace(10, 110, num = 11)];max_depth.append(None)\n",
        "# min_samples_split = [int(x) for x in np.linspace(4, 40, num = 18)]\n",
        "min_samples_split = np.concatenate([[0.01], np.linspace(0.1,1,10)])  \n",
        "# min_samples_leaf = [x for x in np.linspace(start = 0, stop = 1, num = 50)]\n",
        "min_samples_leaf = np.concatenate([[0.01], np.linspace(0.1,0.5,5)])  \n",
        "\n",
        "random_grid = {'criterion': criterion,\n",
        "               'n_estimators': n_estimators,\n",
        "                'max_features': max_features, \n",
        "                'max_depth': max_depth,\n",
        "                'min_samples_split': min_samples_split,\n",
        "                'min_samples_leaf': min_samples_leaf}     \n",
        "#Ramdon forest base  \n",
        "random_forest = RandomForestClassifier(min_weight_fraction_leaf=0.0, # Same as above, but uses the class weights.                                \n",
        "                            max_leaf_nodes=None, # Maximum number of nodes.\n",
        "                            # max_depth=None, # Max depth of the trees. Not necessary to change.\n",
        "                            min_impurity_decrease=0.0003, # Minimum impurity decrease. This is 10^-3.\n",
        "                            bootstrap=True, # If sample with repetition. For large samples (>100.000) set to false.\n",
        "                            oob_score=True,  # If report accuracy with non-selected cases.\n",
        "                            n_jobs=-1, # Parallel processing. Set to -1 for all cores. Watch your RAM!!\n",
        "                            random_state=random_state_v2, # Seed\n",
        "                            verbose=0, # If to give info during training. Set to 0 for silent training.\n",
        "                            warm_start=False, # If train over previously trained tree.\n",
        "                            class_weight='balanced')      \n",
        "\n",
        "\n",
        "random_forestTuning = RandomizedSearchCV(estimator = random_forest, param_distributions = random_grid, n_iter = nIter, cv = kf, verbose=1, random_state=random_state_v2, n_jobs = -1, scoring='roc_auc')\n",
        "random_forestTuning.fit(X_train,Y_train)\n",
        "\n",
        " # Resultados\n",
        "cvres2 = random_forestTuning.cv_results_ \n",
        "for i in range(1, nIter+1):\n",
        "    AUC_DATA_RF['Variable criterion'][i] = cvres2['params'][i-1]['criterion']\n",
        "    AUC_DATA_RF['Variable n_estimators'][i] = cvres2['params'][i-1]['n_estimators']\n",
        "    AUC_DATA_RF['Variable max_features'][i] = cvres2['params'][i-1]['max_features']\n",
        "    AUC_DATA_RF['Variable max_depth'][i] = cvres2['params'][i-1]['max_depth']\n",
        "    AUC_DATA_RF['Variable min_samples_split'][i] = cvres2['params'][i-1]['min_samples_split']\n",
        "    AUC_DATA_RF['Variable min_samples_leaf'][i] = cvres2['params'][i-1]['min_samples_leaf']\n",
        "    AUC_DATA_RF['MEDIA_RF'][i] = cvres2['mean_test_score'][i-1]\n",
        "    AUC_DATA_RF['STD_RF'][i] = cvres2['std_test_score'][i-1]\n",
        "\n",
        "\n",
        "try:   \n",
        "    RF_BestCho=np.array(AUC_DATA_RF.iloc[np.where(np.max(AUC_DATA_RF.iloc[:,6])==AUC_DATA_RF.iloc[:,6])[0],0:6])[0]\n",
        "except:\n",
        "    RF_BestCho = np.nan\n",
        "print('La configuración RF que genera mejor AUC es '+str(RF_BestCho))\n",
        "   \n"
      ],
      "metadata": {
        "colab": {
          "base_uri": "https://localhost:8080/"
        },
        "id": "O5XWpD95lwi3",
        "outputId": "dd30e02a-3f3f-4b65-db26-b8aa271422fb"
      },
      "execution_count": 50,
      "outputs": [
        {
          "output_type": "stream",
          "name": "stdout",
          "text": [
            "Fitting 50 folds for each of 25 candidates, totalling 1250 fits\n",
            "La configuración RF que genera mejor AUC es ['gini' 120 'log2' 80 0.1 0.01]\n"
          ]
        }
      ]
    },
    {
      "cell_type": "code",
      "source": [
        "  \n",
        "###########################################  Predicción RF ##################################################   \n",
        "random_forest = RandomForestClassifier(criterion = RF_BestCho[0],\n",
        "                                           n_estimators = RF_BestCho[1],\n",
        "                                           max_features = RF_BestCho[2], \n",
        "                                           max_depth = RF_BestCho[3],\n",
        "                                           min_samples_split = RF_BestCho[4],\n",
        "                                           min_samples_leaf = RF_BestCho[5],\n",
        "                                           min_weight_fraction_leaf=0.0, # Same as above, but uses the class weights.\n",
        "                                           max_leaf_nodes=None, # Maximum number of nodes.                                               \n",
        "                                           min_impurity_decrease=0.0003, # Minimum impurity decrease. This is 10^-3.\n",
        "                                           bootstrap=True, # If sample with repetition. For large samples (>100.000) set to false.\n",
        "                                           oob_score=True,  # If report accuracy with non-selected cases.\n",
        "                                           n_jobs=1, # Parallel processing. Set to -1 for all cores. Watch your RAM!!\n",
        "                                           random_state=random_state_v2, # Seed\n",
        "                                           verbose=0, # If to give info during training. Set to 0 for silent training.\n",
        "                                           warm_start=False, # If train over previously trained tree.\n",
        "                                           class_weight='balanced') \n",
        "\n",
        "\n",
        "result_hist = random_forest.fit(X_test,Y_test)\n",
        "\n",
        "\n",
        "Y_pred_RF_prob_histo = random_forest.predict_proba(X_test)\n",
        "Y_pred_RF_Estado_histo = random_forest.predict(X_test)\n"
      ],
      "metadata": {
        "id": "7HkM539Cl4FS"
      },
      "execution_count": 52,
      "outputs": []
    },
    {
      "cell_type": "code",
      "source": [
        "\n",
        "# Calcular la precisión\n",
        "accuracy_RF = accuracy_score(Y_test,Y_pred_RF_Estado_histo)\n",
        "print('Precisión en los datos de prueba:', accuracy_RF)\n",
        "\n",
        "\n",
        "# Calcular la matriz de confusión\n",
        "confusion_RF = confusion_matrix(Y_test,Y_pred_RF_Estado_histo)\n",
        "print('Matriz de confusión:')\n",
        "print(confusion_RF)"
      ],
      "metadata": {
        "colab": {
          "base_uri": "https://localhost:8080/"
        },
        "id": "IIq88GVfl7nA",
        "outputId": "40236859-2fb7-4a14-badb-8eecec424b3b"
      },
      "execution_count": 53,
      "outputs": [
        {
          "output_type": "stream",
          "name": "stdout",
          "text": [
            "Precisión en los datos de prueba: 1.0\n",
            "Matriz de confusión:\n",
            "[[208   0]\n",
            " [  0 120]]\n"
          ]
        }
      ]
    },
    {
      "cell_type": "code",
      "source": [
        "\n",
        "############## Red Neuronal para expresion genetica ###################\n",
        "\n",
        "\n",
        "clinical_history_to_drop = Datos_General.columns[:30] # non clinical attributes\n",
        "expresion_Datos_General = Datos_General.drop(clinical_history_to_drop, axis=1)\n",
        "expresion_Datos_General.head()    \n",
        "expresion_Datos_General.info()    \n",
        "expresion_Datos_General = expresion_Datos_General.dropna()\n",
        "Datos_expre=pd.concat([expresion_Datos_General,Target],axis=1)\n",
        "Datos_expre = Datos_expre.dropna()\n"
      ],
      "metadata": {
        "colab": {
          "base_uri": "https://localhost:8080/"
        },
        "id": "u4Ti0LOpmBZf",
        "outputId": "f785634a-010b-4f1c-9704-9762d4e878cf"
      },
      "execution_count": 73,
      "outputs": [
        {
          "output_type": "stream",
          "name": "stdout",
          "text": [
            "<class 'pandas.core.frame.DataFrame'>\n",
            "Int64Index: 1904 entries, 0 to 7299\n",
            "Columns: 488 entries, brca1 to ugt2b7\n",
            "dtypes: float64(488)\n",
            "memory usage: 7.2 MB\n"
          ]
        }
      ]
    },
    {
      "cell_type": "code",
      "source": [
        "\n",
        "##### dividir los datos en entrenamiento y prueba\n",
        "\n",
        "X_train_expre, X_test_expre, Y_train_expre, Y_test_expre = train_test_split(Datos_expre.iloc[0:,:488],\n",
        "                                             Datos_expre[\"overall_survival\"], random_state=36545808,\n",
        "                                             test_size=0.3, shuffle=False)\n",
        "\n",
        "\n",
        "X_train_expre=X_train_expre.astype(\"float\")\n",
        "X_test_expre=X_test_expre.astype(\"float\")\n"
      ],
      "metadata": {
        "id": "Zvsp5U4ZmGUv"
      },
      "execution_count": 55,
      "outputs": []
    },
    {
      "cell_type": "code",
      "source": [
        "\n",
        "\n",
        "################### Tuning\n",
        "\n",
        "from tensorflow import keras\n",
        "import keras_tuner as kt\n",
        "from tensorflow.keras import layers\n",
        "\n",
        "\n",
        "\n",
        "def build_model(hp):\n",
        "    model = keras.Sequential()\n",
        "    model.add(layers.Dense(units=hp.Int(\"num_units\", min_value=32, max_value=564, step=32),\n",
        "                activation=hp.Choice(\"activation\", [\"relu\"])))\n",
        "    # Tune the number of layers.\n",
        "    for i in range(hp.Int(\"num_layers\", 1, 5)):\n",
        "        model.add(\n",
        "            layers.Dense(\n",
        "                # Tune number of units separately.\n",
        "                units=hp.Int(f\"units_{i}\", min_value=32, max_value=564, step=32),\n",
        "                activation=hp.Choice(\"activation\", [\"relu\"]),\n",
        "            )\n",
        "        )\n",
        "    if hp.Boolean(\"dropout\"):\n",
        "        model.add(layers.Dropout(rate=0.25))\n",
        "    model.add(layers.Dense(1, activation=\"sigmoid\"))\n",
        "    #learning_rate = hp.Float(\"lr\", min_value=1e-4, max_value=1e-2, sampling=\"log\")\n",
        "    model.compile(\n",
        "        loss=tf.keras.losses.binary_crossentropy,\n",
        "        optimizer='adam',\n",
        "        metrics=[\n",
        "        tf.keras.metrics.BinaryAccuracy(name='accuracy'),\n",
        "        tf.keras.metrics.Precision(name='precision'),\n",
        "        tf.keras.metrics.Recall(name='recall')]\n",
        "    )\n",
        "    return model\n",
        "\n",
        "build_model(kt.HyperParameters())"
      ],
      "metadata": {
        "colab": {
          "base_uri": "https://localhost:8080/"
        },
        "id": "qmcZxskfmS3h",
        "outputId": "07fa694f-bf85-4220-f889-5eb5a10cad6f"
      },
      "execution_count": 56,
      "outputs": [
        {
          "output_type": "execute_result",
          "data": {
            "text/plain": [
              "<keras.engine.sequential.Sequential at 0x7f319010c640>"
            ]
          },
          "metadata": {},
          "execution_count": 56
        }
      ]
    },
    {
      "cell_type": "code",
      "source": [
        "tuner_RandomSearch_mlp = kt.RandomSearch(\n",
        "    hypermodel=build_model,\n",
        "    objective=\"val_loss\",\n",
        "    max_trials=10,\n",
        "    executions_per_trial=1,\n",
        "    overwrite=True,\n",
        "    directory=\"C:/Users/fabia/OneDrive/Documentos/UNAL/IA/salida\",\n",
        "    project_name=\"modelo1\",\n",
        ")\n"
      ],
      "metadata": {
        "id": "MRFyopzKmcSQ"
      },
      "execution_count": 57,
      "outputs": []
    },
    {
      "cell_type": "code",
      "source": [
        "stop_early = tf.keras.callbacks.EarlyStopping(monitor='val_loss', patience=5)\n"
      ],
      "metadata": {
        "id": "UXIyzlX8mfrd"
      },
      "execution_count": 58,
      "outputs": []
    },
    {
      "cell_type": "code",
      "source": [
        "tuner_RandomSearch_mlp.search(X_train_expre, Y_train_expre, epochs=50, validation_split=0.2, callbacks=[stop_early])\n"
      ],
      "metadata": {
        "colab": {
          "base_uri": "https://localhost:8080/"
        },
        "id": "uMIXeZXRmhv0",
        "outputId": "d551304d-03b5-4542-e019-aa36cc911346"
      },
      "execution_count": 59,
      "outputs": [
        {
          "output_type": "stream",
          "name": "stdout",
          "text": [
            "Trial 10 Complete [00h 00m 05s]\n",
            "val_loss: 0.6817265152931213\n",
            "\n",
            "Best val_loss So Far: 0.6389109492301941\n",
            "Total elapsed time: 00h 00m 42s\n"
          ]
        }
      ]
    },
    {
      "cell_type": "code",
      "source": [
        "best_hps_expre=tuner_RandomSearch_mlp.get_best_hyperparameters(num_trials=1)[0]\n"
      ],
      "metadata": {
        "id": "cgNzOKXjmkSA"
      },
      "execution_count": 60,
      "outputs": []
    },
    {
      "cell_type": "code",
      "source": [
        "\n",
        "### entrenar el modelo\n",
        "\n",
        "# Build the model with the optimal hyperparameters and train it on the data for 50 epochs\n",
        "model_expre = tuner_RandomSearch_mlp.hypermodel.build(best_hps_expre)\n"
      ],
      "metadata": {
        "id": "Ncw4WFTcmm1Y"
      },
      "execution_count": 62,
      "outputs": []
    },
    {
      "cell_type": "code",
      "source": [
        "history_expre = model_expre.fit(X_train_expre, Y_train_expre, epochs=50, validation_split=0.2)\n"
      ],
      "metadata": {
        "colab": {
          "base_uri": "https://localhost:8080/"
        },
        "id": "uPI43WASmqC_",
        "outputId": "7f888d5a-54ba-469e-ab21-b86a13946ca5"
      },
      "execution_count": 63,
      "outputs": [
        {
          "output_type": "stream",
          "name": "stdout",
          "text": [
            "Epoch 1/50\n",
            "20/20 [==============================] - 3s 27ms/step - loss: 0.6995 - accuracy: 0.5057 - precision: 0.5212 - recall: 0.5079 - val_loss: 0.6760 - val_accuracy: 0.5490 - val_precision: 0.3438 - val_recall: 0.4490\n",
            "Epoch 2/50\n",
            "20/20 [==============================] - 0s 12ms/step - loss: 0.5593 - accuracy: 0.7283 - precision: 0.7110 - recall: 0.7968 - val_loss: 0.6864 - val_accuracy: 0.5948 - val_precision: 0.3968 - val_recall: 0.5102\n",
            "Epoch 3/50\n",
            "20/20 [==============================] - 0s 12ms/step - loss: 0.3148 - accuracy: 0.8822 - precision: 0.8762 - recall: 0.8984 - val_loss: 1.2581 - val_accuracy: 0.5686 - val_precision: 0.3509 - val_recall: 0.4082\n",
            "Epoch 4/50\n",
            "20/20 [==============================] - 0s 12ms/step - loss: 0.1083 - accuracy: 0.9607 - precision: 0.9709 - recall: 0.9524 - val_loss: 1.9037 - val_accuracy: 0.5163 - val_precision: 0.3418 - val_recall: 0.5510\n",
            "Epoch 5/50\n",
            "20/20 [==============================] - 0s 12ms/step - loss: 0.0378 - accuracy: 0.9902 - precision: 0.9936 - recall: 0.9873 - val_loss: 2.3035 - val_accuracy: 0.6144 - val_precision: 0.4265 - val_recall: 0.5918\n",
            "Epoch 6/50\n",
            "20/20 [==============================] - 0s 13ms/step - loss: 0.0411 - accuracy: 0.9820 - precision: 0.9810 - recall: 0.9841 - val_loss: 2.4226 - val_accuracy: 0.6340 - val_precision: 0.4286 - val_recall: 0.4286\n",
            "Epoch 7/50\n",
            "20/20 [==============================] - 0s 11ms/step - loss: 0.0224 - accuracy: 0.9918 - precision: 0.9936 - recall: 0.9905 - val_loss: 2.9290 - val_accuracy: 0.5686 - val_precision: 0.3768 - val_recall: 0.5306\n",
            "Epoch 8/50\n",
            "20/20 [==============================] - 0s 12ms/step - loss: 0.0152 - accuracy: 0.9935 - precision: 0.9937 - recall: 0.9937 - val_loss: 3.7408 - val_accuracy: 0.5556 - val_precision: 0.3733 - val_recall: 0.5714\n",
            "Epoch 9/50\n",
            "20/20 [==============================] - 0s 12ms/step - loss: 0.0772 - accuracy: 0.9836 - precision: 0.9811 - recall: 0.9873 - val_loss: 2.3001 - val_accuracy: 0.5621 - val_precision: 0.3594 - val_recall: 0.4694\n",
            "Epoch 10/50\n",
            "20/20 [==============================] - 0s 13ms/step - loss: 0.0625 - accuracy: 0.9820 - precision: 0.9810 - recall: 0.9841 - val_loss: 1.9762 - val_accuracy: 0.5817 - val_precision: 0.3636 - val_recall: 0.4082\n",
            "Epoch 11/50\n",
            "20/20 [==============================] - 0s 12ms/step - loss: 0.0352 - accuracy: 0.9869 - precision: 0.9904 - recall: 0.9841 - val_loss: 2.4512 - val_accuracy: 0.6078 - val_precision: 0.4267 - val_recall: 0.6531\n",
            "Epoch 12/50\n",
            "20/20 [==============================] - 0s 11ms/step - loss: 0.0386 - accuracy: 0.9787 - precision: 0.9719 - recall: 0.9873 - val_loss: 2.4759 - val_accuracy: 0.6405 - val_precision: 0.4531 - val_recall: 0.5918\n",
            "Epoch 13/50\n",
            "20/20 [==============================] - 0s 12ms/step - loss: 0.0420 - accuracy: 0.9885 - precision: 0.9873 - recall: 0.9905 - val_loss: 2.7496 - val_accuracy: 0.6340 - val_precision: 0.4314 - val_recall: 0.4490\n",
            "Epoch 14/50\n",
            "20/20 [==============================] - 0s 13ms/step - loss: 0.0655 - accuracy: 0.9738 - precision: 0.9716 - recall: 0.9778 - val_loss: 2.1222 - val_accuracy: 0.6013 - val_precision: 0.4143 - val_recall: 0.5918\n",
            "Epoch 15/50\n",
            "20/20 [==============================] - 0s 12ms/step - loss: 0.0340 - accuracy: 0.9869 - precision: 0.9936 - recall: 0.9810 - val_loss: 2.5148 - val_accuracy: 0.6405 - val_precision: 0.4531 - val_recall: 0.5918\n",
            "Epoch 16/50\n",
            "20/20 [==============================] - 0s 12ms/step - loss: 0.0096 - accuracy: 0.9967 - precision: 0.9968 - recall: 0.9968 - val_loss: 2.9248 - val_accuracy: 0.5686 - val_precision: 0.3692 - val_recall: 0.4898\n",
            "Epoch 17/50\n",
            "20/20 [==============================] - 0s 12ms/step - loss: 0.0019 - accuracy: 0.9984 - precision: 1.0000 - recall: 0.9968 - val_loss: 3.6657 - val_accuracy: 0.5556 - val_precision: 0.3699 - val_recall: 0.5510\n",
            "Epoch 18/50\n",
            "20/20 [==============================] - 0s 12ms/step - loss: 0.0014 - accuracy: 1.0000 - precision: 1.0000 - recall: 1.0000 - val_loss: 4.0000 - val_accuracy: 0.5425 - val_precision: 0.3478 - val_recall: 0.4898\n",
            "Epoch 19/50\n",
            "20/20 [==============================] - 0s 12ms/step - loss: 2.3629e-04 - accuracy: 1.0000 - precision: 1.0000 - recall: 1.0000 - val_loss: 4.3410 - val_accuracy: 0.5490 - val_precision: 0.3571 - val_recall: 0.5102\n",
            "Epoch 20/50\n",
            "20/20 [==============================] - 0s 12ms/step - loss: 7.4809e-05 - accuracy: 1.0000 - precision: 1.0000 - recall: 1.0000 - val_loss: 4.6210 - val_accuracy: 0.5490 - val_precision: 0.3571 - val_recall: 0.5102\n",
            "Epoch 21/50\n",
            "20/20 [==============================] - 0s 12ms/step - loss: 3.6901e-05 - accuracy: 1.0000 - precision: 1.0000 - recall: 1.0000 - val_loss: 4.8431 - val_accuracy: 0.5490 - val_precision: 0.3571 - val_recall: 0.5102\n",
            "Epoch 22/50\n",
            "20/20 [==============================] - 0s 12ms/step - loss: 2.4446e-05 - accuracy: 1.0000 - precision: 1.0000 - recall: 1.0000 - val_loss: 5.0052 - val_accuracy: 0.5490 - val_precision: 0.3571 - val_recall: 0.5102\n",
            "Epoch 23/50\n",
            "20/20 [==============================] - 0s 12ms/step - loss: 2.2233e-05 - accuracy: 1.0000 - precision: 1.0000 - recall: 1.0000 - val_loss: 5.1275 - val_accuracy: 0.5425 - val_precision: 0.3521 - val_recall: 0.5102\n",
            "Epoch 24/50\n",
            "20/20 [==============================] - 0s 13ms/step - loss: 1.5700e-05 - accuracy: 1.0000 - precision: 1.0000 - recall: 1.0000 - val_loss: 5.2269 - val_accuracy: 0.5425 - val_precision: 0.3521 - val_recall: 0.5102\n",
            "Epoch 25/50\n",
            "20/20 [==============================] - 0s 12ms/step - loss: 1.2970e-05 - accuracy: 1.0000 - precision: 1.0000 - recall: 1.0000 - val_loss: 5.3256 - val_accuracy: 0.5425 - val_precision: 0.3521 - val_recall: 0.5102\n",
            "Epoch 26/50\n",
            "20/20 [==============================] - 0s 13ms/step - loss: 1.2023e-05 - accuracy: 1.0000 - precision: 1.0000 - recall: 1.0000 - val_loss: 5.4201 - val_accuracy: 0.5425 - val_precision: 0.3521 - val_recall: 0.5102\n",
            "Epoch 27/50\n",
            "20/20 [==============================] - 0s 12ms/step - loss: 1.0160e-05 - accuracy: 1.0000 - precision: 1.0000 - recall: 1.0000 - val_loss: 5.4933 - val_accuracy: 0.5425 - val_precision: 0.3521 - val_recall: 0.5102\n",
            "Epoch 28/50\n",
            "20/20 [==============================] - 0s 12ms/step - loss: 9.7900e-06 - accuracy: 1.0000 - precision: 1.0000 - recall: 1.0000 - val_loss: 5.5712 - val_accuracy: 0.5425 - val_precision: 0.3521 - val_recall: 0.5102\n",
            "Epoch 29/50\n",
            "20/20 [==============================] - 0s 12ms/step - loss: 6.1157e-06 - accuracy: 1.0000 - precision: 1.0000 - recall: 1.0000 - val_loss: 5.6377 - val_accuracy: 0.5490 - val_precision: 0.3611 - val_recall: 0.5306\n",
            "Epoch 30/50\n",
            "20/20 [==============================] - 0s 12ms/step - loss: 6.8772e-06 - accuracy: 1.0000 - precision: 1.0000 - recall: 1.0000 - val_loss: 5.6905 - val_accuracy: 0.5425 - val_precision: 0.3521 - val_recall: 0.5102\n",
            "Epoch 31/50\n",
            "20/20 [==============================] - 0s 12ms/step - loss: 8.4272e-06 - accuracy: 1.0000 - precision: 1.0000 - recall: 1.0000 - val_loss: 5.7476 - val_accuracy: 0.5490 - val_precision: 0.3611 - val_recall: 0.5306\n",
            "Epoch 32/50\n",
            "20/20 [==============================] - 0s 12ms/step - loss: 5.3860e-06 - accuracy: 1.0000 - precision: 1.0000 - recall: 1.0000 - val_loss: 5.8141 - val_accuracy: 0.5490 - val_precision: 0.3611 - val_recall: 0.5306\n",
            "Epoch 33/50\n",
            "20/20 [==============================] - 0s 11ms/step - loss: 5.2977e-06 - accuracy: 1.0000 - precision: 1.0000 - recall: 1.0000 - val_loss: 5.8806 - val_accuracy: 0.5490 - val_precision: 0.3611 - val_recall: 0.5306\n",
            "Epoch 34/50\n",
            "20/20 [==============================] - 0s 12ms/step - loss: 4.6486e-06 - accuracy: 1.0000 - precision: 1.0000 - recall: 1.0000 - val_loss: 5.9288 - val_accuracy: 0.5490 - val_precision: 0.3611 - val_recall: 0.5306\n",
            "Epoch 35/50\n",
            "20/20 [==============================] - 0s 13ms/step - loss: 3.3974e-06 - accuracy: 1.0000 - precision: 1.0000 - recall: 1.0000 - val_loss: 5.9664 - val_accuracy: 0.5490 - val_precision: 0.3611 - val_recall: 0.5306\n",
            "Epoch 36/50\n",
            "20/20 [==============================] - 0s 14ms/step - loss: 3.7198e-06 - accuracy: 1.0000 - precision: 1.0000 - recall: 1.0000 - val_loss: 6.0038 - val_accuracy: 0.5490 - val_precision: 0.3611 - val_recall: 0.5306\n",
            "Epoch 37/50\n",
            "20/20 [==============================] - 0s 21ms/step - loss: 5.2234e-06 - accuracy: 1.0000 - precision: 1.0000 - recall: 1.0000 - val_loss: 6.0439 - val_accuracy: 0.5490 - val_precision: 0.3611 - val_recall: 0.5306\n",
            "Epoch 38/50\n",
            "20/20 [==============================] - 0s 21ms/step - loss: 3.1212e-06 - accuracy: 1.0000 - precision: 1.0000 - recall: 1.0000 - val_loss: 6.0797 - val_accuracy: 0.5490 - val_precision: 0.3611 - val_recall: 0.5306\n",
            "Epoch 39/50\n",
            "20/20 [==============================] - 0s 22ms/step - loss: 2.3423e-06 - accuracy: 1.0000 - precision: 1.0000 - recall: 1.0000 - val_loss: 6.1166 - val_accuracy: 0.5490 - val_precision: 0.3611 - val_recall: 0.5306\n",
            "Epoch 40/50\n",
            "20/20 [==============================] - 0s 22ms/step - loss: 2.9697e-06 - accuracy: 1.0000 - precision: 1.0000 - recall: 1.0000 - val_loss: 6.1529 - val_accuracy: 0.5490 - val_precision: 0.3611 - val_recall: 0.5306\n",
            "Epoch 41/50\n",
            "20/20 [==============================] - 0s 21ms/step - loss: 2.6136e-06 - accuracy: 1.0000 - precision: 1.0000 - recall: 1.0000 - val_loss: 6.1851 - val_accuracy: 0.5490 - val_precision: 0.3611 - val_recall: 0.5306\n",
            "Epoch 42/50\n",
            "20/20 [==============================] - 0s 22ms/step - loss: 2.7150e-06 - accuracy: 1.0000 - precision: 1.0000 - recall: 1.0000 - val_loss: 6.2202 - val_accuracy: 0.5490 - val_precision: 0.3611 - val_recall: 0.5306\n",
            "Epoch 43/50\n",
            "20/20 [==============================] - 0s 21ms/step - loss: 3.2987e-06 - accuracy: 1.0000 - precision: 1.0000 - recall: 1.0000 - val_loss: 6.2578 - val_accuracy: 0.5490 - val_precision: 0.3611 - val_recall: 0.5306\n",
            "Epoch 44/50\n",
            "20/20 [==============================] - 0s 16ms/step - loss: 3.0810e-06 - accuracy: 1.0000 - precision: 1.0000 - recall: 1.0000 - val_loss: 6.2929 - val_accuracy: 0.5490 - val_precision: 0.3611 - val_recall: 0.5306\n",
            "Epoch 45/50\n",
            "20/20 [==============================] - 0s 12ms/step - loss: 2.4433e-06 - accuracy: 1.0000 - precision: 1.0000 - recall: 1.0000 - val_loss: 6.3304 - val_accuracy: 0.5490 - val_precision: 0.3611 - val_recall: 0.5306\n",
            "Epoch 46/50\n",
            "20/20 [==============================] - 0s 13ms/step - loss: 2.0920e-06 - accuracy: 1.0000 - precision: 1.0000 - recall: 1.0000 - val_loss: 6.3581 - val_accuracy: 0.5490 - val_precision: 0.3611 - val_recall: 0.5306\n",
            "Epoch 47/50\n",
            "20/20 [==============================] - 0s 12ms/step - loss: 1.8831e-06 - accuracy: 1.0000 - precision: 1.0000 - recall: 1.0000 - val_loss: 6.3828 - val_accuracy: 0.5490 - val_precision: 0.3611 - val_recall: 0.5306\n",
            "Epoch 48/50\n",
            "20/20 [==============================] - 0s 12ms/step - loss: 2.7053e-06 - accuracy: 1.0000 - precision: 1.0000 - recall: 1.0000 - val_loss: 6.4186 - val_accuracy: 0.5490 - val_precision: 0.3611 - val_recall: 0.5306\n",
            "Epoch 49/50\n",
            "20/20 [==============================] - 0s 13ms/step - loss: 2.5617e-06 - accuracy: 1.0000 - precision: 1.0000 - recall: 1.0000 - val_loss: 6.4531 - val_accuracy: 0.5490 - val_precision: 0.3611 - val_recall: 0.5306\n",
            "Epoch 50/50\n",
            "20/20 [==============================] - 0s 13ms/step - loss: 1.9162e-06 - accuracy: 1.0000 - precision: 1.0000 - recall: 1.0000 - val_loss: 6.4991 - val_accuracy: 0.5490 - val_precision: 0.3611 - val_recall: 0.5306\n"
          ]
        }
      ]
    },
    {
      "cell_type": "code",
      "source": [
        "val_acc_per_epoch = history_expre.history['val_loss']\n",
        "best_epoch_expre = val_acc_per_epoch.index(max(val_acc_per_epoch)) + 1\n",
        "print('Best epoch: %d' % (best_epoch_expre,))"
      ],
      "metadata": {
        "colab": {
          "base_uri": "https://localhost:8080/"
        },
        "id": "IvRjWIfLmrmA",
        "outputId": "b1f27257-fa8d-49ca-8b26-fbf86003b5e1"
      },
      "execution_count": 64,
      "outputs": [
        {
          "output_type": "stream",
          "name": "stdout",
          "text": [
            "Best epoch: 50\n"
          ]
        }
      ]
    },
    {
      "cell_type": "code",
      "source": [
        "hypermodel_expre = tuner_RandomSearch_mlp.hypermodel.build(best_hps_expre)"
      ],
      "metadata": {
        "id": "kpAqlWykmuvV"
      },
      "execution_count": 66,
      "outputs": []
    },
    {
      "cell_type": "code",
      "source": [
        "hypermodel_expre.fit(X_train_expre, Y_train_expre, epochs=best_epoch_expre, validation_split=0.2)\n"
      ],
      "metadata": {
        "colab": {
          "base_uri": "https://localhost:8080/"
        },
        "id": "3kmZAeUjnR3J",
        "outputId": "4841df67-8d33-4369-b935-b737cbb1fbf7"
      },
      "execution_count": 67,
      "outputs": [
        {
          "output_type": "stream",
          "name": "stdout",
          "text": [
            "Epoch 1/50\n",
            "20/20 [==============================] - 2s 26ms/step - loss: 0.6870 - accuracy: 0.5630 - precision: 0.5628 - recall: 0.6825 - val_loss: 0.6956 - val_accuracy: 0.5621 - val_precision: 0.3393 - val_recall: 0.3878\n",
            "Epoch 2/50\n",
            "20/20 [==============================] - 0s 13ms/step - loss: 0.5873 - accuracy: 0.7005 - precision: 0.6746 - recall: 0.8095 - val_loss: 0.6922 - val_accuracy: 0.5882 - val_precision: 0.3906 - val_recall: 0.5102\n",
            "Epoch 3/50\n",
            "20/20 [==============================] - 0s 12ms/step - loss: 0.3652 - accuracy: 0.8642 - precision: 0.8602 - recall: 0.8794 - val_loss: 1.0995 - val_accuracy: 0.6078 - val_precision: 0.4225 - val_recall: 0.6122\n",
            "Epoch 4/50\n",
            "20/20 [==============================] - 0s 13ms/step - loss: 0.1750 - accuracy: 0.9362 - precision: 0.9452 - recall: 0.9302 - val_loss: 1.7133 - val_accuracy: 0.5359 - val_precision: 0.3690 - val_recall: 0.6327\n",
            "Epoch 5/50\n",
            "20/20 [==============================] - 0s 12ms/step - loss: 0.0890 - accuracy: 0.9640 - precision: 0.9564 - recall: 0.9746 - val_loss: 1.9083 - val_accuracy: 0.5817 - val_precision: 0.3729 - val_recall: 0.4490\n",
            "Epoch 6/50\n",
            "20/20 [==============================] - 0s 12ms/step - loss: 0.0533 - accuracy: 0.9820 - precision: 0.9872 - recall: 0.9778 - val_loss: 2.2614 - val_accuracy: 0.5556 - val_precision: 0.3582 - val_recall: 0.4898\n",
            "Epoch 7/50\n",
            "20/20 [==============================] - 0s 14ms/step - loss: 0.0207 - accuracy: 0.9918 - precision: 0.9905 - recall: 0.9937 - val_loss: 2.5554 - val_accuracy: 0.6471 - val_precision: 0.4324 - val_recall: 0.3265\n",
            "Epoch 8/50\n",
            "20/20 [==============================] - 0s 13ms/step - loss: 0.0956 - accuracy: 0.9689 - precision: 0.9774 - recall: 0.9619 - val_loss: 3.0033 - val_accuracy: 0.5098 - val_precision: 0.3673 - val_recall: 0.7347\n",
            "Epoch 9/50\n",
            "20/20 [==============================] - 0s 11ms/step - loss: 0.1135 - accuracy: 0.9591 - precision: 0.9503 - recall: 0.9714 - val_loss: 2.1345 - val_accuracy: 0.5686 - val_precision: 0.3951 - val_recall: 0.6531\n",
            "Epoch 10/50\n",
            "20/20 [==============================] - 0s 12ms/step - loss: 0.0577 - accuracy: 0.9804 - precision: 0.9749 - recall: 0.9873 - val_loss: 2.3931 - val_accuracy: 0.5882 - val_precision: 0.3654 - val_recall: 0.3878\n",
            "Epoch 11/50\n",
            "20/20 [==============================] - 0s 13ms/step - loss: 0.0074 - accuracy: 1.0000 - precision: 1.0000 - recall: 1.0000 - val_loss: 3.1433 - val_accuracy: 0.5882 - val_precision: 0.3654 - val_recall: 0.3878\n",
            "Epoch 12/50\n",
            "20/20 [==============================] - 0s 12ms/step - loss: 0.0022 - accuracy: 0.9984 - precision: 1.0000 - recall: 0.9968 - val_loss: 3.4320 - val_accuracy: 0.5948 - val_precision: 0.3818 - val_recall: 0.4286\n",
            "Epoch 13/50\n",
            "20/20 [==============================] - 0s 12ms/step - loss: 7.2388e-04 - accuracy: 1.0000 - precision: 1.0000 - recall: 1.0000 - val_loss: 3.7242 - val_accuracy: 0.5882 - val_precision: 0.3750 - val_recall: 0.4286\n",
            "Epoch 14/50\n",
            "20/20 [==============================] - 0s 14ms/step - loss: 2.4958e-04 - accuracy: 1.0000 - precision: 1.0000 - recall: 1.0000 - val_loss: 3.9192 - val_accuracy: 0.6078 - val_precision: 0.3962 - val_recall: 0.4286\n",
            "Epoch 15/50\n",
            "20/20 [==============================] - 0s 13ms/step - loss: 1.3627e-04 - accuracy: 1.0000 - precision: 1.0000 - recall: 1.0000 - val_loss: 4.0114 - val_accuracy: 0.6078 - val_precision: 0.3962 - val_recall: 0.4286\n",
            "Epoch 16/50\n",
            "20/20 [==============================] - 0s 13ms/step - loss: 1.0507e-04 - accuracy: 1.0000 - precision: 1.0000 - recall: 1.0000 - val_loss: 4.0777 - val_accuracy: 0.6078 - val_precision: 0.3962 - val_recall: 0.4286\n",
            "Epoch 17/50\n",
            "20/20 [==============================] - 0s 11ms/step - loss: 8.0631e-05 - accuracy: 1.0000 - precision: 1.0000 - recall: 1.0000 - val_loss: 4.1325 - val_accuracy: 0.6013 - val_precision: 0.3889 - val_recall: 0.4286\n",
            "Epoch 18/50\n",
            "20/20 [==============================] - 0s 11ms/step - loss: 7.1462e-05 - accuracy: 1.0000 - precision: 1.0000 - recall: 1.0000 - val_loss: 4.1827 - val_accuracy: 0.5948 - val_precision: 0.3818 - val_recall: 0.4286\n",
            "Epoch 19/50\n",
            "20/20 [==============================] - 0s 19ms/step - loss: 6.2274e-05 - accuracy: 1.0000 - precision: 1.0000 - recall: 1.0000 - val_loss: 4.2314 - val_accuracy: 0.5948 - val_precision: 0.3818 - val_recall: 0.4286\n",
            "Epoch 20/50\n",
            "20/20 [==============================] - 0s 22ms/step - loss: 4.8970e-05 - accuracy: 1.0000 - precision: 1.0000 - recall: 1.0000 - val_loss: 4.2753 - val_accuracy: 0.5948 - val_precision: 0.3818 - val_recall: 0.4286\n",
            "Epoch 21/50\n",
            "20/20 [==============================] - 0s 22ms/step - loss: 4.8781e-05 - accuracy: 1.0000 - precision: 1.0000 - recall: 1.0000 - val_loss: 4.3185 - val_accuracy: 0.5948 - val_precision: 0.3818 - val_recall: 0.4286\n",
            "Epoch 22/50\n",
            "20/20 [==============================] - 0s 21ms/step - loss: 4.3577e-05 - accuracy: 1.0000 - precision: 1.0000 - recall: 1.0000 - val_loss: 4.3637 - val_accuracy: 0.5948 - val_precision: 0.3818 - val_recall: 0.4286\n",
            "Epoch 23/50\n",
            "20/20 [==============================] - 0s 21ms/step - loss: 3.7954e-05 - accuracy: 1.0000 - precision: 1.0000 - recall: 1.0000 - val_loss: 4.4041 - val_accuracy: 0.5948 - val_precision: 0.3818 - val_recall: 0.4286\n",
            "Epoch 24/50\n",
            "20/20 [==============================] - 0s 20ms/step - loss: 3.5183e-05 - accuracy: 1.0000 - precision: 1.0000 - recall: 1.0000 - val_loss: 4.4450 - val_accuracy: 0.5948 - val_precision: 0.3818 - val_recall: 0.4286\n",
            "Epoch 25/50\n",
            "20/20 [==============================] - 0s 19ms/step - loss: 3.0252e-05 - accuracy: 1.0000 - precision: 1.0000 - recall: 1.0000 - val_loss: 4.4832 - val_accuracy: 0.5948 - val_precision: 0.3818 - val_recall: 0.4286\n",
            "Epoch 26/50\n",
            "20/20 [==============================] - 0s 21ms/step - loss: 2.8527e-05 - accuracy: 1.0000 - precision: 1.0000 - recall: 1.0000 - val_loss: 4.5230 - val_accuracy: 0.5948 - val_precision: 0.3818 - val_recall: 0.4286\n",
            "Epoch 27/50\n",
            "20/20 [==============================] - 0s 13ms/step - loss: 2.4907e-05 - accuracy: 1.0000 - precision: 1.0000 - recall: 1.0000 - val_loss: 4.5579 - val_accuracy: 0.5948 - val_precision: 0.3818 - val_recall: 0.4286\n",
            "Epoch 28/50\n",
            "20/20 [==============================] - 0s 12ms/step - loss: 2.2214e-05 - accuracy: 1.0000 - precision: 1.0000 - recall: 1.0000 - val_loss: 4.5962 - val_accuracy: 0.5948 - val_precision: 0.3818 - val_recall: 0.4286\n",
            "Epoch 29/50\n",
            "20/20 [==============================] - 0s 12ms/step - loss: 2.0099e-05 - accuracy: 1.0000 - precision: 1.0000 - recall: 1.0000 - val_loss: 4.6322 - val_accuracy: 0.5948 - val_precision: 0.3818 - val_recall: 0.4286\n",
            "Epoch 30/50\n",
            "20/20 [==============================] - 0s 12ms/step - loss: 2.0580e-05 - accuracy: 1.0000 - precision: 1.0000 - recall: 1.0000 - val_loss: 4.6679 - val_accuracy: 0.5948 - val_precision: 0.3818 - val_recall: 0.4286\n",
            "Epoch 31/50\n",
            "20/20 [==============================] - 0s 13ms/step - loss: 1.6126e-05 - accuracy: 1.0000 - precision: 1.0000 - recall: 1.0000 - val_loss: 4.7015 - val_accuracy: 0.5948 - val_precision: 0.3818 - val_recall: 0.4286\n",
            "Epoch 32/50\n",
            "20/20 [==============================] - 0s 12ms/step - loss: 1.5330e-05 - accuracy: 1.0000 - precision: 1.0000 - recall: 1.0000 - val_loss: 4.7345 - val_accuracy: 0.5948 - val_precision: 0.3818 - val_recall: 0.4286\n",
            "Epoch 33/50\n",
            "20/20 [==============================] - 0s 11ms/step - loss: 1.2778e-05 - accuracy: 1.0000 - precision: 1.0000 - recall: 1.0000 - val_loss: 4.7658 - val_accuracy: 0.5948 - val_precision: 0.3818 - val_recall: 0.4286\n",
            "Epoch 34/50\n",
            "20/20 [==============================] - 0s 12ms/step - loss: 1.3988e-05 - accuracy: 1.0000 - precision: 1.0000 - recall: 1.0000 - val_loss: 4.7972 - val_accuracy: 0.5948 - val_precision: 0.3818 - val_recall: 0.4286\n",
            "Epoch 35/50\n",
            "20/20 [==============================] - 0s 13ms/step - loss: 1.2801e-05 - accuracy: 1.0000 - precision: 1.0000 - recall: 1.0000 - val_loss: 4.8266 - val_accuracy: 0.5948 - val_precision: 0.3818 - val_recall: 0.4286\n",
            "Epoch 36/50\n",
            "20/20 [==============================] - 0s 12ms/step - loss: 1.1623e-05 - accuracy: 1.0000 - precision: 1.0000 - recall: 1.0000 - val_loss: 4.8535 - val_accuracy: 0.5948 - val_precision: 0.3818 - val_recall: 0.4286\n",
            "Epoch 37/50\n",
            "20/20 [==============================] - 0s 11ms/step - loss: 1.0004e-05 - accuracy: 1.0000 - precision: 1.0000 - recall: 1.0000 - val_loss: 4.8815 - val_accuracy: 0.5948 - val_precision: 0.3818 - val_recall: 0.4286\n",
            "Epoch 38/50\n",
            "20/20 [==============================] - 0s 13ms/step - loss: 1.0134e-05 - accuracy: 1.0000 - precision: 1.0000 - recall: 1.0000 - val_loss: 4.9073 - val_accuracy: 0.5948 - val_precision: 0.3818 - val_recall: 0.4286\n",
            "Epoch 39/50\n",
            "20/20 [==============================] - 0s 12ms/step - loss: 9.4152e-06 - accuracy: 1.0000 - precision: 1.0000 - recall: 1.0000 - val_loss: 4.9341 - val_accuracy: 0.5948 - val_precision: 0.3818 - val_recall: 0.4286\n",
            "Epoch 40/50\n",
            "20/20 [==============================] - 0s 12ms/step - loss: 8.8392e-06 - accuracy: 1.0000 - precision: 1.0000 - recall: 1.0000 - val_loss: 4.9570 - val_accuracy: 0.5948 - val_precision: 0.3818 - val_recall: 0.4286\n",
            "Epoch 41/50\n",
            "20/20 [==============================] - 0s 12ms/step - loss: 7.9105e-06 - accuracy: 1.0000 - precision: 1.0000 - recall: 1.0000 - val_loss: 4.9821 - val_accuracy: 0.5948 - val_precision: 0.3818 - val_recall: 0.4286\n",
            "Epoch 42/50\n",
            "20/20 [==============================] - 0s 12ms/step - loss: 7.6619e-06 - accuracy: 1.0000 - precision: 1.0000 - recall: 1.0000 - val_loss: 5.0059 - val_accuracy: 0.5948 - val_precision: 0.3818 - val_recall: 0.4286\n",
            "Epoch 43/50\n",
            "20/20 [==============================] - 0s 13ms/step - loss: 7.4957e-06 - accuracy: 1.0000 - precision: 1.0000 - recall: 1.0000 - val_loss: 5.0298 - val_accuracy: 0.5948 - val_precision: 0.3818 - val_recall: 0.4286\n",
            "Epoch 44/50\n",
            "20/20 [==============================] - 0s 12ms/step - loss: 8.6241e-06 - accuracy: 1.0000 - precision: 1.0000 - recall: 1.0000 - val_loss: 5.0564 - val_accuracy: 0.5948 - val_precision: 0.3818 - val_recall: 0.4286\n",
            "Epoch 45/50\n",
            "20/20 [==============================] - 0s 12ms/step - loss: 6.7501e-06 - accuracy: 1.0000 - precision: 1.0000 - recall: 1.0000 - val_loss: 5.0806 - val_accuracy: 0.5948 - val_precision: 0.3818 - val_recall: 0.4286\n",
            "Epoch 46/50\n",
            "20/20 [==============================] - 0s 12ms/step - loss: 5.7373e-06 - accuracy: 1.0000 - precision: 1.0000 - recall: 1.0000 - val_loss: 5.1026 - val_accuracy: 0.5948 - val_precision: 0.3818 - val_recall: 0.4286\n",
            "Epoch 47/50\n",
            "20/20 [==============================] - 0s 13ms/step - loss: 5.9528e-06 - accuracy: 1.0000 - precision: 1.0000 - recall: 1.0000 - val_loss: 5.1236 - val_accuracy: 0.5948 - val_precision: 0.3818 - val_recall: 0.4286\n",
            "Epoch 48/50\n",
            "20/20 [==============================] - 0s 12ms/step - loss: 5.9226e-06 - accuracy: 1.0000 - precision: 1.0000 - recall: 1.0000 - val_loss: 5.1448 - val_accuracy: 0.5948 - val_precision: 0.3818 - val_recall: 0.4286\n",
            "Epoch 49/50\n",
            "20/20 [==============================] - 0s 12ms/step - loss: 5.3028e-06 - accuracy: 1.0000 - precision: 1.0000 - recall: 1.0000 - val_loss: 5.1670 - val_accuracy: 0.5948 - val_precision: 0.3818 - val_recall: 0.4286\n",
            "Epoch 50/50\n",
            "20/20 [==============================] - 0s 12ms/step - loss: 5.8105e-06 - accuracy: 1.0000 - precision: 1.0000 - recall: 1.0000 - val_loss: 5.1896 - val_accuracy: 0.5948 - val_precision: 0.3818 - val_recall: 0.4286\n"
          ]
        },
        {
          "output_type": "execute_result",
          "data": {
            "text/plain": [
              "<keras.callbacks.History at 0x7f3188576440>"
            ]
          },
          "metadata": {},
          "execution_count": 67
        }
      ]
    },
    {
      "cell_type": "code",
      "source": [
        "hypermodel_expre.summary()"
      ],
      "metadata": {
        "colab": {
          "base_uri": "https://localhost:8080/"
        },
        "id": "89hS5YirsP8b",
        "outputId": "5a902adb-54b6-4cc6-c747-587825225466"
      },
      "execution_count": 68,
      "outputs": [
        {
          "output_type": "stream",
          "name": "stdout",
          "text": [
            "Model: \"sequential_4\"\n",
            "_________________________________________________________________\n",
            " Layer (type)                Output Shape              Param #   \n",
            "=================================================================\n",
            " dense_28 (Dense)            (None, 160)               78240     \n",
            "                                                                 \n",
            " dense_29 (Dense)            (None, 192)               30912     \n",
            "                                                                 \n",
            " dense_30 (Dense)            (None, 288)               55584     \n",
            "                                                                 \n",
            " dense_31 (Dense)            (None, 32)                9248      \n",
            "                                                                 \n",
            " dense_32 (Dense)            (None, 544)               17952     \n",
            "                                                                 \n",
            " dense_33 (Dense)            (None, 448)               244160    \n",
            "                                                                 \n",
            " dropout_4 (Dropout)         (None, 448)               0         \n",
            "                                                                 \n",
            " dense_34 (Dense)            (None, 1)                 449       \n",
            "                                                                 \n",
            "=================================================================\n",
            "Total params: 436,545\n",
            "Trainable params: 436,545\n",
            "Non-trainable params: 0\n",
            "_________________________________________________________________\n"
          ]
        }
      ]
    },
    {
      "cell_type": "code",
      "source": [
        "eval_result_expre = hypermodel_expre.evaluate(X_test_expre, Y_test_expre)\n"
      ],
      "metadata": {
        "colab": {
          "base_uri": "https://localhost:8080/"
        },
        "id": "FwnSwZ8hnTrE",
        "outputId": "287eba06-dc53-49f6-c831-81b3c6090323"
      },
      "execution_count": 69,
      "outputs": [
        {
          "output_type": "stream",
          "name": "stdout",
          "text": [
            "11/11 [==============================] - 0s 4ms/step - loss: 5.6715 - accuracy: 0.5061 - precision: 0.3654 - recall: 0.4750\n"
          ]
        }
      ]
    },
    {
      "cell_type": "code",
      "source": [
        "\n",
        "import matplotlib.pyplot as plt\n",
        "from matplotlib import rcParams\n",
        "\n",
        "rcParams['figure.figsize'] = (18, 8)\n",
        "rcParams['axes.spines.top'] = False\n",
        "rcParams['axes.spines.right'] = False\n",
        "\n",
        "\n",
        "plt.plot(\n",
        "    #np.arange(1, 3), \n",
        "    history_expre.history['loss'], label='Loss'\n",
        ")\n",
        "plt.plot(\n",
        "    #np.arange(1, best_epoch), \n",
        "    history_expre.history['accuracy'], label='Accuracy'\n",
        ")\n",
        "plt.plot(\n",
        "    #np.arange(1, best_epoch), \n",
        "    history_expre.history['precision'], label='Precision'\n",
        ")\n",
        "plt.plot(\n",
        "    #np.arange(1, best_epoch), \n",
        "    history_expre.history['recall'], label='Recall'\n",
        ")\n",
        "plt.title('Evaluation metrics', size=20)\n",
        "plt.xlabel('Epoch', size=14)\n",
        "plt.legend();\n"
      ],
      "metadata": {
        "colab": {
          "base_uri": "https://localhost:8080/",
          "height": 604
        },
        "id": "vuE9AnOvnWSr",
        "outputId": "2270c949-51e3-4c8b-b5d5-159e15c50dac"
      },
      "execution_count": 70,
      "outputs": [
        {
          "output_type": "display_data",
          "data": {
            "text/plain": [
              "<Figure size 1800x800 with 1 Axes>"
            ],
            "image/png": "[encoded data removed]"
          },
          "metadata": {}
        }
      ]
    },
    {
      "cell_type": "code",
      "source": [
        "\n",
        "import numpy as np\n",
        "from sklearn.metrics import accuracy_score, confusion_matrix\n",
        "\n",
        "# Obtener las predicciones del modelo para los datos de prueba\n",
        "y_pred_expre = hypermodel_expre.predict(X_test_expre) \n",
        "\n",
        "prediction_classes = [\n",
        "    1 if prob > 0.5 else 0 for prob in np.ravel(y_pred_expre)\n",
        "]\n",
        "\n",
        "# Calcular la precisión\n",
        "accuracy = accuracy_score(Y_test_expre,prediction_classes)\n",
        "print('Precisión en los datos de prueba:', accuracy)\n",
        "\n",
        "# Calcular la matriz de confusión\n",
        "confusion_expre = confusion_matrix(Y_test_expre,prediction_classes)\n",
        "print('Matriz de confusión:')\n",
        "print(confusion_expre)\n"
      ],
      "metadata": {
        "colab": {
          "base_uri": "https://localhost:8080/"
        },
        "id": "_KMKOOHrncar",
        "outputId": "984ac9a3-20c1-4032-c78e-89e516f448f3"
      },
      "execution_count": 71,
      "outputs": [
        {
          "output_type": "stream",
          "name": "stdout",
          "text": [
            "11/11 [==============================] - 0s 5ms/step\n",
            "Precisión en los datos de prueba: 0.5060975609756098\n",
            "Matriz de confusión:\n",
            "[[109  99]\n",
            " [ 63  57]]\n"
          ]
        }
      ]
    },
    {
      "cell_type": "code",
      "source": [
        "\n",
        "\n",
        "############## Ramdon Forest para expresión genetica ###################\n",
        "\n",
        "\n",
        "random_state_v2 = 254605\n",
        "N=5\n",
        "nIter = 25\n",
        "kf = RepeatedStratifiedKFold(n_splits=N, n_repeats=10, random_state=random_state_v2)\n",
        "AUC_DATA_RF=pd.DataFrame(columns=['Variable criterion', 'Variable n_estimators',\n",
        "                                  'Variable max_features', 'Variable max_depth',\n",
        "                                  'Variable min_samples_split', 'Variable min_samples_leaf','MEDIA_RF','STD_RF'],index=range(1,1+nIter))\n",
        "\n",
        "# Parametros de tuning RF\n",
        "criterion = ['gini', 'entropy']\n",
        "n_estimators = np.arange(50,1000,10)\n",
        "max_features = ['auto', 'sqrt', 'log2'] \n",
        "max_depth = [int(x) for x in np.linspace(10, 110, num = 11)];max_depth.append(None)\n",
        "# min_samples_split = [int(x) for x in np.linspace(4, 40, num = 18)]\n",
        "min_samples_split = np.concatenate([[0.01], np.linspace(0.1,1,10)])  \n",
        "# min_samples_leaf = [x for x in np.linspace(start = 0, stop = 1, num = 50)]\n",
        "min_samples_leaf = np.concatenate([[0.01], np.linspace(0.1,0.5,5)])  \n",
        "\n",
        "random_grid = {'criterion': criterion,\n",
        "               'n_estimators': n_estimators,\n",
        "                'max_features': max_features, \n",
        "                'max_depth': max_depth,\n",
        "                'min_samples_split': min_samples_split,\n",
        "                'min_samples_leaf': min_samples_leaf}     \n",
        "#Ramdon forest base  \n",
        "random_forest = RandomForestClassifier(min_weight_fraction_leaf=0.0, # Same as above, but uses the class weights.                                \n",
        "                            max_leaf_nodes=None, # Maximum number of nodes.\n",
        "                            # max_depth=None, # Max depth of the trees. Not necessary to change.\n",
        "                            min_impurity_decrease=0.0003, # Minimum impurity decrease. This is 10^-3.\n",
        "                            bootstrap=True, # If sample with repetition. For large samples (>100.000) set to false.\n",
        "                            oob_score=True,  # If report accuracy with non-selected cases.\n",
        "                            n_jobs=-1, # Parallel processing. Set to -1 for all cores. Watch your RAM!!\n",
        "                            random_state=random_state_v2, # Seed\n",
        "                            verbose=0, # If to give info during training. Set to 0 for silent training.\n",
        "                            warm_start=False, # If train over previously trained tree.\n",
        "                            class_weight='balanced')      \n",
        "\n",
        "\n",
        "random_forestTuning = RandomizedSearchCV(estimator = random_forest, param_distributions = random_grid, n_iter = nIter, cv = kf, verbose=1, random_state=random_state_v2, n_jobs = -1, scoring='roc_auc')\n",
        "random_forestTuning.fit(X_train_expre,Y_train_expre)\n",
        "\n",
        " # Resultados\n",
        "cvres2 = random_forestTuning.cv_results_ \n",
        "for i in range(1, nIter+1):\n",
        "    AUC_DATA_RF['Variable criterion'][i] = cvres2['params'][i-1]['criterion']\n",
        "    AUC_DATA_RF['Variable n_estimators'][i] = cvres2['params'][i-1]['n_estimators']\n",
        "    AUC_DATA_RF['Variable max_features'][i] = cvres2['params'][i-1]['max_features']\n",
        "    AUC_DATA_RF['Variable max_depth'][i] = cvres2['params'][i-1]['max_depth']\n",
        "    AUC_DATA_RF['Variable min_samples_split'][i] = cvres2['params'][i-1]['min_samples_split']\n",
        "    AUC_DATA_RF['Variable min_samples_leaf'][i] = cvres2['params'][i-1]['min_samples_leaf']\n",
        "    AUC_DATA_RF['MEDIA_RF'][i] = cvres2['mean_test_score'][i-1]\n",
        "    AUC_DATA_RF['STD_RF'][i] = cvres2['std_test_score'][i-1]\n",
        "\n",
        "\n",
        "try:   \n",
        "    RF_BestCho=np.array(AUC_DATA_RF.iloc[np.where(np.max(AUC_DATA_RF.iloc[:,6])==AUC_DATA_RF.iloc[:,6])[0],0:6])[0]\n",
        "except:\n",
        "    RF_BestCho = np.nan\n",
        "print('La configuración RF que genera mejor AUC es '+str(RF_BestCho))\n",
        "   \n"
      ],
      "metadata": {
        "colab": {
          "base_uri": "https://localhost:8080/"
        },
        "id": "FQSyANw0nimN",
        "outputId": "af465aaf-d242-4bdb-fb7d-0e38d3bf5e25"
      },
      "execution_count": 74,
      "outputs": [
        {
          "output_type": "stream",
          "name": "stdout",
          "text": [
            "Fitting 50 folds for each of 25 candidates, totalling 1250 fits\n",
            "La configuración RF que genera mejor AUC es ['entropy' 330 'sqrt' 70 0.2 0.01]\n"
          ]
        }
      ]
    },
    {
      "cell_type": "code",
      "source": [
        "   \n",
        "###########################################  Predicción RF ##################################################   \n",
        "random_forest = RandomForestClassifier(criterion = RF_BestCho[0],\n",
        "                                           n_estimators = RF_BestCho[1],\n",
        "                                           max_features = RF_BestCho[2], \n",
        "                                           max_depth = RF_BestCho[3],\n",
        "                                           min_samples_split = RF_BestCho[4],\n",
        "                                           min_samples_leaf = RF_BestCho[5],\n",
        "                                           min_weight_fraction_leaf=0.0, # Same as above, but uses the class weights.\n",
        "                                           max_leaf_nodes=None, # Maximum number of nodes.                                               \n",
        "                                           min_impurity_decrease=0.0003, # Minimum impurity decrease. This is 10^-3.\n",
        "                                           bootstrap=True, # If sample with repetition. For large samples (>100.000) set to false.\n",
        "                                           oob_score=True,  # If report accuracy with non-selected cases.\n",
        "                                           n_jobs=1, # Parallel processing. Set to -1 for all cores. Watch your RAM!!\n",
        "                                           random_state=random_state_v2, # Seed\n",
        "                                           verbose=0, # If to give info during training. Set to 0 for silent training.\n",
        "                                           warm_start=False, # If train over previously trained tree.\n",
        "                                           class_weight='balanced') \n",
        "\n",
        "\n",
        "result_expre = random_forest.fit(X_test_expre,Y_test_expre)\n",
        "\n",
        "\n",
        "Y_pred_RF_prob_expre = random_forest.predict_proba(X_test_expre)\n",
        "Y_pred_RF_Estado_expre = random_forest.predict(X_test_expre)\n"
      ],
      "metadata": {
        "id": "AV8FFReVno4G"
      },
      "execution_count": 75,
      "outputs": []
    },
    {
      "cell_type": "code",
      "source": [
        "# Calcular la precisión\n",
        "accuracy_RF_expre = accuracy_score(Y_test_expre,Y_pred_RF_Estado_expre)\n",
        "print('Precisión en los datos de prueba:', accuracy_RF_expre)\n",
        "\n",
        "\n",
        "# Calcular la matriz de confusión\n",
        "confusion_RF_expre = confusion_matrix(Y_test_expre,Y_pred_RF_Estado_expre)\n",
        "print('Matriz de confusión:')\n",
        "print(confusion_RF_expre)\n"
      ],
      "metadata": {
        "colab": {
          "base_uri": "https://localhost:8080/"
        },
        "id": "pCSmXcqensoQ",
        "outputId": "2d1179d8-992f-4389-c45a-ab6bc11f67d7"
      },
      "execution_count": 76,
      "outputs": [
        {
          "output_type": "stream",
          "name": "stdout",
          "text": [
            "Precisión en los datos de prueba: 0.9908536585365854\n",
            "Matriz de confusión:\n",
            "[[208   0]\n",
            " [  3 117]]\n"
          ]
        }
      ]
    },
    {
      "cell_type": "code",
      "source": [
        "\n",
        "\n",
        "############# Combinacion de variables predictoras ######\n",
        "\n",
        "Datos_df=Datos.drop([\"overall_survival\"], axis=1)\n",
        "Datos_General=pd.concat([Datos_df,Datos_expre],axis=1)\n",
        "\n",
        "\n",
        "X_train_General, X_test_General, Y_train_General, Y_test_General = train_test_split(Datos_General.iloc[0:,:564],\n",
        "                                             Datos_General[\"overall_survival\"], random_state=36545808,\n",
        "                                             test_size=0.3, shuffle=False)\n",
        "\n",
        "\n",
        "X_train_General=X_train_General.astype(\"float\")\n",
        "X_test_General=X_test_General.astype(\"float\")\n",
        "\n"
      ],
      "metadata": {
        "id": "lK4WE2Afn6eu"
      },
      "execution_count": 77,
      "outputs": []
    },
    {
      "cell_type": "code",
      "source": [
        "\n",
        "################### Tuning\n",
        "\n",
        "from tensorflow import keras\n",
        "import keras_tuner as kt\n",
        "from tensorflow.keras import layers\n",
        "\n",
        "\n",
        "\n",
        "def build_model(hp):\n",
        "    model = keras.Sequential()\n",
        "    model.add(layers.Dense(units=hp.Int(\"num_units\", min_value=32, max_value=564, step=32),\n",
        "                activation=hp.Choice(\"activation\", [\"relu\"])))\n",
        "    # Tune the number of layers.\n",
        "    for i in range(hp.Int(\"num_layers\", 1, 5)):\n",
        "        model.add(\n",
        "            layers.Dense(\n",
        "                # Tune number of units separately.\n",
        "                units=hp.Int(f\"units_{i}\", min_value=32, max_value=564, step=32),\n",
        "                activation=hp.Choice(\"activation\", [\"relu\"]),\n",
        "            )\n",
        "        )\n",
        "    if hp.Boolean(\"dropout\"):\n",
        "        model.add(layers.Dropout(rate=0.25))\n",
        "    model.add(layers.Dense(1, activation=\"sigmoid\"))\n",
        "    #learning_rate = hp.Float(\"lr\", min_value=1e-4, max_value=1e-2, sampling=\"log\")\n",
        "    model.compile(\n",
        "        loss=tf.keras.losses.binary_crossentropy,\n",
        "        optimizer='adam',\n",
        "        metrics=[\n",
        "        tf.keras.metrics.BinaryAccuracy(name='accuracy'),\n",
        "        tf.keras.metrics.Precision(name='precision'),\n",
        "        tf.keras.metrics.Recall(name='recall')]\n",
        "    )\n",
        "    return model\n",
        "\n",
        "build_model(kt.HyperParameters())\n"
      ],
      "metadata": {
        "colab": {
          "base_uri": "https://localhost:8080/"
        },
        "id": "jSYK6LHcn9kn",
        "outputId": "00bce52d-1f55-437d-dc34-2a1444d16d1a"
      },
      "execution_count": 78,
      "outputs": [
        {
          "output_type": "execute_result",
          "data": {
            "text/plain": [
              "<keras.engine.sequential.Sequential at 0x7f31882bafe0>"
            ]
          },
          "metadata": {},
          "execution_count": 78
        }
      ]
    },
    {
      "cell_type": "code",
      "source": [
        "tuner_RandomSearch_mlp = kt.RandomSearch(\n",
        "    hypermodel=build_model,\n",
        "    objective=\"val_loss\",\n",
        "    max_trials=10,\n",
        "    executions_per_trial=1,\n",
        "    overwrite=True,\n",
        "    directory=\"C:/Users/fabia/OneDrive/Documentos/UNAL/IA/salida\",\n",
        "    project_name=\"modelo3\",\n",
        ")"
      ],
      "metadata": {
        "id": "r-L2axF2oBBF"
      },
      "execution_count": 79,
      "outputs": []
    },
    {
      "cell_type": "code",
      "source": [
        "stop_early = tf.keras.callbacks.EarlyStopping(monitor='val_loss', patience=5)\n"
      ],
      "metadata": {
        "id": "uHPLRTjloG6M"
      },
      "execution_count": 80,
      "outputs": []
    },
    {
      "cell_type": "code",
      "source": [
        "tuner_RandomSearch_mlp.search(X_train_General, Y_train_General, epochs=50, validation_split=0.2, callbacks=[stop_early])\n"
      ],
      "metadata": {
        "colab": {
          "base_uri": "https://localhost:8080/"
        },
        "id": "DVPkj82aoMPy",
        "outputId": "933c813d-5ea6-4bd0-ba49-37a459f57393"
      },
      "execution_count": 81,
      "outputs": [
        {
          "output_type": "stream",
          "name": "stdout",
          "text": [
            "Trial 10 Complete [00h 00m 04s]\n",
            "val_loss: 0.4715088903903961\n",
            "\n",
            "Best val_loss So Far: 0.46145081520080566\n",
            "Total elapsed time: 00h 00m 40s\n"
          ]
        }
      ]
    },
    {
      "cell_type": "code",
      "source": [
        "best_hps_General=tuner_RandomSearch_mlp.get_best_hyperparameters(num_trials=1)[0]"
      ],
      "metadata": {
        "id": "73r9vkJaoOrU"
      },
      "execution_count": 82,
      "outputs": []
    },
    {
      "cell_type": "code",
      "source": [
        "\n",
        "### entrenar el modelo\n",
        "\n",
        "# Build the model with the optimal hyperparameters and train it on the data for 50 epochs\n",
        "model_General= tuner_RandomSearch_mlp.hypermodel.build(best_hps_General)\n",
        "\n",
        "#model_General.summary()\n",
        "\n",
        "history_General= model_General.fit(X_train_General, Y_train_General, epochs=50, validation_split=0.2)\n"
      ],
      "metadata": {
        "colab": {
          "base_uri": "https://localhost:8080/"
        },
        "id": "3Td2qctpoUnD",
        "outputId": "4336b3d5-8c59-41cc-9ef9-7a81a921f13d"
      },
      "execution_count": 83,
      "outputs": [
        {
          "output_type": "stream",
          "name": "stdout",
          "text": [
            "Epoch 1/50\n",
            "20/20 [==============================] - 3s 36ms/step - loss: 0.6861 - accuracy: 0.6841 - precision: 0.6894 - recall: 0.7048 - val_loss: 0.6817 - val_accuracy: 0.6471 - val_precision: 0.4742 - val_recall: 0.9388\n",
            "Epoch 2/50\n",
            "20/20 [==============================] - 0s 17ms/step - loss: 0.5095 - accuracy: 0.7578 - precision: 0.7251 - recall: 0.8540 - val_loss: 0.4895 - val_accuracy: 0.7712 - val_precision: 0.7917 - val_recall: 0.3878\n",
            "Epoch 3/50\n",
            "20/20 [==============================] - 0s 14ms/step - loss: 0.4648 - accuracy: 0.7578 - precision: 0.7720 - recall: 0.7524 - val_loss: 0.7490 - val_accuracy: 0.6732 - val_precision: 0.4944 - val_recall: 0.8980\n",
            "Epoch 4/50\n",
            "20/20 [==============================] - 0s 14ms/step - loss: 0.3912 - accuracy: 0.8200 - precision: 0.7824 - recall: 0.9016 - val_loss: 0.5041 - val_accuracy: 0.7778 - val_precision: 0.7586 - val_recall: 0.4490\n",
            "Epoch 5/50\n",
            "20/20 [==============================] - 0s 9ms/step - loss: 0.3094 - accuracy: 0.8642 - precision: 0.8602 - recall: 0.8794 - val_loss: 0.5501 - val_accuracy: 0.7255 - val_precision: 0.5479 - val_recall: 0.8163\n",
            "Epoch 6/50\n",
            "20/20 [==============================] - 0s 8ms/step - loss: 0.2513 - accuracy: 0.8985 - precision: 0.8916 - recall: 0.9143 - val_loss: 0.5966 - val_accuracy: 0.7974 - val_precision: 0.6667 - val_recall: 0.7347\n",
            "Epoch 7/50\n",
            "20/20 [==============================] - 0s 8ms/step - loss: 0.1673 - accuracy: 0.9280 - precision: 0.9248 - recall: 0.9365 - val_loss: 0.7760 - val_accuracy: 0.7582 - val_precision: 0.5882 - val_recall: 0.8163\n",
            "Epoch 8/50\n",
            "20/20 [==============================] - 0s 8ms/step - loss: 0.1225 - accuracy: 0.9640 - precision: 0.9564 - recall: 0.9746 - val_loss: 0.7230 - val_accuracy: 0.7974 - val_precision: 0.6364 - val_recall: 0.8571\n",
            "Epoch 9/50\n",
            "20/20 [==============================] - 0s 8ms/step - loss: 0.1240 - accuracy: 0.9476 - precision: 0.9464 - recall: 0.9524 - val_loss: 0.9101 - val_accuracy: 0.7582 - val_precision: 0.5833 - val_recall: 0.8571\n",
            "Epoch 10/50\n",
            "20/20 [==============================] - 0s 8ms/step - loss: 0.0932 - accuracy: 0.9591 - precision: 0.9475 - recall: 0.9746 - val_loss: 0.8694 - val_accuracy: 0.7582 - val_precision: 0.5833 - val_recall: 0.8571\n",
            "Epoch 11/50\n",
            "20/20 [==============================] - 0s 8ms/step - loss: 0.0417 - accuracy: 0.9902 - precision: 0.9843 - recall: 0.9968 - val_loss: 1.0441 - val_accuracy: 0.7712 - val_precision: 0.6061 - val_recall: 0.8163\n",
            "Epoch 12/50\n",
            "20/20 [==============================] - 0s 9ms/step - loss: 0.0271 - accuracy: 0.9902 - precision: 0.9905 - recall: 0.9905 - val_loss: 1.0511 - val_accuracy: 0.7974 - val_precision: 0.6552 - val_recall: 0.7755\n",
            "Epoch 13/50\n",
            "20/20 [==============================] - 0s 9ms/step - loss: 0.0277 - accuracy: 0.9869 - precision: 0.9842 - recall: 0.9905 - val_loss: 1.1262 - val_accuracy: 0.7908 - val_precision: 0.9048 - val_recall: 0.3878\n",
            "Epoch 14/50\n",
            "20/20 [==============================] - 0s 9ms/step - loss: 0.2187 - accuracy: 0.9378 - precision: 0.9342 - recall: 0.9460 - val_loss: 0.6345 - val_accuracy: 0.7124 - val_precision: 0.5316 - val_recall: 0.8571\n",
            "Epoch 15/50\n",
            "20/20 [==============================] - 0s 8ms/step - loss: 0.0671 - accuracy: 0.9722 - precision: 0.9599 - recall: 0.9873 - val_loss: 1.0253 - val_accuracy: 0.8105 - val_precision: 0.6667 - val_recall: 0.8163\n",
            "Epoch 16/50\n",
            "20/20 [==============================] - 0s 9ms/step - loss: 0.0317 - accuracy: 0.9869 - precision: 0.9904 - recall: 0.9841 - val_loss: 1.3977 - val_accuracy: 0.7582 - val_precision: 0.5789 - val_recall: 0.8980\n",
            "Epoch 17/50\n",
            "20/20 [==============================] - 0s 9ms/step - loss: 0.0155 - accuracy: 0.9935 - precision: 0.9905 - recall: 0.9968 - val_loss: 1.3745 - val_accuracy: 0.7712 - val_precision: 0.5972 - val_recall: 0.8776\n",
            "Epoch 18/50\n",
            "20/20 [==============================] - 0s 9ms/step - loss: 0.0203 - accuracy: 0.9935 - precision: 0.9937 - recall: 0.9937 - val_loss: 1.0744 - val_accuracy: 0.8039 - val_precision: 0.6508 - val_recall: 0.8367\n",
            "Epoch 19/50\n",
            "20/20 [==============================] - 0s 8ms/step - loss: 0.0037 - accuracy: 0.9984 - precision: 1.0000 - recall: 0.9968 - val_loss: 1.3098 - val_accuracy: 0.7712 - val_precision: 0.6029 - val_recall: 0.8367\n",
            "Epoch 20/50\n",
            "20/20 [==============================] - 0s 8ms/step - loss: 0.0052 - accuracy: 0.9984 - precision: 0.9968 - recall: 1.0000 - val_loss: 1.0660 - val_accuracy: 0.8301 - val_precision: 0.7018 - val_recall: 0.8163\n",
            "Epoch 21/50\n",
            "20/20 [==============================] - 0s 8ms/step - loss: 0.0011 - accuracy: 1.0000 - precision: 1.0000 - recall: 1.0000 - val_loss: 1.6543 - val_accuracy: 0.7582 - val_precision: 0.5833 - val_recall: 0.8571\n",
            "Epoch 22/50\n",
            "20/20 [==============================] - 0s 8ms/step - loss: 0.0015 - accuracy: 1.0000 - precision: 1.0000 - recall: 1.0000 - val_loss: 1.0320 - val_accuracy: 0.8105 - val_precision: 0.6786 - val_recall: 0.7755\n",
            "Epoch 23/50\n",
            "20/20 [==============================] - 0s 8ms/step - loss: 1.4456e-04 - accuracy: 1.0000 - precision: 1.0000 - recall: 1.0000 - val_loss: 1.2312 - val_accuracy: 0.8039 - val_precision: 0.6610 - val_recall: 0.7959\n",
            "Epoch 24/50\n",
            "20/20 [==============================] - 0s 9ms/step - loss: 8.4078e-05 - accuracy: 1.0000 - precision: 1.0000 - recall: 1.0000 - val_loss: 1.2863 - val_accuracy: 0.8039 - val_precision: 0.6610 - val_recall: 0.7959\n",
            "Epoch 25/50\n",
            "20/20 [==============================] - 0s 9ms/step - loss: 3.4084e-05 - accuracy: 1.0000 - precision: 1.0000 - recall: 1.0000 - val_loss: 1.5657 - val_accuracy: 0.8039 - val_precision: 0.6610 - val_recall: 0.7959\n",
            "Epoch 26/50\n",
            "20/20 [==============================] - 0s 8ms/step - loss: 4.6863e-06 - accuracy: 1.0000 - precision: 1.0000 - recall: 1.0000 - val_loss: 1.7092 - val_accuracy: 0.8039 - val_precision: 0.6667 - val_recall: 0.7755\n",
            "Epoch 27/50\n",
            "20/20 [==============================] - 0s 9ms/step - loss: 2.4505e-06 - accuracy: 1.0000 - precision: 1.0000 - recall: 1.0000 - val_loss: 1.9377 - val_accuracy: 0.7974 - val_precision: 0.6500 - val_recall: 0.7959\n",
            "Epoch 28/50\n",
            "20/20 [==============================] - 0s 9ms/step - loss: 2.5099e-06 - accuracy: 1.0000 - precision: 1.0000 - recall: 1.0000 - val_loss: 1.8088 - val_accuracy: 0.8039 - val_precision: 0.6667 - val_recall: 0.7755\n",
            "Epoch 29/50\n",
            "20/20 [==============================] - 0s 8ms/step - loss: 1.3527e-06 - accuracy: 1.0000 - precision: 1.0000 - recall: 1.0000 - val_loss: 1.8856 - val_accuracy: 0.8039 - val_precision: 0.6610 - val_recall: 0.7959\n",
            "Epoch 30/50\n",
            "20/20 [==============================] - 0s 8ms/step - loss: 1.1673e-06 - accuracy: 1.0000 - precision: 1.0000 - recall: 1.0000 - val_loss: 1.8860 - val_accuracy: 0.8105 - val_precision: 0.6724 - val_recall: 0.7959\n",
            "Epoch 31/50\n",
            "20/20 [==============================] - 0s 8ms/step - loss: 1.0937e-06 - accuracy: 1.0000 - precision: 1.0000 - recall: 1.0000 - val_loss: 1.9177 - val_accuracy: 0.8039 - val_precision: 0.6610 - val_recall: 0.7959\n",
            "Epoch 32/50\n",
            "20/20 [==============================] - 0s 8ms/step - loss: 1.2743e-06 - accuracy: 1.0000 - precision: 1.0000 - recall: 1.0000 - val_loss: 1.9766 - val_accuracy: 0.8039 - val_precision: 0.6610 - val_recall: 0.7959\n",
            "Epoch 33/50\n",
            "20/20 [==============================] - 0s 11ms/step - loss: 8.7191e-07 - accuracy: 1.0000 - precision: 1.0000 - recall: 1.0000 - val_loss: 1.9003 - val_accuracy: 0.8039 - val_precision: 0.6667 - val_recall: 0.7755\n",
            "Epoch 34/50\n",
            "20/20 [==============================] - 0s 8ms/step - loss: 1.0659e-06 - accuracy: 1.0000 - precision: 1.0000 - recall: 1.0000 - val_loss: 1.9361 - val_accuracy: 0.8105 - val_precision: 0.6724 - val_recall: 0.7959\n",
            "Epoch 35/50\n",
            "20/20 [==============================] - 0s 8ms/step - loss: 7.6562e-07 - accuracy: 1.0000 - precision: 1.0000 - recall: 1.0000 - val_loss: 2.0184 - val_accuracy: 0.8039 - val_precision: 0.6610 - val_recall: 0.7959\n",
            "Epoch 36/50\n",
            "20/20 [==============================] - 0s 9ms/step - loss: 7.4749e-07 - accuracy: 1.0000 - precision: 1.0000 - recall: 1.0000 - val_loss: 1.9517 - val_accuracy: 0.8105 - val_precision: 0.6724 - val_recall: 0.7959\n",
            "Epoch 37/50\n",
            "20/20 [==============================] - 0s 9ms/step - loss: 7.4621e-07 - accuracy: 1.0000 - precision: 1.0000 - recall: 1.0000 - val_loss: 1.9747 - val_accuracy: 0.8105 - val_precision: 0.6724 - val_recall: 0.7959\n",
            "Epoch 38/50\n",
            "20/20 [==============================] - 0s 8ms/step - loss: 6.8212e-07 - accuracy: 1.0000 - precision: 1.0000 - recall: 1.0000 - val_loss: 1.9712 - val_accuracy: 0.8105 - val_precision: 0.6724 - val_recall: 0.7959\n",
            "Epoch 39/50\n",
            "20/20 [==============================] - 0s 8ms/step - loss: 6.5080e-07 - accuracy: 1.0000 - precision: 1.0000 - recall: 1.0000 - val_loss: 1.9929 - val_accuracy: 0.8039 - val_precision: 0.6610 - val_recall: 0.7959\n",
            "Epoch 40/50\n",
            "20/20 [==============================] - 0s 8ms/step - loss: 6.4428e-07 - accuracy: 1.0000 - precision: 1.0000 - recall: 1.0000 - val_loss: 2.0106 - val_accuracy: 0.8039 - val_precision: 0.6610 - val_recall: 0.7959\n",
            "Epoch 41/50\n",
            "20/20 [==============================] - 0s 8ms/step - loss: 6.8088e-07 - accuracy: 1.0000 - precision: 1.0000 - recall: 1.0000 - val_loss: 1.9847 - val_accuracy: 0.8105 - val_precision: 0.6724 - val_recall: 0.7959\n",
            "Epoch 42/50\n",
            "20/20 [==============================] - 0s 9ms/step - loss: 6.2369e-07 - accuracy: 1.0000 - precision: 1.0000 - recall: 1.0000 - val_loss: 1.9976 - val_accuracy: 0.8105 - val_precision: 0.6724 - val_recall: 0.7959\n",
            "Epoch 43/50\n",
            "20/20 [==============================] - 0s 9ms/step - loss: 6.0519e-07 - accuracy: 1.0000 - precision: 1.0000 - recall: 1.0000 - val_loss: 2.0115 - val_accuracy: 0.8039 - val_precision: 0.6610 - val_recall: 0.7959\n",
            "Epoch 44/50\n",
            "20/20 [==============================] - 0s 8ms/step - loss: 5.8590e-07 - accuracy: 1.0000 - precision: 1.0000 - recall: 1.0000 - val_loss: 2.0156 - val_accuracy: 0.8039 - val_precision: 0.6610 - val_recall: 0.7959\n",
            "Epoch 45/50\n",
            "20/20 [==============================] - 0s 9ms/step - loss: 5.6192e-07 - accuracy: 1.0000 - precision: 1.0000 - recall: 1.0000 - val_loss: 2.0303 - val_accuracy: 0.8039 - val_precision: 0.6610 - val_recall: 0.7959\n",
            "Epoch 46/50\n",
            "20/20 [==============================] - 0s 8ms/step - loss: 5.3355e-07 - accuracy: 1.0000 - precision: 1.0000 - recall: 1.0000 - val_loss: 2.0313 - val_accuracy: 0.8039 - val_precision: 0.6610 - val_recall: 0.7959\n",
            "Epoch 47/50\n",
            "20/20 [==============================] - 0s 9ms/step - loss: 5.2778e-07 - accuracy: 1.0000 - precision: 1.0000 - recall: 1.0000 - val_loss: 2.0471 - val_accuracy: 0.8039 - val_precision: 0.6610 - val_recall: 0.7959\n",
            "Epoch 48/50\n",
            "20/20 [==============================] - 0s 8ms/step - loss: 4.9350e-07 - accuracy: 1.0000 - precision: 1.0000 - recall: 1.0000 - val_loss: 2.0352 - val_accuracy: 0.8039 - val_precision: 0.6610 - val_recall: 0.7959\n",
            "Epoch 49/50\n",
            "20/20 [==============================] - 0s 8ms/step - loss: 4.8570e-07 - accuracy: 1.0000 - precision: 1.0000 - recall: 1.0000 - val_loss: 2.0415 - val_accuracy: 0.8039 - val_precision: 0.6610 - val_recall: 0.7959\n",
            "Epoch 50/50\n",
            "20/20 [==============================] - 0s 8ms/step - loss: 4.7878e-07 - accuracy: 1.0000 - precision: 1.0000 - recall: 1.0000 - val_loss: 2.0527 - val_accuracy: 0.8039 - val_precision: 0.6610 - val_recall: 0.7959\n"
          ]
        }
      ]
    },
    {
      "cell_type": "code",
      "source": [
        "val_acc_per_epoch = history_General.history['val_loss']\n",
        "best_epoch_General = val_acc_per_epoch.index(max(val_acc_per_epoch)) + 1\n",
        "print('Best epoch: %d' % (best_epoch_General,))\n"
      ],
      "metadata": {
        "colab": {
          "base_uri": "https://localhost:8080/"
        },
        "id": "06c8gB8VoaSh",
        "outputId": "2f4b8a70-3b7a-4f31-e41f-d5fbd839751c"
      },
      "execution_count": 84,
      "outputs": [
        {
          "output_type": "stream",
          "name": "stdout",
          "text": [
            "Best epoch: 50\n"
          ]
        }
      ]
    },
    {
      "cell_type": "code",
      "source": [
        "\n",
        "hypermodel_General = tuner_RandomSearch_mlp.hypermodel.build(best_hps_General)\n"
      ],
      "metadata": {
        "id": "eSGivSXgocjq"
      },
      "execution_count": 85,
      "outputs": []
    },
    {
      "cell_type": "code",
      "source": [
        "# Retrain the model\n",
        "hypermodel_General.fit(X_train_General, Y_train_General, epochs=best_epoch_General, validation_split=0.2)\n",
        "\n",
        "hypermodel_General.summary()"
      ],
      "metadata": {
        "colab": {
          "base_uri": "https://localhost:8080/"
        },
        "id": "cZ1i_kb1oepY",
        "outputId": "38c1c80c-eb14-490a-f098-abc5057ba9bc"
      },
      "execution_count": 86,
      "outputs": [
        {
          "output_type": "stream",
          "name": "stdout",
          "text": [
            "Epoch 1/50\n",
            "20/20 [==============================] - 2s 22ms/step - loss: 0.6101 - accuracy: 0.6759 - precision: 0.6845 - recall: 0.6889 - val_loss: 0.5426 - val_accuracy: 0.7320 - val_precision: 0.5556 - val_recall: 0.8163\n",
            "Epoch 2/50\n",
            "20/20 [==============================] - 0s 8ms/step - loss: 0.5184 - accuracy: 0.7283 - precision: 0.7052 - recall: 0.8127 - val_loss: 0.4989 - val_accuracy: 0.7582 - val_precision: 0.6500 - val_recall: 0.5306\n",
            "Epoch 3/50\n",
            "20/20 [==============================] - 0s 9ms/step - loss: 0.4514 - accuracy: 0.7921 - precision: 0.8013 - recall: 0.7937 - val_loss: 0.5287 - val_accuracy: 0.7190 - val_precision: 0.5441 - val_recall: 0.7551\n",
            "Epoch 4/50\n",
            "20/20 [==============================] - 0s 8ms/step - loss: 0.3459 - accuracy: 0.8560 - precision: 0.8471 - recall: 0.8794 - val_loss: 0.5130 - val_accuracy: 0.7712 - val_precision: 0.6750 - val_recall: 0.5510\n",
            "Epoch 5/50\n",
            "20/20 [==============================] - 0s 8ms/step - loss: 0.3300 - accuracy: 0.8625 - precision: 0.8576 - recall: 0.8794 - val_loss: 0.5099 - val_accuracy: 0.7778 - val_precision: 0.6415 - val_recall: 0.6939\n",
            "Epoch 6/50\n",
            "20/20 [==============================] - 0s 8ms/step - loss: 0.2638 - accuracy: 0.8953 - precision: 0.8910 - recall: 0.9079 - val_loss: 0.5829 - val_accuracy: 0.7582 - val_precision: 0.5968 - val_recall: 0.7551\n",
            "Epoch 7/50\n",
            "20/20 [==============================] - 0s 8ms/step - loss: 0.2011 - accuracy: 0.9149 - precision: 0.9122 - recall: 0.9238 - val_loss: 0.5862 - val_accuracy: 0.8039 - val_precision: 0.6863 - val_recall: 0.7143\n",
            "Epoch 8/50\n",
            "20/20 [==============================] - 0s 9ms/step - loss: 0.1809 - accuracy: 0.9476 - precision: 0.9408 - recall: 0.9587 - val_loss: 0.5607 - val_accuracy: 0.8039 - val_precision: 0.7317 - val_recall: 0.6122\n",
            "Epoch 9/50\n",
            "20/20 [==============================] - 0s 9ms/step - loss: 0.1513 - accuracy: 0.9394 - precision: 0.9427 - recall: 0.9397 - val_loss: 1.1774 - val_accuracy: 0.7255 - val_precision: 0.5443 - val_recall: 0.8776\n",
            "Epoch 10/50\n",
            "20/20 [==============================] - 0s 8ms/step - loss: 0.1986 - accuracy: 0.9198 - precision: 0.9055 - recall: 0.9429 - val_loss: 0.7328 - val_accuracy: 0.7582 - val_precision: 0.5833 - val_recall: 0.8571\n",
            "Epoch 11/50\n",
            "20/20 [==============================] - 0s 9ms/step - loss: 0.0598 - accuracy: 0.9804 - precision: 0.9810 - recall: 0.9810 - val_loss: 0.8364 - val_accuracy: 0.8170 - val_precision: 0.6842 - val_recall: 0.7959\n",
            "Epoch 12/50\n",
            "20/20 [==============================] - 0s 8ms/step - loss: 0.0232 - accuracy: 0.9935 - precision: 0.9968 - recall: 0.9905 - val_loss: 1.0534 - val_accuracy: 0.8170 - val_precision: 0.6667 - val_recall: 0.8571\n",
            "Epoch 13/50\n",
            "20/20 [==============================] - 0s 8ms/step - loss: 0.0171 - accuracy: 0.9918 - precision: 0.9936 - recall: 0.9905 - val_loss: 1.1593 - val_accuracy: 0.7647 - val_precision: 0.5890 - val_recall: 0.8776\n",
            "Epoch 14/50\n",
            "20/20 [==============================] - 0s 9ms/step - loss: 0.0198 - accuracy: 0.9918 - precision: 0.9905 - recall: 0.9937 - val_loss: 1.2938 - val_accuracy: 0.7908 - val_precision: 0.6269 - val_recall: 0.8571\n",
            "Epoch 15/50\n",
            "20/20 [==============================] - 0s 8ms/step - loss: 0.0071 - accuracy: 0.9967 - precision: 0.9968 - recall: 0.9968 - val_loss: 1.5818 - val_accuracy: 0.7712 - val_precision: 0.5972 - val_recall: 0.8776\n",
            "Epoch 16/50\n",
            "20/20 [==============================] - 0s 9ms/step - loss: 0.0024 - accuracy: 1.0000 - precision: 1.0000 - recall: 1.0000 - val_loss: 1.2580 - val_accuracy: 0.7908 - val_precision: 0.6393 - val_recall: 0.7959\n",
            "Epoch 17/50\n",
            "20/20 [==============================] - 0s 8ms/step - loss: 0.0026 - accuracy: 0.9984 - precision: 0.9968 - recall: 1.0000 - val_loss: 1.7464 - val_accuracy: 0.7843 - val_precision: 0.6212 - val_recall: 0.8367\n",
            "Epoch 18/50\n",
            "20/20 [==============================] - 0s 8ms/step - loss: 0.0016 - accuracy: 1.0000 - precision: 1.0000 - recall: 1.0000 - val_loss: 2.4604 - val_accuracy: 0.7516 - val_precision: 0.5714 - val_recall: 0.8980\n",
            "Epoch 19/50\n",
            "20/20 [==============================] - 0s 7ms/step - loss: 4.6147e-04 - accuracy: 1.0000 - precision: 1.0000 - recall: 1.0000 - val_loss: 1.6514 - val_accuracy: 0.7974 - val_precision: 0.6364 - val_recall: 0.8571\n",
            "Epoch 20/50\n",
            "20/20 [==============================] - 0s 8ms/step - loss: 1.3359e-04 - accuracy: 1.0000 - precision: 1.0000 - recall: 1.0000 - val_loss: 1.6575 - val_accuracy: 0.8105 - val_precision: 0.6562 - val_recall: 0.8571\n",
            "Epoch 21/50\n",
            "20/20 [==============================] - 0s 8ms/step - loss: 6.2273e-05 - accuracy: 1.0000 - precision: 1.0000 - recall: 1.0000 - val_loss: 1.7874 - val_accuracy: 0.7908 - val_precision: 0.6269 - val_recall: 0.8571\n",
            "Epoch 22/50\n",
            "20/20 [==============================] - 0s 8ms/step - loss: 3.0447e-05 - accuracy: 1.0000 - precision: 1.0000 - recall: 1.0000 - val_loss: 1.8833 - val_accuracy: 0.7908 - val_precision: 0.6269 - val_recall: 0.8571\n",
            "Epoch 23/50\n",
            "20/20 [==============================] - 0s 8ms/step - loss: 2.0649e-05 - accuracy: 1.0000 - precision: 1.0000 - recall: 1.0000 - val_loss: 1.9537 - val_accuracy: 0.7974 - val_precision: 0.6324 - val_recall: 0.8776\n",
            "Epoch 24/50\n",
            "20/20 [==============================] - 0s 8ms/step - loss: 1.5092e-05 - accuracy: 1.0000 - precision: 1.0000 - recall: 1.0000 - val_loss: 2.0219 - val_accuracy: 0.7974 - val_precision: 0.6324 - val_recall: 0.8776\n",
            "Epoch 25/50\n",
            "20/20 [==============================] - 0s 9ms/step - loss: 1.2603e-05 - accuracy: 1.0000 - precision: 1.0000 - recall: 1.0000 - val_loss: 2.0729 - val_accuracy: 0.7974 - val_precision: 0.6324 - val_recall: 0.8776\n",
            "Epoch 26/50\n",
            "20/20 [==============================] - 0s 9ms/step - loss: 1.0764e-05 - accuracy: 1.0000 - precision: 1.0000 - recall: 1.0000 - val_loss: 2.1056 - val_accuracy: 0.7974 - val_precision: 0.6324 - val_recall: 0.8776\n",
            "Epoch 27/50\n",
            "20/20 [==============================] - 0s 9ms/step - loss: 9.2724e-06 - accuracy: 1.0000 - precision: 1.0000 - recall: 1.0000 - val_loss: 2.1362 - val_accuracy: 0.7974 - val_precision: 0.6324 - val_recall: 0.8776\n",
            "Epoch 28/50\n",
            "20/20 [==============================] - 0s 9ms/step - loss: 8.2073e-06 - accuracy: 1.0000 - precision: 1.0000 - recall: 1.0000 - val_loss: 2.1609 - val_accuracy: 0.7974 - val_precision: 0.6324 - val_recall: 0.8776\n",
            "Epoch 29/50\n",
            "20/20 [==============================] - 0s 8ms/step - loss: 7.3198e-06 - accuracy: 1.0000 - precision: 1.0000 - recall: 1.0000 - val_loss: 2.1893 - val_accuracy: 0.7974 - val_precision: 0.6324 - val_recall: 0.8776\n",
            "Epoch 30/50\n",
            "20/20 [==============================] - 0s 8ms/step - loss: 6.5968e-06 - accuracy: 1.0000 - precision: 1.0000 - recall: 1.0000 - val_loss: 2.2150 - val_accuracy: 0.7974 - val_precision: 0.6324 - val_recall: 0.8776\n",
            "Epoch 31/50\n",
            "20/20 [==============================] - 0s 9ms/step - loss: 5.9328e-06 - accuracy: 1.0000 - precision: 1.0000 - recall: 1.0000 - val_loss: 2.2373 - val_accuracy: 0.7974 - val_precision: 0.6324 - val_recall: 0.8776\n",
            "Epoch 32/50\n",
            "20/20 [==============================] - 0s 9ms/step - loss: 5.4364e-06 - accuracy: 1.0000 - precision: 1.0000 - recall: 1.0000 - val_loss: 2.2584 - val_accuracy: 0.7974 - val_precision: 0.6324 - val_recall: 0.8776\n",
            "Epoch 33/50\n",
            "20/20 [==============================] - 0s 8ms/step - loss: 5.0014e-06 - accuracy: 1.0000 - precision: 1.0000 - recall: 1.0000 - val_loss: 2.2759 - val_accuracy: 0.7974 - val_precision: 0.6324 - val_recall: 0.8776\n",
            "Epoch 34/50\n",
            "20/20 [==============================] - 0s 8ms/step - loss: 4.6057e-06 - accuracy: 1.0000 - precision: 1.0000 - recall: 1.0000 - val_loss: 2.2968 - val_accuracy: 0.7908 - val_precision: 0.6232 - val_recall: 0.8776\n",
            "Epoch 35/50\n",
            "20/20 [==============================] - 0s 8ms/step - loss: 4.1631e-06 - accuracy: 1.0000 - precision: 1.0000 - recall: 1.0000 - val_loss: 2.3341 - val_accuracy: 0.7908 - val_precision: 0.6232 - val_recall: 0.8776\n",
            "Epoch 36/50\n",
            "20/20 [==============================] - 0s 8ms/step - loss: 3.8410e-06 - accuracy: 1.0000 - precision: 1.0000 - recall: 1.0000 - val_loss: 2.3527 - val_accuracy: 0.7908 - val_precision: 0.6232 - val_recall: 0.8776\n",
            "Epoch 37/50\n",
            "20/20 [==============================] - 0s 8ms/step - loss: 3.5530e-06 - accuracy: 1.0000 - precision: 1.0000 - recall: 1.0000 - val_loss: 2.3651 - val_accuracy: 0.7908 - val_precision: 0.6232 - val_recall: 0.8776\n",
            "Epoch 38/50\n",
            "20/20 [==============================] - 0s 9ms/step - loss: 3.2661e-06 - accuracy: 1.0000 - precision: 1.0000 - recall: 1.0000 - val_loss: 2.3699 - val_accuracy: 0.7908 - val_precision: 0.6232 - val_recall: 0.8776\n",
            "Epoch 39/50\n",
            "20/20 [==============================] - 0s 10ms/step - loss: 3.0489e-06 - accuracy: 1.0000 - precision: 1.0000 - recall: 1.0000 - val_loss: 2.3835 - val_accuracy: 0.7908 - val_precision: 0.6232 - val_recall: 0.8776\n",
            "Epoch 40/50\n",
            "20/20 [==============================] - 0s 15ms/step - loss: 2.8612e-06 - accuracy: 1.0000 - precision: 1.0000 - recall: 1.0000 - val_loss: 2.4008 - val_accuracy: 0.7908 - val_precision: 0.6232 - val_recall: 0.8776\n",
            "Epoch 41/50\n",
            "20/20 [==============================] - 0s 14ms/step - loss: 2.7002e-06 - accuracy: 1.0000 - precision: 1.0000 - recall: 1.0000 - val_loss: 2.4130 - val_accuracy: 0.7908 - val_precision: 0.6232 - val_recall: 0.8776\n",
            "Epoch 42/50\n",
            "20/20 [==============================] - 0s 13ms/step - loss: 2.5628e-06 - accuracy: 1.0000 - precision: 1.0000 - recall: 1.0000 - val_loss: 2.4253 - val_accuracy: 0.7908 - val_precision: 0.6232 - val_recall: 0.8776\n",
            "Epoch 43/50\n",
            "20/20 [==============================] - 0s 13ms/step - loss: 2.4259e-06 - accuracy: 1.0000 - precision: 1.0000 - recall: 1.0000 - val_loss: 2.4346 - val_accuracy: 0.7908 - val_precision: 0.6232 - val_recall: 0.8776\n",
            "Epoch 44/50\n",
            "20/20 [==============================] - 0s 13ms/step - loss: 2.3105e-06 - accuracy: 1.0000 - precision: 1.0000 - recall: 1.0000 - val_loss: 2.4480 - val_accuracy: 0.7908 - val_precision: 0.6232 - val_recall: 0.8776\n",
            "Epoch 45/50\n",
            "20/20 [==============================] - 0s 15ms/step - loss: 2.1812e-06 - accuracy: 1.0000 - precision: 1.0000 - recall: 1.0000 - val_loss: 2.4663 - val_accuracy: 0.7908 - val_precision: 0.6232 - val_recall: 0.8776\n",
            "Epoch 46/50\n",
            "20/20 [==============================] - 0s 14ms/step - loss: 2.0783e-06 - accuracy: 1.0000 - precision: 1.0000 - recall: 1.0000 - val_loss: 2.4786 - val_accuracy: 0.7908 - val_precision: 0.6232 - val_recall: 0.8776\n",
            "Epoch 47/50\n",
            "20/20 [==============================] - 0s 13ms/step - loss: 1.9778e-06 - accuracy: 1.0000 - precision: 1.0000 - recall: 1.0000 - val_loss: 2.4901 - val_accuracy: 0.7908 - val_precision: 0.6232 - val_recall: 0.8776\n",
            "Epoch 48/50\n",
            "20/20 [==============================] - 0s 13ms/step - loss: 1.8874e-06 - accuracy: 1.0000 - precision: 1.0000 - recall: 1.0000 - val_loss: 2.4974 - val_accuracy: 0.7908 - val_precision: 0.6232 - val_recall: 0.8776\n",
            "Epoch 49/50\n",
            "20/20 [==============================] - 0s 13ms/step - loss: 1.8085e-06 - accuracy: 1.0000 - precision: 1.0000 - recall: 1.0000 - val_loss: 2.5059 - val_accuracy: 0.7908 - val_precision: 0.6232 - val_recall: 0.8776\n",
            "Epoch 50/50\n",
            "20/20 [==============================] - 0s 13ms/step - loss: 1.7299e-06 - accuracy: 1.0000 - precision: 1.0000 - recall: 1.0000 - val_loss: 2.5165 - val_accuracy: 0.7908 - val_precision: 0.6232 - val_recall: 0.8776\n",
            "Model: \"sequential_2\"\n",
            "_________________________________________________________________\n",
            " Layer (type)                Output Shape              Param #   \n",
            "=================================================================\n",
            " dense_13 (Dense)            (None, 64)                36160     \n",
            "                                                                 \n",
            " dense_14 (Dense)            (None, 256)               16640     \n",
            "                                                                 \n",
            " dense_15 (Dense)            (None, 64)                16448     \n",
            "                                                                 \n",
            " dense_16 (Dense)            (None, 288)               18720     \n",
            "                                                                 \n",
            " dense_17 (Dense)            (None, 544)               157216    \n",
            "                                                                 \n",
            " dense_18 (Dense)            (None, 1)                 545       \n",
            "                                                                 \n",
            "=================================================================\n",
            "Total params: 245,729\n",
            "Trainable params: 245,729\n",
            "Non-trainable params: 0\n",
            "_________________________________________________________________\n"
          ]
        }
      ]
    },
    {
      "cell_type": "code",
      "source": [
        "eval_result_General = hypermodel_General.evaluate(X_test_General, Y_test_General)\n",
        "\n"
      ],
      "metadata": {
        "colab": {
          "base_uri": "https://localhost:8080/"
        },
        "id": "Y-QEMgoHoh8a",
        "outputId": "df56d2f0-c114-46dd-ab14-91ec99bdc0c6"
      },
      "execution_count": 87,
      "outputs": [
        {
          "output_type": "stream",
          "name": "stdout",
          "text": [
            "11/11 [==============================] - 0s 3ms/step - loss: 1.7767 - accuracy: 0.7927 - precision: 0.6733 - recall: 0.8417\n"
          ]
        }
      ]
    },
    {
      "cell_type": "code",
      "source": [
        "\n",
        "import matplotlib.pyplot as plt\n",
        "from matplotlib import rcParams\n",
        "\n",
        "rcParams['figure.figsize'] = (18, 8)\n",
        "rcParams['axes.spines.top'] = False\n",
        "rcParams['axes.spines.right'] = False\n",
        "\n",
        "\n",
        "plt.plot(\n",
        "    #np.arange(1, 3), \n",
        "    history_General.history['loss'], label='Loss'\n",
        ")\n",
        "plt.plot(\n",
        "    #np.arange(1, best_epoch), \n",
        "    history_General.history['accuracy'], label='Accuracy'\n",
        ")\n",
        "plt.plot(\n",
        "    #np.arange(1, best_epoch), \n",
        "    history_General.history['precision'], label='Precision'\n",
        ")\n",
        "plt.plot(\n",
        "    #np.arange(1, best_epoch), \n",
        "    history_General.history['recall'], label='Recall'\n",
        ")\n",
        "plt.title('Evaluation metrics', size=20)\n",
        "plt.xlabel('Epoch', size=14)\n",
        "plt.legend();\n"
      ],
      "metadata": {
        "colab": {
          "base_uri": "https://localhost:8080/",
          "height": 604
        },
        "id": "1k-FXKjPojkr",
        "outputId": "77a57db2-4a36-4990-c923-0b93fce2eac5"
      },
      "execution_count": 88,
      "outputs": [
        {
          "output_type": "display_data",
          "data": {
            "text/plain": [
              "<Figure size 1800x800 with 1 Axes>"
            ],
            "image/png": "[encoded data removed]"
          },
          "metadata": {}
        }
      ]
    },
    {
      "cell_type": "code",
      "source": [
        "\n",
        "import numpy as np\n",
        "from sklearn.metrics import accuracy_score, confusion_matrix\n",
        "\n",
        "# Obtener las predicciones del modelo para los datos de prueba\n",
        "y_pred_General = hypermodel_General.predict(X_test_General) \n",
        "\n",
        "prediction_classes = [\n",
        "    1 if prob > 0.5 else 0 for prob in np.ravel(y_pred_General)\n",
        "]\n",
        "\n",
        "# Calcular la precisión\n",
        "accuracy = accuracy_score(Y_test_General,prediction_classes)\n",
        "print('Precisión en los datos de prueba:', accuracy)\n",
        "\n",
        "# Calcular la matriz de confusión\n",
        "confusion_General = confusion_matrix(Y_test_General,prediction_classes)\n",
        "print('Matriz de confusión:')\n",
        "print(confusion_General)\n"
      ],
      "metadata": {
        "colab": {
          "base_uri": "https://localhost:8080/"
        },
        "id": "NDfsWG_uom-e",
        "outputId": "324cccb1-15e7-49ee-bef0-f8a8256a6c88"
      },
      "execution_count": 89,
      "outputs": [
        {
          "output_type": "stream",
          "name": "stdout",
          "text": [
            "11/11 [==============================] - 0s 2ms/step\n",
            "Precisión en los datos de prueba: 0.7926829268292683\n",
            "Matriz de confusión:\n",
            "[[159  49]\n",
            " [ 19 101]]\n"
          ]
        }
      ]
    },
    {
      "cell_type": "code",
      "source": [
        "\n",
        "############## Ramdon Forest para expresión genetica y historial clinico ###################\n",
        "\n",
        "\n",
        "random_state_v2 = 254605\n",
        "N=5\n",
        "nIter = 25\n",
        "kf = RepeatedStratifiedKFold(n_splits=N, n_repeats=10, random_state=random_state_v2)\n",
        "AUC_DATA_RF=pd.DataFrame(columns=['Variable criterion', 'Variable n_estimators',\n",
        "                                  'Variable max_features', 'Variable max_depth',\n",
        "                                  'Variable min_samples_split', 'Variable min_samples_leaf','MEDIA_RF','STD_RF'],index=range(1,1+nIter))\n",
        "\n",
        "# Parametros de tuning RF\n",
        "criterion = ['gini', 'entropy']\n",
        "n_estimators = np.arange(50,1000,10)\n",
        "max_features = ['auto', 'sqrt', 'log2'] \n",
        "max_depth = [int(x) for x in np.linspace(10, 110, num = 11)];max_depth.append(None)\n",
        "# min_samples_split = [int(x) for x in np.linspace(4, 40, num = 18)]\n",
        "min_samples_split = np.concatenate([[0.01], np.linspace(0.1,1,10)])  \n",
        "# min_samples_leaf = [x for x in np.linspace(start = 0, stop = 1, num = 50)]\n",
        "min_samples_leaf = np.concatenate([[0.01], np.linspace(0.1,0.5,5)])  \n",
        "\n",
        "random_grid = {'criterion': criterion,\n",
        "               'n_estimators': n_estimators,\n",
        "                'max_features': max_features, \n",
        "                'max_depth': max_depth,\n",
        "                'min_samples_split': min_samples_split,\n",
        "                'min_samples_leaf': min_samples_leaf}     \n",
        "#Ramdon forest base  \n",
        "random_forest = RandomForestClassifier(min_weight_fraction_leaf=0.0, # Same as above, but uses the class weights.                                \n",
        "                            max_leaf_nodes=None, # Maximum number of nodes.\n",
        "                            # max_depth=None, # Max depth of the trees. Not necessary to change.\n",
        "                            min_impurity_decrease=0.0003, # Minimum impurity decrease. This is 10^-3.\n",
        "                            bootstrap=True, # If sample with repetition. For large samples (>100.000) set to false.\n",
        "                            oob_score=True,  # If report accuracy with non-selected cases.\n",
        "                            n_jobs=-1, # Parallel processing. Set to -1 for all cores. Watch your RAM!!\n",
        "                            random_state=random_state_v2, # Seed\n",
        "                            verbose=0, # If to give info during training. Set to 0 for silent training.\n",
        "                            warm_start=False, # If train over previously trained tree.\n",
        "                            class_weight='balanced')      \n",
        "\n",
        "\n",
        "random_forestTuning = RandomizedSearchCV(estimator = random_forest, param_distributions = random_grid, n_iter = nIter, cv = kf, verbose=1, random_state=random_state_v2, n_jobs = -1, scoring='roc_auc')\n",
        "random_forestTuning.fit(X_train_General,Y_train_General)\n",
        "\n",
        " # Resultados\n",
        "cvres2 = random_forestTuning.cv_results_ \n",
        "for i in range(1, nIter+1):\n",
        "    AUC_DATA_RF['Variable criterion'][i] = cvres2['params'][i-1]['criterion']\n",
        "    AUC_DATA_RF['Variable n_estimators'][i] = cvres2['params'][i-1]['n_estimators']\n",
        "    AUC_DATA_RF['Variable max_features'][i] = cvres2['params'][i-1]['max_features']\n",
        "    AUC_DATA_RF['Variable max_depth'][i] = cvres2['params'][i-1]['max_depth']\n",
        "    AUC_DATA_RF['Variable min_samples_split'][i] = cvres2['params'][i-1]['min_samples_split']\n",
        "    AUC_DATA_RF['Variable min_samples_leaf'][i] = cvres2['params'][i-1]['min_samples_leaf']\n",
        "    AUC_DATA_RF['MEDIA_RF'][i] = cvres2['mean_test_score'][i-1]\n",
        "    AUC_DATA_RF['STD_RF'][i] = cvres2['std_test_score'][i-1]\n",
        "\n",
        "\n",
        "try:   \n",
        "    RF_BestCho=np.array(AUC_DATA_RF.iloc[np.where(np.max(AUC_DATA_RF.iloc[:,6])==AUC_DATA_RF.iloc[:,6])[0],0:6])[0]\n",
        "except:\n",
        "    RF_BestCho = np.nan\n",
        "print('La configuración RF que genera mejor AUC es '+str(RF_BestCho))\n",
        "   \n"
      ],
      "metadata": {
        "colab": {
          "base_uri": "https://localhost:8080/"
        },
        "id": "NU4Uwh_5oqvo",
        "outputId": "a0ccae67-1c6f-494f-9fdb-aae8bfa64133"
      },
      "execution_count": 90,
      "outputs": [
        {
          "output_type": "stream",
          "name": "stdout",
          "text": [
            "Fitting 50 folds for each of 25 candidates, totalling 1250 fits\n",
            "La configuración RF que genera mejor AUC es ['entropy' 330 'sqrt' 70 0.2 0.01]\n"
          ]
        }
      ]
    },
    {
      "cell_type": "code",
      "source": [
        "  \n",
        "###########################################  Predicción RF ##################################################   \n",
        "random_forest = RandomForestClassifier(criterion = RF_BestCho[0],\n",
        "                                           n_estimators = RF_BestCho[1],\n",
        "                                           max_features = RF_BestCho[2], \n",
        "                                           max_depth = RF_BestCho[3],\n",
        "                                           min_samples_split = RF_BestCho[4],\n",
        "                                           min_samples_leaf = RF_BestCho[5],\n",
        "                                           min_weight_fraction_leaf=0.0, # Same as above, but uses the class weights.\n",
        "                                           max_leaf_nodes=None, # Maximum number of nodes.                                               \n",
        "                                           min_impurity_decrease=0.0003, # Minimum impurity decrease. This is 10^-3.\n",
        "                                           bootstrap=True, # If sample with repetition. For large samples (>100.000) set to false.\n",
        "                                           oob_score=True,  # If report accuracy with non-selected cases.\n",
        "                                           n_jobs=1, # Parallel processing. Set to -1 for all cores. Watch your RAM!!\n",
        "                                           random_state=random_state_v2, # Seed\n",
        "                                           verbose=0, # If to give info during training. Set to 0 for silent training.\n",
        "                                           warm_start=False, # If train over previously trained tree.\n",
        "                                           class_weight='balanced') \n",
        "\n",
        "\n",
        "result_expre = random_forest.fit(X_test_General,Y_test_General)\n",
        "\n",
        "\n",
        "Y_pred_RF_prob_General = random_forest.predict_proba(X_test_General)\n",
        "Y_pred_RF_Estado_General = random_forest.predict(X_test_General)\n"
      ],
      "metadata": {
        "id": "mB2xI_xHo2oQ"
      },
      "execution_count": 91,
      "outputs": []
    },
    {
      "cell_type": "code",
      "source": [
        "# Calcular la precisión\n",
        "accuracy_RF_General = accuracy_score(Y_test_General,Y_pred_RF_Estado_General)\n",
        "print('Precisión en los datos de prueba:', accuracy_RF_General)\n",
        "\n",
        "\n",
        "# Calcular la matriz de confusión\n",
        "confusion_RF_General = confusion_matrix(Y_test_General,Y_pred_RF_Estado_General)\n",
        "print('Matriz de confusión:')\n",
        "print(confusion_RF_General)\n",
        "\n",
        "\n"
      ],
      "metadata": {
        "colab": {
          "base_uri": "https://localhost:8080/"
        },
        "id": "hXZ0EPigo5Cr",
        "outputId": "10fa8e29-a4c3-44b6-951c-0c60650c0ae8"
      },
      "execution_count": 92,
      "outputs": [
        {
          "output_type": "stream",
          "name": "stdout",
          "text": [
            "Precisión en los datos de prueba: 1.0\n",
            "Matriz de confusión:\n",
            "[[208   0]\n",
            " [  0 120]]\n"
          ]
        }
      ]
    }
  ],
  "metadata": {
    "colab": {
      "provenance": [],
      "authorship_tag": "ABX9TyOiuCBxj1Zxa0dOEKPDaXGe",
      "include_colab_link": true
    },
    "kernelspec": {
      "display_name": "Python 3",
      "name": "python3"
    },
    "language_info": {
      "name": "python"
    }
  },
  "nbformat": 4,
  "nbformat_minor": 0
}