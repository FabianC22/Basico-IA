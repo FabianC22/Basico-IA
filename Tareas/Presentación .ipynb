{
 "cells": [
  {
   "cell_type": "markdown",
   "id": "19408ed1",
   "metadata": {},
   "source": [
    "![Logo|0.10](http://localhost:8888/tree/Inteligencia%20Artificial/ciencia-de-datos.png)"
   ]
  },
  {
   "cell_type": "markdown",
   "id": "c336b0d2",
   "metadata": {},
   "source": [
    "## Presentación\n",
    "Hola, me presento soy Fabian Castellanos soy estudiante de estadística en la Universidad Nacional de Colombia, basicamente mi camino academico esta dirigido al analísis de datos utilizando tecnicas estadísticas he implementación de ciencias de datos, es decir Machine learning y redes neuronales para la solución de problemas de regresión o clasificaciôn. \n",
    "\n",
    "![Logo|0.10](http://localhost:8888/tree/Inteligencia%20Artificial/Foto.jpeg)\n"
   ]
  },
  {
   "cell_type": "markdown",
   "id": "672a70bf",
   "metadata": {},
   "source": [
    "## Varianza"
   ]
  },
  {
   "cell_type": "markdown",
   "id": "6a6de2e9",
   "metadata": {},
   "source": [
    "Se definira el concepto de varianza, el cual es muy importante para la estadistíca y para su construcción teorica, basicamente es una medida de dispersión en los datos.\n",
    "\n",
    "La varianza, $S^2$, se define como la media de las deferencias cuadraticas de $n$ puntuaciones con respecto a su media aritmetica, es decir\n",
    "\n",
    "$$S^2= \\frac{1}{n} \\sum_{i=1}^{n} (x_{i}-\\bar{x})^2  $$\n",
    "\n",
    "### Ejemplo:\n",
    "\n",
    "Calcula la varianza de las siguientes cantidades:\n",
    "\n",
    "$3,3,4,4,5$\n",
    "\n",
    "Solución:\n",
    "\n",
    "Se calcula la media, $\\bar{x}=3,8$ y se aplica la ecuación de la varianza para cada punto observado, lo cual se obtiene la siguiente varianza, $S^2=0.56$\n",
    "\n",
    "### Refencias:\n",
    "\n",
    "[1.Varianza](https://virtual.uptc.edu.co/ova/estadistica/docs/libros/ftp.bioestadistica.uma.es/libro/node22.htm)\n"
   ]
  }
 ],
 "metadata": {
  "kernelspec": {
   "display_name": "Python 3 (ipykernel)",
   "language": "python",
   "name": "python3"
  },
  "language_info": {
   "codemirror_mode": {
    "name": "ipython",
    "version": 3
   },
   "file_extension": ".py",
   "mimetype": "text/x-python",
   "name": "python",
   "nbconvert_exporter": "python",
   "pygments_lexer": "ipython3",
   "version": "3.9.7"
  },
  "widgets": {
   "application/vnd.jupyter.widget-state+json": {
    "state": {},
    "version_major": 2,
    "version_minor": 0
   }
  }
 },
 "nbformat": 4,
 "nbformat_minor": 5
}
