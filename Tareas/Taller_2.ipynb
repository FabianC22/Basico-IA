{
  "nbformat": 4,
  "nbformat_minor": 0,
  "metadata": {
    "colab": {
      "provenance": [],
      "authorship_tag": "ABX9TyNLVmlP3W8LZFts8sD1x6DS",
      "include_colab_link": true
    },
    "kernelspec": {
      "name": "python3",
      "display_name": "Python 3"
    },
    "language_info": {
      "name": "python"
    }
  },
  "cells": [
    {
      "cell_type": "markdown",
      "metadata": {
        "id": "view-in-github",
        "colab_type": "text"
      },
      "source": [
        "<a href=\"https://colab.research.google.com/github/FabianC22/Dimplomado_Ciencia_Datos/blob/main/Taller_2.ipynb\" target=\"_parent\"><img src=\"https://colab.research.google.com/assets/colab-badge.svg\" alt=\"Open In Colab\"/></a>"
      ]
    },
    {
      "cell_type": "markdown",
      "source": [
        "# **Taller 2, Funciones**\n",
        "\n",
        "\n",
        "\n"
      ],
      "metadata": {
        "id": "72LRB0QrikaC"
      }
    },
    {
      "cell_type": "markdown",
      "source": [
        "1. Escriba una función  que reciba la fecha de nacimiento de una persona y calcule la edad de la persona"
      ],
      "metadata": {
        "id": "41dRpsryjRex"
      }
    },
    {
      "cell_type": "code",
      "source": [
        "from datetime import datetime\n",
        "from dateutil.relativedelta import relativedelta\n",
        "\n",
        "def edad(año,mes,dia):\n",
        "  edad = relativedelta(datetime.now(), datetime(año,mes,dia))\n",
        "  print(f\"{edad.years} años, {edad.months} meses y {edad.days} días\")\n",
        "\n",
        "\n",
        "edad(2000,8,22)"
      ],
      "metadata": {
        "colab": {
          "base_uri": "https://localhost:8080/"
        },
        "id": "gXTKSXGOjNvB",
        "outputId": "41f69766-412f-49b3-fa32-5042d38b57db"
      },
      "execution_count": null,
      "outputs": [
        {
          "output_type": "stream",
          "name": "stdout",
          "text": [
            "22 años, 5 meses y 29 días\n"
          ]
        }
      ]
    },
    {
      "cell_type": "markdown",
      "source": [
        "2. Crea una función EscribirCentrado, que reciba como parámetro un texto y lo escriba centrado en pantalla (suponiendo una anchura de 80 columnas; pista: deberás escribir 40 - longitud/2 espacios antes del texto). "
      ],
      "metadata": {
        "id": "lrqDJxYUlXWC"
      }
    },
    {
      "cell_type": "code",
      "source": [
        "def EscribirCentrado(texto):\n",
        "    longitud = len(texto)\n",
        "    espacios = 40 - int(longitud/2)\n",
        "    print(\" \" * espacios + texto)\n",
        "\n",
        "EscribirCentrado(\"Crea una función EscribirCentrado, que reciba como parámetro \")"
      ],
      "metadata": {
        "colab": {
          "base_uri": "https://localhost:8080/"
        },
        "id": "oFNA565gviMo",
        "outputId": "dcb6e9a9-6b29-422d-9c6c-b06715381e51"
      },
      "execution_count": 98,
      "outputs": [
        {
          "output_type": "stream",
          "name": "stdout",
          "text": [
            "          Crea una función EscribirCentrado, que reciba como parámetro \n"
          ]
        }
      ]
    },
    {
      "cell_type": "markdown",
      "source": [
        "3. Construya una función decorada que reciba un texto y lo escriba marcado con Markdown en itálica y resaltada (bold). Revise la lección de decoradores, no vista en clase"
      ],
      "metadata": {
        "id": "9H4ZzV57q8kj"
      }
    },
    {
      "cell_type": "code",
      "source": [
        "def markdown_decorador(func):\n",
        "    def wrapper(texto):\n",
        "        return \"**_\" + func(texto) + \"_**\"\n",
        "    return wrapper\n",
        "\n",
        "@markdown_decorador\n",
        "def escribir_markdown(texto):\n",
        "    return texto\n",
        "\n",
        "texto = \"Prueba en Markdown\"\n",
        "texto_formateado = escribir_markdown(texto)\n",
        "print(texto_formateado)"
      ],
      "metadata": {
        "id": "VQosXi3hleAI",
        "colab": {
          "base_uri": "https://localhost:8080/"
        },
        "outputId": "add0bfbb-27ea-4520-8c2c-f3857fdf322b"
      },
      "execution_count": 100,
      "outputs": [
        {
          "output_type": "stream",
          "name": "stdout",
          "text": [
            "**_Prueba en Markdown_**\n"
          ]
        }
      ]
    },
    {
      "cell_type": "markdown",
      "source": [
        "4.  Crea un programa que pida dos número enteros al usuario y diga si alguno de ellos es múltiplo del otro."
      ],
      "metadata": {
        "id": "bF23cH3yqv5m"
      }
    },
    {
      "cell_type": "code",
      "source": [
        "a = int(input('Escriba un número entero a?    '))\n",
        "b = int( input('Escriba un número entero b?    '))\n",
        "\n",
        "r1= a%b\n",
        "r2= b%a\n",
        "\n",
        "if r1==0:\n",
        "  print(b,'es multiplo de ',a)\n",
        "if r1 > 0:\n",
        "  print(b,'no es multiplo de ',a)\n",
        "\n",
        "if r2==0:\n",
        "  print(a,'es multiplo de ',b)\n",
        "if r2 > 0:\n",
        "  print(a,'no es multiplo de ',b)\n",
        "\n"
      ],
      "metadata": {
        "colab": {
          "base_uri": "https://localhost:8080/"
        },
        "id": "2IMnuWfqqxwf",
        "outputId": "163035f4-326b-4bf6-99ae-ff90134f1f33"
      },
      "execution_count": null,
      "outputs": [
        {
          "output_type": "stream",
          "name": "stdout",
          "text": [
            "Escriba un número entero a?    7\n",
            "Escriba un número entero b?    1\n",
            "0\n",
            "1 es multiplo de  7\n",
            "7 no es multiplo de  1\n"
          ]
        }
      ]
    },
    {
      "cell_type": "markdown",
      "source": [
        "5. Crear una función que reciba una lista  de 24 valores de temperatura leída  hora en un día y que calcule la temperatura media  Cree una lista con 24 valores de temperatura de un día de Bogotá y pruebe su función. Invente los datos."
      ],
      "metadata": {
        "id": "g91dEG5H08AH"
      }
    },
    {
      "cell_type": "code",
      "source": [
        "import numpy as np\n",
        "def temp(temperatura):\n",
        "  print(np.mean(temperatura))\n",
        "\n",
        "\n",
        "temperatura=[16.8, 12.4, 19.6, 22.7,25.9,13.493999,14.007655,21.470612,12.2, 9.4, 19.6, 26.8,17.2,6.7,12.005,24.12,11.8, 4.4, 9.6, 21.7,20.626,16.432,19.2355,18.454312]\n",
        "     \n",
        "temp(temperatura)\n"
      ],
      "metadata": {
        "colab": {
          "base_uri": "https://localhost:8080/"
        },
        "id": "bZR_jDxQ09yg",
        "outputId": "8041385d-54b6-44da-b31a-a5fb7eafda04"
      },
      "execution_count": null,
      "outputs": [
        {
          "output_type": "stream",
          "name": "stdout",
          "text": [
            "16.52687825\n"
          ]
        }
      ]
    },
    {
      "cell_type": "markdown",
      "source": [
        "6. Crea un función “ConvertirEspaciado”, que reciba como parámetro un texto y devuelve una cadena con un espacio adicional tras cada letra. Por ejemplo, “Hola, tú” devolverá “H o l a , t ú “.  Pruebe "
      ],
      "metadata": {
        "id": "Rc-8H5wn_zGE"
      }
    },
    {
      "cell_type": "code",
      "source": [
        "def ConvertirEspaciado(texto):\n",
        "    texto_formateado = \"\"\n",
        "    for letra in texto:\n",
        "        if letra != \" \":\n",
        "            texto_formateado += letra + \" \"\n",
        "        else:\n",
        "            texto_formateado += letra\n",
        "    return texto_formateado\n",
        "  \n",
        "texto = \"Hola, tú\"\n",
        "texto_formateado = ConvertirEspaciado(texto)\n",
        "print(texto_formateado)"
      ],
      "metadata": {
        "colab": {
          "base_uri": "https://localhost:8080/"
        },
        "id": "0BAbFzN1xmL8",
        "outputId": "8e0e7476-3185-4ece-d8b6-0ff502d522a5"
      },
      "execution_count": 101,
      "outputs": [
        {
          "output_type": "stream",
          "name": "stdout",
          "text": [
            "H o l a ,  t ú \n"
          ]
        }
      ]
    },
    {
      "cell_type": "markdown",
      "source": [
        "7. Crea una función “calcularMaxMin” que recibe una arreglo con valores numérico y devuelve el valor máximo y el mínimo. "
      ],
      "metadata": {
        "id": "B7i0wxYZAZFH"
      }
    },
    {
      "cell_type": "code",
      "source": [
        "\n",
        "\n",
        "def calcularMaxMin(datos):\n",
        "  print( \"Temperatura máxima:  \",max(temperatura))\n",
        "  print( \"Temperatura mínima:  \",min(temperatura))\n",
        "\n",
        "datos=[16.8, 12.4, 19.6, 22.7,25.9,13.493999,14.007655,21.470612,12.2, 9.4, 19.6, 26.8,17.2,6.7,12.005,24.12,11.8, 4.4, 9.6, 21.7,20.626,16.432,19.2355,18.454312]\n",
        "     \n",
        "calcularMaxMin(datos)"
      ],
      "metadata": {
        "colab": {
          "base_uri": "https://localhost:8080/"
        },
        "id": "AeYuEeMOAoqo",
        "outputId": "b1b1a44f-81fa-4b30-8921-4ba5936e67e3"
      },
      "execution_count": null,
      "outputs": [
        {
          "output_type": "stream",
          "name": "stdout",
          "text": [
            "Temperatura maxima:   26.8\n",
            "Temperatura minima:   4.4\n"
          ]
        }
      ]
    },
    {
      "cell_type": "markdown",
      "source": [
        "8. Diseñar una función que calcule el área y el perímetro de una circunferencia. "
      ],
      "metadata": {
        "id": "mnbDDrN9B3AN"
      }
    },
    {
      "cell_type": "code",
      "source": [
        "r = float(input('Escriba el radio de la circunferencia?    '))\n",
        "A= 3.1415*r*r\n",
        "P= 2*3.1415*r\n",
        "print(\"El área es: \",A)\n",
        "print(\"El perimetro es: \",P)"
      ],
      "metadata": {
        "id": "siifp6GFB8wG",
        "colab": {
          "base_uri": "https://localhost:8080/"
        },
        "outputId": "b253db97-4c1f-4ba1-da1f-2340917428ee"
      },
      "execution_count": 18,
      "outputs": [
        {
          "output_type": "stream",
          "name": "stdout",
          "text": [
            "Escriba el radio de la circunferencia?    6.5\n",
            "El área es:  132.728375\n",
            "El perimetro es:  40.8395\n"
          ]
        }
      ]
    },
    {
      "cell_type": "markdown",
      "source": [
        "9. Crear una función  llamada “Login”, que recibe un nombre de usuario y una contraseña y devuelva Verdadero si el nombre de usuario es “usuario1” y la contraseña es “asdasd”. Además recibe el número de intentos que se ha intentado hacer login y si no se ha podido hacer login incremente este valor."
      ],
      "metadata": {
        "id": "6xBLFQ_TIsKQ"
      }
    },
    {
      "cell_type": "code",
      "source": [
        "def Login(Usuario,Contraseña,intentos):\n",
        "  if Usuario==\"usuario1\" and Contraseña==\"asdasd\":\n",
        "      return \"Verdadero\"\n",
        "  else:\n",
        "    intentos += 1\n",
        "    return \"Falso\", intentos\n",
        "      \n",
        "    \n",
        "intentos = 0\n",
        "for i in range(10):\n",
        "  Usuario = input('Usuario:  ')\n",
        "  Contraseña=input('Contraseña:  ')\n",
        "\n",
        "  if Login(Usuario,Contraseña,intentos)==\"Verdadero\":\n",
        "    print(\"Verdadero\")\n",
        "    break\n",
        "  else:\n",
        "    print(\"Nombre de usuario o contraseña incorrectos\")\n",
        "    intentos += 1\n",
        "    print(\"Lleva \",intentos,\" intentos\")\n",
        "    \n"
      ],
      "metadata": {
        "id": "VK9zdGdcIuV9"
      },
      "execution_count": null,
      "outputs": []
    },
    {
      "cell_type": "markdown",
      "source": [
        "10. Crear una función recursiva que permita calcular el factorial de un número. Realiza un programa principal donde se lea un entero y se muestre el resultado del factorial. Revise la lección de funciones."
      ],
      "metadata": {
        "id": "jTHQfG8kVCcV"
      }
    },
    {
      "cell_type": "code",
      "source": [
        "def factorial(n):\n",
        "    if n == 0:\n",
        "        return 1\n",
        "    else:\n",
        "        return n * factorial(n - 1)\n",
        "\n",
        "n = int(input('Numero entero:  '))\n",
        "\n",
        "factorial(n)"
      ],
      "metadata": {
        "colab": {
          "base_uri": "https://localhost:8080/"
        },
        "id": "MKqXUgYuVJHq",
        "outputId": "9177d91f-5a6e-4205-8b99-46e0c9590d6a"
      },
      "execution_count": 48,
      "outputs": [
        {
          "name": "stdout",
          "output_type": "stream",
          "text": [
            "Numero entero:  4\n"
          ]
        },
        {
          "output_type": "execute_result",
          "data": {
            "text/plain": [
              "24"
            ]
          },
          "metadata": {},
          "execution_count": 48
        }
      ]
    },
    {
      "cell_type": "markdown",
      "source": [
        "11. Escribir dos funciones que permitan calcular:\n",
        "\n",
        "\n",
        "*  La cantidad de segundos en un tiempo dado en horas, minutos y segundos.\n",
        "*  La cantidad de horas, minutos y segundos de un tiempo dado en segundos\n",
        "\n",
        "\n"
      ],
      "metadata": {
        "id": "rlIpZTJ9WAJA"
      }
    },
    {
      "cell_type": "code",
      "source": [
        "def funcion1(horas, minutos, segundos):\n",
        "    total_segundos = horas * 3600 + minutos * 60 + segundos\n",
        "    return print(total_segundos)\n",
        "\n",
        "def funcion2(segundos):\n",
        "    horas = segundos // 3600\n",
        "    segundos_restantes = segundos % 3600\n",
        "    minutos = segundos_restantes // 60\n",
        "    segundos = segundos_restantes % 60\n",
        "    return horas, minutos, segundos\n",
        "\n",
        "\n",
        "print(\"Primera función horas, minutos y segundos a segundos: \")\n",
        "H= int(input('H:  '))\n",
        "M=int(input('M:  '))\n",
        "S=int(input('S:  '))\n",
        "funcion1(H, M, S)\n",
        "\n",
        "\n",
        "print(\"Segunda función  Segundos  a horas, minutos y segundos a\")\n",
        "Seg=int(input('Segundos:  '))   \n",
        "funcion2(Seg)"
      ],
      "metadata": {
        "colab": {
          "base_uri": "https://localhost:8080/"
        },
        "id": "7ogywy8WWCmO",
        "outputId": "12fa2de0-3f85-4737-a921-58ee82e2c965"
      },
      "execution_count": 59,
      "outputs": [
        {
          "name": "stdout",
          "output_type": "stream",
          "text": [
            "Primera función horas, minutos y segundos a segundos: \n",
            "H:  2\n",
            "M:  30\n",
            "S:  15\n",
            "9015\n",
            "Segunda función  Segundos  a horas, minutos y segundos a\n",
            "Segundos:  9015\n"
          ]
        },
        {
          "output_type": "execute_result",
          "data": {
            "text/plain": [
              "(2, 30, 15)"
            ]
          },
          "metadata": {},
          "execution_count": 59
        }
      ]
    },
    {
      "cell_type": "markdown",
      "source": [
        "12. Crea una función  que lea una tupla, invierta los valores de la tupla y regrese una nueva tupla invirtiendo los valores. Recuerde que las tuplas son inmutables."
      ],
      "metadata": {
        "id": "mnzzqW4thrVS"
      }
    },
    {
      "cell_type": "code",
      "source": [
        "def invertir_tupla(tupla_original):\n",
        "    tupla_invertida = ()\n",
        "    for i in range(len(tupla_original) - 1, -1, -1):\n",
        "        tupla_invertida += (tupla_original[i],)\n",
        "    return tupla_invertida\n",
        "\n",
        "mi_tupla = (\"Fabian\", \"Castellanos\", 22, \"Estadistica\")\n",
        "\n",
        "mi_tupla_invertida = invertir_tupla(mi_tupla)\n",
        "print(mi_tupla_invertida)"
      ],
      "metadata": {
        "colab": {
          "base_uri": "https://localhost:8080/"
        },
        "id": "5G1NA6YXiVGW",
        "outputId": "0ed6eb58-94b9-41ca-cacf-6093ff58bae3"
      },
      "execution_count": 79,
      "outputs": [
        {
          "output_type": "stream",
          "name": "stdout",
          "text": [
            "('Estadistica', 22, 'Castellanos', 'Fabian')\n"
          ]
        }
      ]
    },
    {
      "cell_type": "markdown",
      "source": [
        "13. Escriba una función que lea una lista y calcule la media geométrica de sus valores, usando funtools.reduce."
      ],
      "metadata": {
        "id": "_31L4q4Zm3Pt"
      }
    },
    {
      "cell_type": "code",
      "source": [
        "def media_geometrica(lista):\n",
        "  x=1\n",
        "  for i in range(len(lista)):\n",
        "    y=x*lista[i]\n",
        "    x=y\n",
        "  y1=pow(y, 1/(len(lista)))\n",
        "  print(y1)\n",
        "\n",
        "lista =[1.618,2,3.14,5.382,-8.5,13,-21,34.77,55]\n",
        "\n",
        "media_geometrica(lista)\n"
      ],
      "metadata": {
        "colab": {
          "base_uri": "https://localhost:8080/"
        },
        "id": "rVXpOoMwm9qg",
        "outputId": "392c6c88-f3f2-471d-8546-9ccf2b1d388f"
      },
      "execution_count": 94,
      "outputs": [
        {
          "output_type": "stream",
          "name": "stdout",
          "text": [
            "8.544174110830745\n"
          ]
        }
      ]
    }
  ]
}
