{
  "nbformat": 4,
  "nbformat_minor": 0,
  "metadata": {
    "colab": {
      "provenance": [],
      "authorship_tag": "ABX9TyMphYz/RQAEpobpNGFamHeY",
      "include_colab_link": true
    },
    "kernelspec": {
      "name": "python3",
      "display_name": "Python 3"
    },
    "language_info": {
      "name": "python"
    }
  },
  "cells": [
    {
      "cell_type": "markdown",
      "metadata": {
        "id": "view-in-github",
        "colab_type": "text"
      },
      "source": [
        "<a href=\"https://colab.research.google.com/github/FabianC22/Dimplomado_Ciencia_Datos/blob/main/Taller_3.ipynb\" target=\"_parent\"><img src=\"https://colab.research.google.com/assets/colab-badge.svg\" alt=\"Open In Colab\"/></a>"
      ]
    },
    {
      "cell_type": "markdown",
      "source": [
        "1. Consiga el conjunto de datos iris.csv. En el repositorio de Aprendizaje Profundo encuentra alguna versión.\n",
        "\n"
      ],
      "metadata": {
        "id": "fhjGXeNcuvGc"
      }
    },
    {
      "cell_type": "code",
      "source": [
        "from google.colab import files\n",
        "uploaded = files.upload()"
      ],
      "metadata": {
        "colab": {
          "base_uri": "https://localhost:8080/",
          "height": 70
        },
        "id": "1_OmhiVgkEym",
        "outputId": "657288c0-7a30-405a-9688-28a179374c72"
      },
      "execution_count": 89,
      "outputs": [
        {
          "output_type": "display_data",
          "data": {
            "text/plain": [
              "<IPython.core.display.HTML object>"
            ],
            "text/html": [
              "\n",
              "     <input type=\"file\" id=\"files-98765283-255a-4c59-8924-cb6c86fb6ce8\" name=\"files[]\" multiple disabled\n",
              "        style=\"border:none\" />\n",
              "     <output id=\"result-98765283-255a-4c59-8924-cb6c86fb6ce8\">\n",
              "      Upload widget is only available when the cell has been executed in the\n",
              "      current browser session. Please rerun this cell to enable.\n",
              "      </output>\n",
              "      <script>// Copyright 2017 Google LLC\n",
              "//\n",
              "// Licensed under the Apache License, Version 2.0 (the \"License\");\n",
              "// you may not use this file except in compliance with the License.\n",
              "// You may obtain a copy of the License at\n",
              "//\n",
              "//      http://www.apache.org/licenses/LICENSE-2.0\n",
              "//\n",
              "// Unless required by applicable law or agreed to in writing, software\n",
              "// distributed under the License is distributed on an \"AS IS\" BASIS,\n",
              "// WITHOUT WARRANTIES OR CONDITIONS OF ANY KIND, either express or implied.\n",
              "// See the License for the specific language governing permissions and\n",
              "// limitations under the License.\n",
              "\n",
              "/**\n",
              " * @fileoverview Helpers for google.colab Python module.\n",
              " */\n",
              "(function(scope) {\n",
              "function span(text, styleAttributes = {}) {\n",
              "  const element = document.createElement('span');\n",
              "  element.textContent = text;\n",
              "  for (const key of Object.keys(styleAttributes)) {\n",
              "    element.style[key] = styleAttributes[key];\n",
              "  }\n",
              "  return element;\n",
              "}\n",
              "\n",
              "// Max number of bytes which will be uploaded at a time.\n",
              "const MAX_PAYLOAD_SIZE = 100 * 1024;\n",
              "\n",
              "function _uploadFiles(inputId, outputId) {\n",
              "  const steps = uploadFilesStep(inputId, outputId);\n",
              "  const outputElement = document.getElementById(outputId);\n",
              "  // Cache steps on the outputElement to make it available for the next call\n",
              "  // to uploadFilesContinue from Python.\n",
              "  outputElement.steps = steps;\n",
              "\n",
              "  return _uploadFilesContinue(outputId);\n",
              "}\n",
              "\n",
              "// This is roughly an async generator (not supported in the browser yet),\n",
              "// where there are multiple asynchronous steps and the Python side is going\n",
              "// to poll for completion of each step.\n",
              "// This uses a Promise to block the python side on completion of each step,\n",
              "// then passes the result of the previous step as the input to the next step.\n",
              "function _uploadFilesContinue(outputId) {\n",
              "  const outputElement = document.getElementById(outputId);\n",
              "  const steps = outputElement.steps;\n",
              "\n",
              "  const next = steps.next(outputElement.lastPromiseValue);\n",
              "  return Promise.resolve(next.value.promise).then((value) => {\n",
              "    // Cache the last promise value to make it available to the next\n",
              "    // step of the generator.\n",
              "    outputElement.lastPromiseValue = value;\n",
              "    return next.value.response;\n",
              "  });\n",
              "}\n",
              "\n",
              "/**\n",
              " * Generator function which is called between each async step of the upload\n",
              " * process.\n",
              " * @param {string} inputId Element ID of the input file picker element.\n",
              " * @param {string} outputId Element ID of the output display.\n",
              " * @return {!Iterable<!Object>} Iterable of next steps.\n",
              " */\n",
              "function* uploadFilesStep(inputId, outputId) {\n",
              "  const inputElement = document.getElementById(inputId);\n",
              "  inputElement.disabled = false;\n",
              "\n",
              "  const outputElement = document.getElementById(outputId);\n",
              "  outputElement.innerHTML = '';\n",
              "\n",
              "  const pickedPromise = new Promise((resolve) => {\n",
              "    inputElement.addEventListener('change', (e) => {\n",
              "      resolve(e.target.files);\n",
              "    });\n",
              "  });\n",
              "\n",
              "  const cancel = document.createElement('button');\n",
              "  inputElement.parentElement.appendChild(cancel);\n",
              "  cancel.textContent = 'Cancel upload';\n",
              "  const cancelPromise = new Promise((resolve) => {\n",
              "    cancel.onclick = () => {\n",
              "      resolve(null);\n",
              "    };\n",
              "  });\n",
              "\n",
              "  // Wait for the user to pick the files.\n",
              "  const files = yield {\n",
              "    promise: Promise.race([pickedPromise, cancelPromise]),\n",
              "    response: {\n",
              "      action: 'starting',\n",
              "    }\n",
              "  };\n",
              "\n",
              "  cancel.remove();\n",
              "\n",
              "  // Disable the input element since further picks are not allowed.\n",
              "  inputElement.disabled = true;\n",
              "\n",
              "  if (!files) {\n",
              "    return {\n",
              "      response: {\n",
              "        action: 'complete',\n",
              "      }\n",
              "    };\n",
              "  }\n",
              "\n",
              "  for (const file of files) {\n",
              "    const li = document.createElement('li');\n",
              "    li.append(span(file.name, {fontWeight: 'bold'}));\n",
              "    li.append(span(\n",
              "        `(${file.type || 'n/a'}) - ${file.size} bytes, ` +\n",
              "        `last modified: ${\n",
              "            file.lastModifiedDate ? file.lastModifiedDate.toLocaleDateString() :\n",
              "                                    'n/a'} - `));\n",
              "    const percent = span('0% done');\n",
              "    li.appendChild(percent);\n",
              "\n",
              "    outputElement.appendChild(li);\n",
              "\n",
              "    const fileDataPromise = new Promise((resolve) => {\n",
              "      const reader = new FileReader();\n",
              "      reader.onload = (e) => {\n",
              "        resolve(e.target.result);\n",
              "      };\n",
              "      reader.readAsArrayBuffer(file);\n",
              "    });\n",
              "    // Wait for the data to be ready.\n",
              "    let fileData = yield {\n",
              "      promise: fileDataPromise,\n",
              "      response: {\n",
              "        action: 'continue',\n",
              "      }\n",
              "    };\n",
              "\n",
              "    // Use a chunked sending to avoid message size limits. See b/62115660.\n",
              "    let position = 0;\n",
              "    do {\n",
              "      const length = Math.min(fileData.byteLength - position, MAX_PAYLOAD_SIZE);\n",
              "      const chunk = new Uint8Array(fileData, position, length);\n",
              "      position += length;\n",
              "\n",
              "      const base64 = btoa(String.fromCharCode.apply(null, chunk));\n",
              "      yield {\n",
              "        response: {\n",
              "          action: 'append',\n",
              "          file: file.name,\n",
              "          data: base64,\n",
              "        },\n",
              "      };\n",
              "\n",
              "      let percentDone = fileData.byteLength === 0 ?\n",
              "          100 :\n",
              "          Math.round((position / fileData.byteLength) * 100);\n",
              "      percent.textContent = `${percentDone}% done`;\n",
              "\n",
              "    } while (position < fileData.byteLength);\n",
              "  }\n",
              "\n",
              "  // All done.\n",
              "  yield {\n",
              "    response: {\n",
              "      action: 'complete',\n",
              "    }\n",
              "  };\n",
              "}\n",
              "\n",
              "scope.google = scope.google || {};\n",
              "scope.google.colab = scope.google.colab || {};\n",
              "scope.google.colab._files = {\n",
              "  _uploadFiles,\n",
              "  _uploadFilesContinue,\n",
              "};\n",
              "})(self);\n",
              "</script> "
            ]
          },
          "metadata": {}
        },
        {
          "output_type": "stream",
          "name": "stdout",
          "text": [
            "Saving iris_dataset.csv to iris_dataset (2).csv\n"
          ]
        }
      ]
    },
    {
      "cell_type": "code",
      "source": [
        "import pandas as pd\n",
        "import io\n",
        "import matplotlib.pyplot as plt\n",
        "df = pd.read_csv(io.BytesIO(uploaded['iris_dataset.csv']))\n",
        "print(df)"
      ],
      "metadata": {
        "colab": {
          "base_uri": "https://localhost:8080/"
        },
        "id": "g7IpwBn8igrT",
        "outputId": "d091db45-a669-4f06-f20b-9060b2b801b3"
      },
      "execution_count": 131,
      "outputs": [
        {
          "output_type": "stream",
          "name": "stdout",
          "text": [
            "     sepal length (cm)  sepal width (cm)  petal length (cm)  petal width (cm)  \\\n",
            "0                  5.1               3.5                1.4               0.2   \n",
            "1                  4.9               3.0                1.4               0.2   \n",
            "2                  4.7               3.2                1.3               0.2   \n",
            "3                  4.6               3.1                1.5               0.2   \n",
            "4                  5.0               3.6                1.4               0.2   \n",
            "..                 ...               ...                ...               ...   \n",
            "145                6.7               3.0                5.2               2.3   \n",
            "146                6.3               2.5                5.0               1.9   \n",
            "147                6.5               3.0                5.2               2.0   \n",
            "148                6.2               3.4                5.4               2.3   \n",
            "149                5.9               3.0                5.1               1.8   \n",
            "\n",
            "             target  \n",
            "0       Iris-setosa  \n",
            "1       Iris-setosa  \n",
            "2       Iris-setosa  \n",
            "3       Iris-setosa  \n",
            "4       Iris-setosa  \n",
            "..              ...  \n",
            "145  Iris-virginica  \n",
            "146  Iris-virginica  \n",
            "147  Iris-virginica  \n",
            "148  Iris-virginica  \n",
            "149  Iris-virginica  \n",
            "\n",
            "[150 rows x 5 columns]\n"
          ]
        }
      ]
    },
    {
      "cell_type": "markdown",
      "source": [
        "2. Escriba una clase iterable que tenga la siguiente funcionalidad \n"
      ],
      "metadata": {
        "id": "uvwaWNDfvELu"
      }
    },
    {
      "cell_type": "code",
      "source": [
        "class Datos:\n",
        "    def __init__(self, archivo):\n",
        "        self.archivo = archivo\n",
        "        self.df = None\n",
        "\n",
        "    def cargar_datos(self):\n",
        "        self.df = pd.read_csv(self.archivo)\n",
        "\n",
        "    def mostrar_datos(self,n):\n",
        "        if self.df is not None:\n",
        "          dt=self.df.head(n)\n",
        "          #print(dt)\n",
        "          return dt\n",
        "        \n"
      ],
      "metadata": {
        "id": "RalNkoZasalE"
      },
      "execution_count": 100,
      "outputs": []
    },
    {
      "cell_type": "markdown",
      "source": [
        "2.1. Al instanciar un objeto, lee el archivo de datos y lo coloca en un dataframe interno en la clase.\n",
        "\n",
        "2.2. Cada vez que se le pidan datos, debe regresar los dos siguientes datos.\n",
        "\n",
        "2.3. Entregue un error si los datos se han agotado"
      ],
      "metadata": {
        "id": "sOG7VXkDvR7p"
      }
    },
    {
      "cell_type": "code",
      "source": [
        "n= int(input('Cantidad de obsevaciones?    '))\n",
        "datos = Datos('iris_dataset.csv')\n",
        "datos.cargar_datos()\n",
        "if n<= 150:\n",
        "  df1=datos.mostrar_datos(n)\n",
        "  df1= pd.DataFrame(df1)\n",
        "  print(df1)\n",
        "if n > 150:\n",
        "  print(\"No hay sufientes datos\")\n"
      ],
      "metadata": {
        "colab": {
          "base_uri": "https://localhost:8080/"
        },
        "id": "kXKPzVTvtG3I",
        "outputId": "91190622-2f74-48e1-fc03-9fad10954f91"
      },
      "execution_count": 102,
      "outputs": [
        {
          "output_type": "stream",
          "name": "stdout",
          "text": [
            "Cantidad de obsevaciones?    14\n",
            "    sepal length (cm)  sepal width (cm)  petal length (cm)  petal width (cm)  \\\n",
            "0                 5.1               3.5                1.4               0.2   \n",
            "1                 4.9               3.0                1.4               0.2   \n",
            "2                 4.7               3.2                1.3               0.2   \n",
            "3                 4.6               3.1                1.5               0.2   \n",
            "4                 5.0               3.6                1.4               0.2   \n",
            "5                 5.4               3.9                1.7               0.4   \n",
            "6                 4.6               3.4                1.4               0.3   \n",
            "7                 5.0               3.4                1.5               0.2   \n",
            "8                 4.4               2.9                1.4               0.2   \n",
            "9                 4.9               3.1                1.5               0.1   \n",
            "10                5.4               3.7                1.5               0.2   \n",
            "11                4.8               3.4                1.6               0.2   \n",
            "12                4.8               3.0                1.4               0.1   \n",
            "13                4.3               3.0                1.1               0.1   \n",
            "\n",
            "         target  \n",
            "0   Iris-setosa  \n",
            "1   Iris-setosa  \n",
            "2   Iris-setosa  \n",
            "3   Iris-setosa  \n",
            "4   Iris-setosa  \n",
            "5   Iris-setosa  \n",
            "6   Iris-setosa  \n",
            "7   Iris-setosa  \n",
            "8   Iris-setosa  \n",
            "9   Iris-setosa  \n",
            "10  Iris-setosa  \n",
            "11  Iris-setosa  \n",
            "12  Iris-setosa  \n",
            "13  Iris-setosa  \n"
          ]
        }
      ]
    },
    {
      "cell_type": "markdown",
      "source": [
        "3. Escriba una clase con las siguientes funcionalidades:\n",
        "\n",
        "3.1. Al instanciar un objeto, lee un conjunto de datos numéricos. Por ejemplo puede usar el mismo conjunto de datos iris.csv. Instancie los datos en un dataframe de Pandas\n"
      ],
      "metadata": {
        "id": "ScivoY7pDwPY"
      }
    },
    {
      "cell_type": "code",
      "execution_count": 146,
      "metadata": {
        "id": "yhjFFjVYulwv"
      },
      "outputs": [],
      "source": [
        "class Analisis:\n",
        "    def __init__(self, df1,variable):\n",
        "        self.stats = df1.describe()\n",
        "        self.Nombres = df1.columns\n",
        "        self.Esta = df1[variable].describe()\n",
        "\n",
        "    def Estadisticas(self):\n",
        "      return print(self.stats)\n",
        "\n",
        "    def Nombres(self):\n",
        "      return print(self.Nombres)\n",
        "    \n",
        "    def Analisis_variable(self):\n",
        "      self.Histo=plt.hist(df1[variable])\n",
        "      self.Histo=plt.show()\n",
        "      return self.Esta\n"
      ]
    },
    {
      "cell_type": "code",
      "source": [
        "variable= input('Nombre la variable:   ')\n",
        "r = Analisis(df1,variable)"
      ],
      "metadata": {
        "colab": {
          "base_uri": "https://localhost:8080/"
        },
        "id": "LK_NrgiMj2ms",
        "outputId": "992711ae-1282-4c28-f12d-4b4b430797e3"
      },
      "execution_count": 148,
      "outputs": [
        {
          "name": "stdout",
          "output_type": "stream",
          "text": [
            "Nombre la variable:   petal length (cm)\n"
          ]
        }
      ]
    },
    {
      "cell_type": "markdown",
      "source": [
        "3.2 Implemente un método que calcule las estadísticas descriptivas básicas de cada una de las variables.\n"
      ],
      "metadata": {
        "id": "n5u0Ktxfh8R2"
      }
    },
    {
      "cell_type": "code",
      "source": [
        "print(r.Estadisticas()) "
      ],
      "metadata": {
        "colab": {
          "base_uri": "https://localhost:8080/"
        },
        "id": "uR4liIXibKDG",
        "outputId": "e88e864d-d8b3-46c2-d32d-918020c7c57c"
      },
      "execution_count": 149,
      "outputs": [
        {
          "output_type": "stream",
          "name": "stdout",
          "text": [
            "       sepal length (cm)  sepal width (cm)  petal length (cm)  \\\n",
            "count          14.000000         14.000000          14.000000   \n",
            "mean            4.850000          3.300000           1.435714   \n",
            "std             0.325222          0.303822           0.139268   \n",
            "min             4.300000          2.900000           1.100000   \n",
            "25%             4.625000          3.025000           1.400000   \n",
            "50%             4.850000          3.300000           1.400000   \n",
            "75%             5.000000          3.475000           1.500000   \n",
            "max             5.400000          3.900000           1.700000   \n",
            "\n",
            "       petal width (cm)  \n",
            "count         14.000000  \n",
            "mean           0.200000  \n",
            "std            0.078446  \n",
            "min            0.100000  \n",
            "25%            0.200000  \n",
            "50%            0.200000  \n",
            "75%            0.200000  \n",
            "max            0.400000  \n",
            "None\n"
          ]
        }
      ]
    },
    {
      "cell_type": "markdown",
      "source": [
        "3.3 Implemente un método que entregue los nombre de las variables disponibles.\n",
        "\n"
      ],
      "metadata": {
        "id": "5bmNOXp5iF11"
      }
    },
    {
      "cell_type": "code",
      "source": [
        "print(r.Nombres) "
      ],
      "metadata": {
        "colab": {
          "base_uri": "https://localhost:8080/"
        },
        "id": "Z2hjZ8nkiKc8",
        "outputId": "fc09f93f-7d0c-4ee0-9754-846299fa7d35"
      },
      "execution_count": 150,
      "outputs": [
        {
          "output_type": "stream",
          "name": "stdout",
          "text": [
            "Index(['sepal length (cm)', 'sepal width (cm)', 'petal length (cm)',\n",
            "       'petal width (cm)', 'target'],\n",
            "      dtype='object')\n"
          ]
        }
      ]
    },
    {
      "cell_type": "markdown",
      "source": [
        "3.3 Implemente un método que reciba el nombre de una variable disponible dentro del objeto ( en el dataframe) y regrese: sus estadísticas básicas: media, mediana, desviación, percentiles q25, q50, q75 y dibuje un histograma de la distribución de la variable."
      ],
      "metadata": {
        "id": "Og8Nh7hPioER"
      }
    },
    {
      "cell_type": "code",
      "source": [
        "print(r.Analisis_variable()) "
      ],
      "metadata": {
        "colab": {
          "base_uri": "https://localhost:8080/",
          "height": 586
        },
        "id": "52QAMn63iumF",
        "outputId": "58e02403-a1ba-4b58-9994-3e035a9eaec4"
      },
      "execution_count": 151,
      "outputs": [
        {
          "output_type": "display_data",
          "data": {
            "text/plain": [
              "<Figure size 640x480 with 1 Axes>"
            ],
            "image/png": "[encoded data removed]"
          },
          "metadata": {}
        },
        {
          "output_type": "stream",
          "name": "stdout",
          "text": [
            "count    14.000000\n",
            "mean      1.435714\n",
            "std       0.139268\n",
            "min       1.100000\n",
            "25%       1.400000\n",
            "50%       1.400000\n",
            "75%       1.500000\n",
            "max       1.700000\n",
            "Name: petal length (cm), dtype: float64\n"
          ]
        }
      ]
    }
  ]
}
